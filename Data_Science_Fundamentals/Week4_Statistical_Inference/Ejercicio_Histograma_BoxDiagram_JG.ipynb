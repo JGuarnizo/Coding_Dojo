{
  "nbformat": 4,
  "nbformat_minor": 0,
  "metadata": {
    "colab": {
      "name": "Ejercicio_Histograma_BoxDiagram_JG.ipynb",
      "provenance": [],
      "collapsed_sections": [],
      "authorship_tag": "ABX9TyOdGzMm0OXMDTpyL/jLl0QR",
      "include_colab_link": true
    },
    "kernelspec": {
      "name": "python3",
      "display_name": "Python 3"
    },
    "language_info": {
      "name": "python"
    }
  },
  "cells": [
    {
      "cell_type": "markdown",
      "metadata": {
        "id": "view-in-github",
        "colab_type": "text"
      },
      "source": [
        "<a href=\"https://colab.research.google.com/github/JGuarnizo/Coding_Dojo/blob/main/Data_Science_Fundamentals/Week4_Statistical_Inference/Ejercicio_Histograma_BoxDiagram_JG.ipynb\" target=\"_parent\"><img src=\"https://colab.research.google.com/assets/colab-badge.svg\" alt=\"Open In Colab\"/></a>"
      ]
    },
    {
      "cell_type": "markdown",
      "source": [
        "# Ejercicio de Histogramas y Diagramas de caja\n",
        "##Por: José Guarnizo\n",
        "##Fecha: 29/01/2022\n",
        "\n",
        "Los datos para este ejercicio son de Data.World y poseen información sobre la posesión de perros y gatos en los Estados Unidos."
      ],
      "metadata": {
        "id": "pXMahjhsT3Iq"
      }
    },
    {
      "cell_type": "markdown",
      "source": [
        "## Importación de librerías"
      ],
      "metadata": {
        "id": "rRoRTCOzVXXY"
      }
    },
    {
      "cell_type": "code",
      "source": [
        "import pandas as pd\n",
        "import numpy as np\n",
        "import matplotlib.pyplot as plt\n"
      ],
      "metadata": {
        "id": "SIyZV6Qw_T2A"
      },
      "execution_count": 93,
      "outputs": []
    },
    {
      "cell_type": "markdown",
      "source": [
        "## Lectura de datos del archivo catvsdogs.xlsx desde la página web data.world"
      ],
      "metadata": {
        "id": "3jLo1DiVVbWI"
      }
    },
    {
      "cell_type": "code",
      "source": [
        "filename = 'https://query.data.world/s/sn5xsck4peaokif6g3mlvhlzvdrnir'"
      ],
      "metadata": {
        "id": "Efo0jnHv_iFg"
      },
      "execution_count": 94,
      "outputs": []
    },
    {
      "cell_type": "code",
      "source": [
        "df = pd.read_excel(filename)\n",
        "df.info()"
      ],
      "metadata": {
        "colab": {
          "base_uri": "https://localhost:8080/"
        },
        "id": "zSdqVqcX_mgv",
        "outputId": "7cb69381-d437-459e-886b-8ae7963eea5e"
      },
      "execution_count": 95,
      "outputs": [
        {
          "output_type": "stream",
          "name": "stdout",
          "text": [
            "<class 'pandas.core.frame.DataFrame'>\n",
            "RangeIndex: 49 entries, 0 to 48\n",
            "Data columns (total 12 columns):\n",
            " #   Column                              Non-Null Count  Dtype  \n",
            "---  ------                              --------------  -----  \n",
            " 0   Location                            49 non-null     object \n",
            " 1   Number of Households (in 1000)      49 non-null     int64  \n",
            " 2   Percentage of households with pets  49 non-null     float64\n",
            " 3   Number of Pet Households (in 1000)  49 non-null     int64  \n",
            " 4   Percentage of Dog Owners            49 non-null     float64\n",
            " 5   Dog Owning Households (1000s)       49 non-null     int64  \n",
            " 6   Mean Number of Dogs per household   49 non-null     float64\n",
            " 7   Dog Population (in 1000)            49 non-null     int64  \n",
            " 8   Percentage of Cat Owners            49 non-null     float64\n",
            " 9   Cat Owning Households               49 non-null     int64  \n",
            " 10  Mean Number of Cats                 49 non-null     float64\n",
            " 11  Cat Population                      49 non-null     int64  \n",
            "dtypes: float64(5), int64(6), object(1)\n",
            "memory usage: 4.7+ KB\n"
          ]
        }
      ]
    },
    {
      "cell_type": "code",
      "source": [
        "df.head()"
      ],
      "metadata": {
        "colab": {
          "base_uri": "https://localhost:8080/",
          "height": 284
        },
        "id": "x_3UN92JAFBX",
        "outputId": "2dc2ef41-5412-45d1-bad5-b4c30b6402d3"
      },
      "execution_count": 96,
      "outputs": [
        {
          "output_type": "execute_result",
          "data": {
            "text/html": [
              "\n",
              "  <div id=\"df-b5e968e6-4a84-4083-b9e4-a3977edcc7d9\">\n",
              "    <div class=\"colab-df-container\">\n",
              "      <div>\n",
              "<style scoped>\n",
              "    .dataframe tbody tr th:only-of-type {\n",
              "        vertical-align: middle;\n",
              "    }\n",
              "\n",
              "    .dataframe tbody tr th {\n",
              "        vertical-align: top;\n",
              "    }\n",
              "\n",
              "    .dataframe thead th {\n",
              "        text-align: right;\n",
              "    }\n",
              "</style>\n",
              "<table border=\"1\" class=\"dataframe\">\n",
              "  <thead>\n",
              "    <tr style=\"text-align: right;\">\n",
              "      <th></th>\n",
              "      <th>Location</th>\n",
              "      <th>Number of Households (in 1000)</th>\n",
              "      <th>Percentage of households with pets</th>\n",
              "      <th>Number of Pet Households (in 1000)</th>\n",
              "      <th>Percentage of Dog Owners</th>\n",
              "      <th>Dog Owning Households (1000s)</th>\n",
              "      <th>Mean Number of Dogs per household</th>\n",
              "      <th>Dog Population (in 1000)</th>\n",
              "      <th>Percentage of Cat Owners</th>\n",
              "      <th>Cat Owning Households</th>\n",
              "      <th>Mean Number of Cats</th>\n",
              "      <th>Cat Population</th>\n",
              "    </tr>\n",
              "  </thead>\n",
              "  <tbody>\n",
              "    <tr>\n",
              "      <th>0</th>\n",
              "      <td>Alabama</td>\n",
              "      <td>1828</td>\n",
              "      <td>59.5</td>\n",
              "      <td>1088</td>\n",
              "      <td>44.1</td>\n",
              "      <td>807</td>\n",
              "      <td>1.7</td>\n",
              "      <td>1410</td>\n",
              "      <td>27.4</td>\n",
              "      <td>501</td>\n",
              "      <td>2.5</td>\n",
              "      <td>1252</td>\n",
              "    </tr>\n",
              "    <tr>\n",
              "      <th>1</th>\n",
              "      <td>Arizona</td>\n",
              "      <td>2515</td>\n",
              "      <td>59.5</td>\n",
              "      <td>1497</td>\n",
              "      <td>40.1</td>\n",
              "      <td>1008</td>\n",
              "      <td>1.8</td>\n",
              "      <td>1798</td>\n",
              "      <td>29.6</td>\n",
              "      <td>743</td>\n",
              "      <td>1.9</td>\n",
              "      <td>1438</td>\n",
              "    </tr>\n",
              "    <tr>\n",
              "      <th>2</th>\n",
              "      <td>Arkansas</td>\n",
              "      <td>1148</td>\n",
              "      <td>62.4</td>\n",
              "      <td>716</td>\n",
              "      <td>47.9</td>\n",
              "      <td>550</td>\n",
              "      <td>2.0</td>\n",
              "      <td>1097</td>\n",
              "      <td>30.6</td>\n",
              "      <td>351</td>\n",
              "      <td>2.3</td>\n",
              "      <td>810</td>\n",
              "    </tr>\n",
              "    <tr>\n",
              "      <th>3</th>\n",
              "      <td>California</td>\n",
              "      <td>12974</td>\n",
              "      <td>52.9</td>\n",
              "      <td>6865</td>\n",
              "      <td>32.8</td>\n",
              "      <td>4260</td>\n",
              "      <td>1.6</td>\n",
              "      <td>6687</td>\n",
              "      <td>28.3</td>\n",
              "      <td>3687</td>\n",
              "      <td>1.9</td>\n",
              "      <td>7118</td>\n",
              "    </tr>\n",
              "    <tr>\n",
              "      <th>4</th>\n",
              "      <td>Colorado</td>\n",
              "      <td>1986</td>\n",
              "      <td>61.3</td>\n",
              "      <td>1217</td>\n",
              "      <td>42.5</td>\n",
              "      <td>845</td>\n",
              "      <td>1.6</td>\n",
              "      <td>1349</td>\n",
              "      <td>32.3</td>\n",
              "      <td>642</td>\n",
              "      <td>1.9</td>\n",
              "      <td>1191</td>\n",
              "    </tr>\n",
              "  </tbody>\n",
              "</table>\n",
              "</div>\n",
              "      <button class=\"colab-df-convert\" onclick=\"convertToInteractive('df-b5e968e6-4a84-4083-b9e4-a3977edcc7d9')\"\n",
              "              title=\"Convert this dataframe to an interactive table.\"\n",
              "              style=\"display:none;\">\n",
              "        \n",
              "  <svg xmlns=\"http://www.w3.org/2000/svg\" height=\"24px\"viewBox=\"0 0 24 24\"\n",
              "       width=\"24px\">\n",
              "    <path d=\"M0 0h24v24H0V0z\" fill=\"none\"/>\n",
              "    <path d=\"M18.56 5.44l.94 2.06.94-2.06 2.06-.94-2.06-.94-.94-2.06-.94 2.06-2.06.94zm-11 1L8.5 8.5l.94-2.06 2.06-.94-2.06-.94L8.5 2.5l-.94 2.06-2.06.94zm10 10l.94 2.06.94-2.06 2.06-.94-2.06-.94-.94-2.06-.94 2.06-2.06.94z\"/><path d=\"M17.41 7.96l-1.37-1.37c-.4-.4-.92-.59-1.43-.59-.52 0-1.04.2-1.43.59L10.3 9.45l-7.72 7.72c-.78.78-.78 2.05 0 2.83L4 21.41c.39.39.9.59 1.41.59.51 0 1.02-.2 1.41-.59l7.78-7.78 2.81-2.81c.8-.78.8-2.07 0-2.86zM5.41 20L4 18.59l7.72-7.72 1.47 1.35L5.41 20z\"/>\n",
              "  </svg>\n",
              "      </button>\n",
              "      \n",
              "  <style>\n",
              "    .colab-df-container {\n",
              "      display:flex;\n",
              "      flex-wrap:wrap;\n",
              "      gap: 12px;\n",
              "    }\n",
              "\n",
              "    .colab-df-convert {\n",
              "      background-color: #E8F0FE;\n",
              "      border: none;\n",
              "      border-radius: 50%;\n",
              "      cursor: pointer;\n",
              "      display: none;\n",
              "      fill: #1967D2;\n",
              "      height: 32px;\n",
              "      padding: 0 0 0 0;\n",
              "      width: 32px;\n",
              "    }\n",
              "\n",
              "    .colab-df-convert:hover {\n",
              "      background-color: #E2EBFA;\n",
              "      box-shadow: 0px 1px 2px rgba(60, 64, 67, 0.3), 0px 1px 3px 1px rgba(60, 64, 67, 0.15);\n",
              "      fill: #174EA6;\n",
              "    }\n",
              "\n",
              "    [theme=dark] .colab-df-convert {\n",
              "      background-color: #3B4455;\n",
              "      fill: #D2E3FC;\n",
              "    }\n",
              "\n",
              "    [theme=dark] .colab-df-convert:hover {\n",
              "      background-color: #434B5C;\n",
              "      box-shadow: 0px 1px 3px 1px rgba(0, 0, 0, 0.15);\n",
              "      filter: drop-shadow(0px 1px 2px rgba(0, 0, 0, 0.3));\n",
              "      fill: #FFFFFF;\n",
              "    }\n",
              "  </style>\n",
              "\n",
              "      <script>\n",
              "        const buttonEl =\n",
              "          document.querySelector('#df-b5e968e6-4a84-4083-b9e4-a3977edcc7d9 button.colab-df-convert');\n",
              "        buttonEl.style.display =\n",
              "          google.colab.kernel.accessAllowed ? 'block' : 'none';\n",
              "\n",
              "        async function convertToInteractive(key) {\n",
              "          const element = document.querySelector('#df-b5e968e6-4a84-4083-b9e4-a3977edcc7d9');\n",
              "          const dataTable =\n",
              "            await google.colab.kernel.invokeFunction('convertToInteractive',\n",
              "                                                     [key], {});\n",
              "          if (!dataTable) return;\n",
              "\n",
              "          const docLinkHtml = 'Like what you see? Visit the ' +\n",
              "            '<a target=\"_blank\" href=https://colab.research.google.com/notebooks/data_table.ipynb>data table notebook</a>'\n",
              "            + ' to learn more about interactive tables.';\n",
              "          element.innerHTML = '';\n",
              "          dataTable['output_type'] = 'display_data';\n",
              "          await google.colab.output.renderOutput(dataTable, element);\n",
              "          const docLink = document.createElement('div');\n",
              "          docLink.innerHTML = docLinkHtml;\n",
              "          element.appendChild(docLink);\n",
              "        }\n",
              "      </script>\n",
              "    </div>\n",
              "  </div>\n",
              "  "
            ],
            "text/plain": [
              "     Location  ...  Cat Population\n",
              "0     Alabama  ...            1252\n",
              "1     Arizona  ...            1438\n",
              "2    Arkansas  ...             810\n",
              "3  California  ...            7118\n",
              "4    Colorado  ...            1191\n",
              "\n",
              "[5 rows x 12 columns]"
            ]
          },
          "metadata": {},
          "execution_count": 96
        }
      ]
    },
    {
      "cell_type": "code",
      "source": [
        "df['Dog Owning Households (1000s)'].sum()"
      ],
      "metadata": {
        "colab": {
          "base_uri": "https://localhost:8080/"
        },
        "id": "fIk0WNj1R-ST",
        "outputId": "c1b60067-5459-4ce0-fb66-e1429db576e0"
      },
      "execution_count": 97,
      "outputs": [
        {
          "output_type": "execute_result",
          "data": {
            "text/plain": [
              "42942"
            ]
          },
          "metadata": {},
          "execution_count": 97
        }
      ]
    },
    {
      "cell_type": "code",
      "source": [
        "df['Cat Owning Households'].sum()"
      ],
      "metadata": {
        "colab": {
          "base_uri": "https://localhost:8080/"
        },
        "id": "FOWZ4X1zSHh5",
        "outputId": "99d1a8b3-9520-4d3e-9bc3-81f1bb5bb337"
      },
      "execution_count": 98,
      "outputs": [
        {
          "output_type": "execute_result",
          "data": {
            "text/plain": [
              "35675"
            ]
          },
          "metadata": {},
          "execution_count": 98
        }
      ]
    },
    {
      "cell_type": "markdown",
      "source": [
        "## 1. Traza un histograma del porcentaje de poseedores de perros."
      ],
      "metadata": {
        "id": "81G3b3hBARdm"
      }
    },
    {
      "cell_type": "code",
      "source": [
        "plt.style.use('seaborn')\n",
        "df['Percentage of Dog Owners'].hist(bins=7, edgecolor='black')\n",
        "plt.xticks(fontsize = 14)\n",
        "plt.yticks(fontsize = 14)\n",
        "plt.xlabel('Percentage of dog owners', fontsize=16)\n",
        "plt.ylabel('Count', fontsize=16)\n",
        "plt.title('Dog owners histogram', fontsize=20);"
      ],
      "metadata": {
        "colab": {
          "base_uri": "https://localhost:8080/",
          "height": 391
        },
        "id": "lTmF_orYAVXm",
        "outputId": "7d9001ce-2026-4cb3-cce4-51f198049666"
      },
      "execution_count": 99,
      "outputs": [
        {
          "output_type": "display_data",
          "data": {
            "image/png": "[encoded data removed]",
            "text/plain": [
              "<Figure size 576x396 with 1 Axes>"
            ]
          },
          "metadata": {}
        }
      ]
    },
    {
      "cell_type": "markdown",
      "source": [
        "## 2. Traza un histograma del porcentaje de poseedores de gatos."
      ],
      "metadata": {
        "id": "VMZUNkoMA_Qe"
      }
    },
    {
      "cell_type": "code",
      "source": [
        "df['Percentage of Cat Owners'].hist(bins=15, edgecolor='black', color='orange')\n",
        "plt.xticks(fontsize = 14)\n",
        "plt.yticks(fontsize = 14)\n",
        "plt.xlabel('Percentage of cat owners', fontsize=16)\n",
        "plt.ylabel('Count', fontsize=16)\n",
        "plt.title('Cat owners histogram', fontsize=20);"
      ],
      "metadata": {
        "colab": {
          "base_uri": "https://localhost:8080/",
          "height": 391
        },
        "id": "VunvV1I8BAlv",
        "outputId": "4c067770-478d-456b-9320-370c1550780b"
      },
      "execution_count": 100,
      "outputs": [
        {
          "output_type": "display_data",
          "data": {
            "image/png": "[encoded data removed]",
            "text/plain": [
              "<Figure size 576x396 with 1 Axes>"
            ]
          },
          "metadata": {}
        }
      ]
    },
    {
      "cell_type": "markdown",
      "source": [
        "## 3a. ¿Qué podemos ver al comparar estos dos histogramas? ¿Qué información nos da?"
      ],
      "metadata": {
        "id": "VNNHiFfzCFpf"
      }
    },
    {
      "cell_type": "markdown",
      "source": [
        "* En la mayoría de estados los hogares tienen como mascota a perros. Hay más hogares con perros que con gatos\n",
        "** El porcentaje de hogares con perros es igual o mayor al 35% en 36 de 49 \n",
        "estados\n",
        "** El porcentaje de hogares con gatos es igual o mayor al 35% de 9 de 49 estados.\n",
        "* En ambos gráficos se compara la cantidad de hogares con perros o gatos con respecto al número total de hogares por estado.\n",
        "* Tanto en el gráfico de perros o de gatos se tiene un valor atípico al incio situado entre el 10-15%\n",
        "* El gráfico indica la cantidad de hogares por cada mascota, no indica cuántas mascotas hay por hogar. Por lo tanto, no se puede inferir que existan más perros que gatos en EE.UU.\n",
        "\n"
      ],
      "metadata": {
        "id": "fTK6ZV82CI0d"
      }
    },
    {
      "cell_type": "markdown",
      "source": [
        "## 3b. Opcional/Extra: traza estos dos histogramas en el mismo plot. "
      ],
      "metadata": {
        "id": "D7FOINuJCKBV"
      }
    },
    {
      "cell_type": "code",
      "source": [
        "df['Percentage of Dog Owners'].hist(bins=7, edgecolor='black', alpha=0.7)\n",
        "df['Percentage of Cat Owners'].hist(bins=15, edgecolor='black', alpha=0.7, color='orange')\n",
        "plt.xticks(fontsize = 14)\n",
        "plt.yticks(fontsize = 14)\n",
        "plt.xlabel('Percentage of animal owners', fontsize=16)\n",
        "plt.ylabel('Count', fontsize=16)\n",
        "plt.title('Animal owners histogram', fontsize=20);"
      ],
      "metadata": {
        "colab": {
          "base_uri": "https://localhost:8080/",
          "height": 391
        },
        "id": "Ir7MZNGvCIBd",
        "outputId": "6fda081b-64e0-42cb-f4bd-c76aa949c3d7"
      },
      "execution_count": 101,
      "outputs": [
        {
          "output_type": "display_data",
          "data": {
            "image/png": "[encoded data removed]",
            "text/plain": [
              "<Figure size 576x396 with 1 Axes>"
            ]
          },
          "metadata": {}
        }
      ]
    },
    {
      "cell_type": "markdown",
      "source": [
        "## 4. Crea dos diagramas de caja en el mismo plot: uno con el número medio de gatos por hogar y el otro, del número medio de perros. Más abajo, un ejemplo de cómo podría lucir:\n",
        "\n"
      ],
      "metadata": {
        "id": "O5pmeKrYGKTu"
      }
    },
    {
      "cell_type": "code",
      "source": [
        "cats = df.loc[:,'Mean Number of Cats']\n",
        "dogs = df.loc[:,'Mean Number of Dogs per household']\n",
        "fig, axes = plt.subplots(nrows = 1, ncols = 1, figsize = (8,5))\n",
        "boxplots = axes.boxplot([cats,dogs],\n",
        "           notch = True,\n",
        "           labels=['Cats', 'Dogs'],\n",
        "           widths = .7,\n",
        "           patch_artist=True,\n",
        "           medianprops = dict(linestyle='-', linewidth=2, color='Yellow'),\n",
        "           boxprops = dict(linestyle='--', linewidth=2, color='Black', facecolor = 'blue', alpha = .4)\n",
        "          )\n",
        "boxplot1 = boxplots['boxes'][0]\n",
        "boxplot1.set_facecolor('orange')\n",
        "plt.xticks(fontsize = 16)\n",
        "plt.yticks(fontsize = 16)\n",
        "plt.xlabel('Animals', fontsize=16)\n",
        "plt.ylabel('Mean Number of Animals per State', fontsize=16);"
      ],
      "metadata": {
        "colab": {
          "base_uri": "https://localhost:8080/",
          "height": 344
        },
        "id": "CFVWbtJ6HLK_",
        "outputId": "37a1265c-c066-41b6-e777-3c6fd97f2920"
      },
      "execution_count": 102,
      "outputs": [
        {
          "output_type": "display_data",
          "data": {
            "image/png": "[encoded data removed]",
            "text/plain": [
              "<Figure size 576x360 with 1 Axes>"
            ]
          },
          "metadata": {}
        }
      ]
    },
    {
      "cell_type": "markdown",
      "source": [
        "## 5. ¿Qué podemos ver al comparar estos dos diagramas de caja? ¿Qué información nos da?"
      ],
      "metadata": {
        "id": "61-yp1OqJhzc"
      }
    },
    {
      "cell_type": "markdown",
      "source": [
        "* En promedio, los hogares que tienen como mascota a gatos tienen más de 2\n",
        "* En promedio, los hogares que tienen como mascota a perros tienen menos de 1.6\n",
        "* El gráfico no indica que existan más gatos que perros o viceversa en EE.UU. Sólo indica el promedio de gatos o perros en los hogares que tienen como mascota a gatos o perros, respectivamente.\n",
        "* No hay valores atípicos en ningún set de datos.\n",
        " "
      ],
      "metadata": {
        "id": "_8fO5yvJJjFE"
      }
    }
  ]
}