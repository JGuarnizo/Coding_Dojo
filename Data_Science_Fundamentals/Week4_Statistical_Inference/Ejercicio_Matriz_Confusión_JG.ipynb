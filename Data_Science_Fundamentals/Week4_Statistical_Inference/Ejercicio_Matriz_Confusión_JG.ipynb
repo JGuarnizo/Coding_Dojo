{
  "nbformat": 4,
  "nbformat_minor": 0,
  "metadata": {
    "colab": {
      "name": "Ejercicio_Matriz_Confusión_JG.ipynb",
      "provenance": [],
      "collapsed_sections": [],
      "authorship_tag": "ABX9TyN4EeBEjFCd+pQYVfskWSkE",
      "include_colab_link": true
    },
    "kernelspec": {
      "name": "python3",
      "display_name": "Python 3"
    },
    "language_info": {
      "name": "python"
    }
  },
  "cells": [
    {
      "cell_type": "markdown",
      "metadata": {
        "id": "view-in-github",
        "colab_type": "text"
      },
      "source": [
        "<a href=\"https://colab.research.google.com/github/JGuarnizo/Coding_Dojo/blob/main/Data_Science_Fundamentals/Week4_Statistical_Inference/Ejercicio_Matriz_Confusi%C3%B3n_JG.ipynb\" target=\"_parent\"><img src=\"https://colab.research.google.com/assets/colab-badge.svg\" alt=\"Open In Colab\"/></a>"
      ]
    },
    {
      "cell_type": "markdown",
      "source": [
        "#Ejercicio de Matriz de Confusión\n",
        "##Por: José Guarnizo\n",
        "##Fecha: 29/01/2022\n",
        "Tu tarea para este ejercicio es crear una matriz de confusión visualizada como un mapa de calor. Un mapa de calor es una representación gráfica de datos en los cuales los valores están trazados con colores. Los mapas de calor te permiten visualizar valores numéricos de manera fácil. Si bien no cubrimos esto de manera formal en los módulos anteriores, ¡deberías ser capaz de aplicar tus conocimientos de seaborn, Matplotlib y Google para resolver este problema!\n",
        "\n",
        "Se te da la siguiente matriz de confusión:\n",
        "\n",
        "* Predicted 0\tPredicted 1\n",
        "* Actually 0\t87\t16\n",
        "* Actually 1\t17\t59\n"
      ],
      "metadata": {
        "id": "a6wuFcWsoUo5"
      }
    },
    {
      "cell_type": "code",
      "source": [
        "import pandas as pd\n",
        "import numpy as np\n",
        "import matplotlib.pyplot as plt\n",
        "import seaborn as sns"
      ],
      "metadata": {
        "id": "4qRxGeyRtLQq"
      },
      "execution_count": 15,
      "outputs": []
    },
    {
      "cell_type": "code",
      "source": [
        "# Se declara la matriz de confusión en la variable matriz\n",
        "TP=59\n",
        "TN=87\n",
        "FN=16\n",
        "FP=17\n",
        "matriz=[[TN,FN],[FP,TP]]\n",
        "matriz"
      ],
      "metadata": {
        "colab": {
          "base_uri": "https://localhost:8080/"
        },
        "id": "cw7tS8sx2ZX4",
        "outputId": "85ddc9ba-dccf-42e4-b447-2351180a7011"
      },
      "execution_count": 57,
      "outputs": [
        {
          "output_type": "execute_result",
          "data": {
            "text/plain": [
              "[[87, 16], [17, 59]]"
            ]
          },
          "metadata": {},
          "execution_count": 57
        }
      ]
    },
    {
      "cell_type": "code",
      "execution_count": 58,
      "metadata": {
        "colab": {
          "base_uri": "https://localhost:8080/"
        },
        "id": "t6UTlU-moOKC",
        "outputId": "80016f96-2448-4c4f-e636-0d7f8ad7dc2e"
      },
      "outputs": [
        {
          "output_type": "execute_result",
          "data": {
            "text/plain": [
              "0.8156424581005587"
            ]
          },
          "metadata": {},
          "execution_count": 58
        }
      ],
      "source": [
        "precision=(TP+TN)/(TP+FP+TN+FN)\n",
        "precision"
      ]
    },
    {
      "cell_type": "code",
      "source": [
        "# Se realiza la matriz de confusión utilizando el mapa de calor de la librería Seaborn\n",
        "plt.figure(figsize=(8,6))\n",
        "sns.heatmap(matriz,annot=True, cmap=\"Blues\", linecolor='black', linewidths=0.2, square=True);\n",
        "plt.ylabel('Actual Label', fontsize=16)\n",
        "plt.xlabel('Predicted Label', fontsize=16)\n",
        "plt.xticks(fontsize=14)\n",
        "plt.yticks(fontsize=14)\n",
        "plt.title(f'Accuracy Score: {precision}',fontsize=18);"
      ],
      "metadata": {
        "colab": {
          "base_uri": "https://localhost:8080/",
          "height": 417
        },
        "id": "ibRlAjRYrAPi",
        "outputId": "e1068392-187e-43ab-b61c-6614e4bf47ff"
      },
      "execution_count": 59,
      "outputs": [
        {
          "output_type": "display_data",
          "data": {
            "image/png": "[encoded data removed]",
            "text/plain": [
              "<Figure size 576x432 with 2 Axes>"
            ]
          },
          "metadata": {
            "needs_background": "light"
          }
        }
      ]
    },
    {
      "cell_type": "markdown",
      "source": [
        "##Bibliografía\n",
        "*Usando python para dibujar la matriz de confusión*. https://programmerclick.com/article/4356413551/"
      ],
      "metadata": {
        "id": "s0h5uF1n59hl"
      }
    }
  ]
}