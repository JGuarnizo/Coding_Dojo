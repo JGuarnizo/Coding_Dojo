{
  "nbformat": 4,
  "nbformat_minor": 0,
  "metadata": {
    "colab": {
      "name": "Ejercicio_Train_Test_Split_JG.ipynb",
      "provenance": [],
      "collapsed_sections": [
        "DbJ43CMLKdID",
        "B0OrDtbUKnkR"
      ],
      "authorship_tag": "ABX9TyP+klylUrDSIO/sEQ2Xa4h4",
      "include_colab_link": true
    },
    "kernelspec": {
      "name": "python3",
      "display_name": "Python 3"
    },
    "language_info": {
      "name": "python"
    }
  },
  "cells": [
    {
      "cell_type": "markdown",
      "metadata": {
        "id": "view-in-github",
        "colab_type": "text"
      },
      "source": [
        "<a href=\"https://colab.research.google.com/github/JGuarnizo/Coding_Dojo/blob/main/Machine_Learning/Week6_Decision_Trees/Ejercicio_Train_Test_Split_JG.ipynb\" target=\"_parent\"><img src=\"https://colab.research.google.com/assets/colab-badge.svg\" alt=\"Open In Colab\"/></a>"
      ]
    },
    {
      "cell_type": "markdown",
      "source": [
        "#Ejercicio División Entrenar Probar\n",
        "#Por: José Guarnizo\n",
        "\n",
        "Tarea\n",
        "\n",
        "Esta es una versión modificada de la tarea de la semana pasada. Tu objetivo es realizar una regresión lineal y KNN para la tarea de regresión de usar el conjunto de datos de abulón para predecir la edad a partir de sus características. La diferencia es que debe realizar la tarea con y sin división entrenar probar.\n",
        "\n"
      ],
      "metadata": {
        "id": "Z75HQ2buVjov"
      }
    },
    {
      "cell_type": "markdown",
      "source": [
        "##Importación de librerías y exploración de data"
      ],
      "metadata": {
        "id": "wV44wUMKiima"
      }
    },
    {
      "cell_type": "code",
      "execution_count": 127,
      "metadata": {
        "id": "9QJjLZSsVg4L"
      },
      "outputs": [],
      "source": [
        "#Importación de librerías\n",
        "import pandas as pd\n",
        "import numpy as np\n",
        "from sklearn.preprocessing import StandardScaler\n",
        "from sklearn.model_selection import train_test_split\n",
        "from sklearn.neighbors import KNeighborsRegressor\n",
        "from sklearn.linear_model import LinearRegression\n",
        "from sklearn.metrics import mean_squared_error"
      ]
    },
    {
      "cell_type": "code",
      "source": [
        "#Lectura de data, alojada en repositorio de Github.\n",
        "df=pd.read_csv('https://raw.githubusercontent.com/JGuarnizo/Coding_Dojo/main/Machine_Learning/Week5_Introduction/abalone.data',header=None)\n",
        "column_names=['sex','length','diameter','height','whole weight',\n",
        "              'shucked weight', 'viscera weight','shell weight','rings']\n",
        "df.columns=column_names\n",
        "df.info()"
      ],
      "metadata": {
        "colab": {
          "base_uri": "https://localhost:8080/"
        },
        "id": "Hkwbe3U9W52H",
        "outputId": "8de25f36-6eb2-47bf-fe28-6d16db5e1fa2"
      },
      "execution_count": 128,
      "outputs": [
        {
          "output_type": "stream",
          "name": "stdout",
          "text": [
            "<class 'pandas.core.frame.DataFrame'>\n",
            "RangeIndex: 4177 entries, 0 to 4176\n",
            "Data columns (total 9 columns):\n",
            " #   Column          Non-Null Count  Dtype  \n",
            "---  ------          --------------  -----  \n",
            " 0   sex             4177 non-null   object \n",
            " 1   length          4177 non-null   float64\n",
            " 2   diameter        4177 non-null   float64\n",
            " 3   height          4177 non-null   float64\n",
            " 4   whole weight    4177 non-null   float64\n",
            " 5   shucked weight  4177 non-null   float64\n",
            " 6   viscera weight  4177 non-null   float64\n",
            " 7   shell weight    4177 non-null   float64\n",
            " 8   rings           4177 non-null   int64  \n",
            "dtypes: float64(7), int64(1), object(1)\n",
            "memory usage: 293.8+ KB\n"
          ]
        }
      ]
    },
    {
      "cell_type": "code",
      "source": [
        "df.head()"
      ],
      "metadata": {
        "colab": {
          "base_uri": "https://localhost:8080/",
          "height": 206
        },
        "id": "8rq5uEvhXJv1",
        "outputId": "dd88e0b8-584d-4da0-a53b-8285f4037bb2"
      },
      "execution_count": 129,
      "outputs": [
        {
          "output_type": "execute_result",
          "data": {
            "text/html": [
              "\n",
              "  <div id=\"df-9f652b5a-23cd-40fa-82e9-65f0c8bdfca3\">\n",
              "    <div class=\"colab-df-container\">\n",
              "      <div>\n",
              "<style scoped>\n",
              "    .dataframe tbody tr th:only-of-type {\n",
              "        vertical-align: middle;\n",
              "    }\n",
              "\n",
              "    .dataframe tbody tr th {\n",
              "        vertical-align: top;\n",
              "    }\n",
              "\n",
              "    .dataframe thead th {\n",
              "        text-align: right;\n",
              "    }\n",
              "</style>\n",
              "<table border=\"1\" class=\"dataframe\">\n",
              "  <thead>\n",
              "    <tr style=\"text-align: right;\">\n",
              "      <th></th>\n",
              "      <th>sex</th>\n",
              "      <th>length</th>\n",
              "      <th>diameter</th>\n",
              "      <th>height</th>\n",
              "      <th>whole weight</th>\n",
              "      <th>shucked weight</th>\n",
              "      <th>viscera weight</th>\n",
              "      <th>shell weight</th>\n",
              "      <th>rings</th>\n",
              "    </tr>\n",
              "  </thead>\n",
              "  <tbody>\n",
              "    <tr>\n",
              "      <th>0</th>\n",
              "      <td>M</td>\n",
              "      <td>0.455</td>\n",
              "      <td>0.365</td>\n",
              "      <td>0.095</td>\n",
              "      <td>0.5140</td>\n",
              "      <td>0.2245</td>\n",
              "      <td>0.1010</td>\n",
              "      <td>0.150</td>\n",
              "      <td>15</td>\n",
              "    </tr>\n",
              "    <tr>\n",
              "      <th>1</th>\n",
              "      <td>M</td>\n",
              "      <td>0.350</td>\n",
              "      <td>0.265</td>\n",
              "      <td>0.090</td>\n",
              "      <td>0.2255</td>\n",
              "      <td>0.0995</td>\n",
              "      <td>0.0485</td>\n",
              "      <td>0.070</td>\n",
              "      <td>7</td>\n",
              "    </tr>\n",
              "    <tr>\n",
              "      <th>2</th>\n",
              "      <td>F</td>\n",
              "      <td>0.530</td>\n",
              "      <td>0.420</td>\n",
              "      <td>0.135</td>\n",
              "      <td>0.6770</td>\n",
              "      <td>0.2565</td>\n",
              "      <td>0.1415</td>\n",
              "      <td>0.210</td>\n",
              "      <td>9</td>\n",
              "    </tr>\n",
              "    <tr>\n",
              "      <th>3</th>\n",
              "      <td>M</td>\n",
              "      <td>0.440</td>\n",
              "      <td>0.365</td>\n",
              "      <td>0.125</td>\n",
              "      <td>0.5160</td>\n",
              "      <td>0.2155</td>\n",
              "      <td>0.1140</td>\n",
              "      <td>0.155</td>\n",
              "      <td>10</td>\n",
              "    </tr>\n",
              "    <tr>\n",
              "      <th>4</th>\n",
              "      <td>I</td>\n",
              "      <td>0.330</td>\n",
              "      <td>0.255</td>\n",
              "      <td>0.080</td>\n",
              "      <td>0.2050</td>\n",
              "      <td>0.0895</td>\n",
              "      <td>0.0395</td>\n",
              "      <td>0.055</td>\n",
              "      <td>7</td>\n",
              "    </tr>\n",
              "  </tbody>\n",
              "</table>\n",
              "</div>\n",
              "      <button class=\"colab-df-convert\" onclick=\"convertToInteractive('df-9f652b5a-23cd-40fa-82e9-65f0c8bdfca3')\"\n",
              "              title=\"Convert this dataframe to an interactive table.\"\n",
              "              style=\"display:none;\">\n",
              "        \n",
              "  <svg xmlns=\"http://www.w3.org/2000/svg\" height=\"24px\"viewBox=\"0 0 24 24\"\n",
              "       width=\"24px\">\n",
              "    <path d=\"M0 0h24v24H0V0z\" fill=\"none\"/>\n",
              "    <path d=\"M18.56 5.44l.94 2.06.94-2.06 2.06-.94-2.06-.94-.94-2.06-.94 2.06-2.06.94zm-11 1L8.5 8.5l.94-2.06 2.06-.94-2.06-.94L8.5 2.5l-.94 2.06-2.06.94zm10 10l.94 2.06.94-2.06 2.06-.94-2.06-.94-.94-2.06-.94 2.06-2.06.94z\"/><path d=\"M17.41 7.96l-1.37-1.37c-.4-.4-.92-.59-1.43-.59-.52 0-1.04.2-1.43.59L10.3 9.45l-7.72 7.72c-.78.78-.78 2.05 0 2.83L4 21.41c.39.39.9.59 1.41.59.51 0 1.02-.2 1.41-.59l7.78-7.78 2.81-2.81c.8-.78.8-2.07 0-2.86zM5.41 20L4 18.59l7.72-7.72 1.47 1.35L5.41 20z\"/>\n",
              "  </svg>\n",
              "      </button>\n",
              "      \n",
              "  <style>\n",
              "    .colab-df-container {\n",
              "      display:flex;\n",
              "      flex-wrap:wrap;\n",
              "      gap: 12px;\n",
              "    }\n",
              "\n",
              "    .colab-df-convert {\n",
              "      background-color: #E8F0FE;\n",
              "      border: none;\n",
              "      border-radius: 50%;\n",
              "      cursor: pointer;\n",
              "      display: none;\n",
              "      fill: #1967D2;\n",
              "      height: 32px;\n",
              "      padding: 0 0 0 0;\n",
              "      width: 32px;\n",
              "    }\n",
              "\n",
              "    .colab-df-convert:hover {\n",
              "      background-color: #E2EBFA;\n",
              "      box-shadow: 0px 1px 2px rgba(60, 64, 67, 0.3), 0px 1px 3px 1px rgba(60, 64, 67, 0.15);\n",
              "      fill: #174EA6;\n",
              "    }\n",
              "\n",
              "    [theme=dark] .colab-df-convert {\n",
              "      background-color: #3B4455;\n",
              "      fill: #D2E3FC;\n",
              "    }\n",
              "\n",
              "    [theme=dark] .colab-df-convert:hover {\n",
              "      background-color: #434B5C;\n",
              "      box-shadow: 0px 1px 3px 1px rgba(0, 0, 0, 0.15);\n",
              "      filter: drop-shadow(0px 1px 2px rgba(0, 0, 0, 0.3));\n",
              "      fill: #FFFFFF;\n",
              "    }\n",
              "  </style>\n",
              "\n",
              "      <script>\n",
              "        const buttonEl =\n",
              "          document.querySelector('#df-9f652b5a-23cd-40fa-82e9-65f0c8bdfca3 button.colab-df-convert');\n",
              "        buttonEl.style.display =\n",
              "          google.colab.kernel.accessAllowed ? 'block' : 'none';\n",
              "\n",
              "        async function convertToInteractive(key) {\n",
              "          const element = document.querySelector('#df-9f652b5a-23cd-40fa-82e9-65f0c8bdfca3');\n",
              "          const dataTable =\n",
              "            await google.colab.kernel.invokeFunction('convertToInteractive',\n",
              "                                                     [key], {});\n",
              "          if (!dataTable) return;\n",
              "\n",
              "          const docLinkHtml = 'Like what you see? Visit the ' +\n",
              "            '<a target=\"_blank\" href=https://colab.research.google.com/notebooks/data_table.ipynb>data table notebook</a>'\n",
              "            + ' to learn more about interactive tables.';\n",
              "          element.innerHTML = '';\n",
              "          dataTable['output_type'] = 'display_data';\n",
              "          await google.colab.output.renderOutput(dataTable, element);\n",
              "          const docLink = document.createElement('div');\n",
              "          docLink.innerHTML = docLinkHtml;\n",
              "          element.appendChild(docLink);\n",
              "        }\n",
              "      </script>\n",
              "    </div>\n",
              "  </div>\n",
              "  "
            ],
            "text/plain": [
              "  sex  length  diameter  ...  viscera weight  shell weight  rings\n",
              "0   M   0.455     0.365  ...          0.1010         0.150     15\n",
              "1   M   0.350     0.265  ...          0.0485         0.070      7\n",
              "2   F   0.530     0.420  ...          0.1415         0.210      9\n",
              "3   M   0.440     0.365  ...          0.1140         0.155     10\n",
              "4   I   0.330     0.255  ...          0.0395         0.055      7\n",
              "\n",
              "[5 rows x 9 columns]"
            ]
          },
          "metadata": {},
          "execution_count": 129
        }
      ]
    },
    {
      "cell_type": "markdown",
      "source": [
        "##1. TAREA DE REGRESIÓN: Predecir la edad del abulón a partir de mediciones físicas\n",
        "Variable rings = (int)"
      ],
      "metadata": {
        "id": "echXfArDY0H2"
      }
    },
    {
      "cell_type": "markdown",
      "source": [
        "###MATRIZ CORRELACIÓN, DEFINICIÓN MATRIZ CARACTERISTICAS Y TARGET VECTOR"
      ],
      "metadata": {
        "id": "EnP1o575K5rD"
      }
    },
    {
      "cell_type": "code",
      "source": [
        "#Matriz de correlación entre variables numéricas\n",
        "df.corr()"
      ],
      "metadata": {
        "colab": {
          "base_uri": "https://localhost:8080/",
          "height": 300
        },
        "id": "NC7RKUTCc4wX",
        "outputId": "d6554103-0716-4850-96b4-6e9a6ac3e8b6"
      },
      "execution_count": 130,
      "outputs": [
        {
          "output_type": "execute_result",
          "data": {
            "text/html": [
              "\n",
              "  <div id=\"df-08b15d44-98c6-4eb2-98a6-078a4487dc36\">\n",
              "    <div class=\"colab-df-container\">\n",
              "      <div>\n",
              "<style scoped>\n",
              "    .dataframe tbody tr th:only-of-type {\n",
              "        vertical-align: middle;\n",
              "    }\n",
              "\n",
              "    .dataframe tbody tr th {\n",
              "        vertical-align: top;\n",
              "    }\n",
              "\n",
              "    .dataframe thead th {\n",
              "        text-align: right;\n",
              "    }\n",
              "</style>\n",
              "<table border=\"1\" class=\"dataframe\">\n",
              "  <thead>\n",
              "    <tr style=\"text-align: right;\">\n",
              "      <th></th>\n",
              "      <th>length</th>\n",
              "      <th>diameter</th>\n",
              "      <th>height</th>\n",
              "      <th>whole weight</th>\n",
              "      <th>shucked weight</th>\n",
              "      <th>viscera weight</th>\n",
              "      <th>shell weight</th>\n",
              "      <th>rings</th>\n",
              "    </tr>\n",
              "  </thead>\n",
              "  <tbody>\n",
              "    <tr>\n",
              "      <th>length</th>\n",
              "      <td>1.000000</td>\n",
              "      <td>0.986812</td>\n",
              "      <td>0.827554</td>\n",
              "      <td>0.925261</td>\n",
              "      <td>0.897914</td>\n",
              "      <td>0.903018</td>\n",
              "      <td>0.897706</td>\n",
              "      <td>0.556720</td>\n",
              "    </tr>\n",
              "    <tr>\n",
              "      <th>diameter</th>\n",
              "      <td>0.986812</td>\n",
              "      <td>1.000000</td>\n",
              "      <td>0.833684</td>\n",
              "      <td>0.925452</td>\n",
              "      <td>0.893162</td>\n",
              "      <td>0.899724</td>\n",
              "      <td>0.905330</td>\n",
              "      <td>0.574660</td>\n",
              "    </tr>\n",
              "    <tr>\n",
              "      <th>height</th>\n",
              "      <td>0.827554</td>\n",
              "      <td>0.833684</td>\n",
              "      <td>1.000000</td>\n",
              "      <td>0.819221</td>\n",
              "      <td>0.774972</td>\n",
              "      <td>0.798319</td>\n",
              "      <td>0.817338</td>\n",
              "      <td>0.557467</td>\n",
              "    </tr>\n",
              "    <tr>\n",
              "      <th>whole weight</th>\n",
              "      <td>0.925261</td>\n",
              "      <td>0.925452</td>\n",
              "      <td>0.819221</td>\n",
              "      <td>1.000000</td>\n",
              "      <td>0.969405</td>\n",
              "      <td>0.966375</td>\n",
              "      <td>0.955355</td>\n",
              "      <td>0.540390</td>\n",
              "    </tr>\n",
              "    <tr>\n",
              "      <th>shucked weight</th>\n",
              "      <td>0.897914</td>\n",
              "      <td>0.893162</td>\n",
              "      <td>0.774972</td>\n",
              "      <td>0.969405</td>\n",
              "      <td>1.000000</td>\n",
              "      <td>0.931961</td>\n",
              "      <td>0.882617</td>\n",
              "      <td>0.420884</td>\n",
              "    </tr>\n",
              "    <tr>\n",
              "      <th>viscera weight</th>\n",
              "      <td>0.903018</td>\n",
              "      <td>0.899724</td>\n",
              "      <td>0.798319</td>\n",
              "      <td>0.966375</td>\n",
              "      <td>0.931961</td>\n",
              "      <td>1.000000</td>\n",
              "      <td>0.907656</td>\n",
              "      <td>0.503819</td>\n",
              "    </tr>\n",
              "    <tr>\n",
              "      <th>shell weight</th>\n",
              "      <td>0.897706</td>\n",
              "      <td>0.905330</td>\n",
              "      <td>0.817338</td>\n",
              "      <td>0.955355</td>\n",
              "      <td>0.882617</td>\n",
              "      <td>0.907656</td>\n",
              "      <td>1.000000</td>\n",
              "      <td>0.627574</td>\n",
              "    </tr>\n",
              "    <tr>\n",
              "      <th>rings</th>\n",
              "      <td>0.556720</td>\n",
              "      <td>0.574660</td>\n",
              "      <td>0.557467</td>\n",
              "      <td>0.540390</td>\n",
              "      <td>0.420884</td>\n",
              "      <td>0.503819</td>\n",
              "      <td>0.627574</td>\n",
              "      <td>1.000000</td>\n",
              "    </tr>\n",
              "  </tbody>\n",
              "</table>\n",
              "</div>\n",
              "      <button class=\"colab-df-convert\" onclick=\"convertToInteractive('df-08b15d44-98c6-4eb2-98a6-078a4487dc36')\"\n",
              "              title=\"Convert this dataframe to an interactive table.\"\n",
              "              style=\"display:none;\">\n",
              "        \n",
              "  <svg xmlns=\"http://www.w3.org/2000/svg\" height=\"24px\"viewBox=\"0 0 24 24\"\n",
              "       width=\"24px\">\n",
              "    <path d=\"M0 0h24v24H0V0z\" fill=\"none\"/>\n",
              "    <path d=\"M18.56 5.44l.94 2.06.94-2.06 2.06-.94-2.06-.94-.94-2.06-.94 2.06-2.06.94zm-11 1L8.5 8.5l.94-2.06 2.06-.94-2.06-.94L8.5 2.5l-.94 2.06-2.06.94zm10 10l.94 2.06.94-2.06 2.06-.94-2.06-.94-.94-2.06-.94 2.06-2.06.94z\"/><path d=\"M17.41 7.96l-1.37-1.37c-.4-.4-.92-.59-1.43-.59-.52 0-1.04.2-1.43.59L10.3 9.45l-7.72 7.72c-.78.78-.78 2.05 0 2.83L4 21.41c.39.39.9.59 1.41.59.51 0 1.02-.2 1.41-.59l7.78-7.78 2.81-2.81c.8-.78.8-2.07 0-2.86zM5.41 20L4 18.59l7.72-7.72 1.47 1.35L5.41 20z\"/>\n",
              "  </svg>\n",
              "      </button>\n",
              "      \n",
              "  <style>\n",
              "    .colab-df-container {\n",
              "      display:flex;\n",
              "      flex-wrap:wrap;\n",
              "      gap: 12px;\n",
              "    }\n",
              "\n",
              "    .colab-df-convert {\n",
              "      background-color: #E8F0FE;\n",
              "      border: none;\n",
              "      border-radius: 50%;\n",
              "      cursor: pointer;\n",
              "      display: none;\n",
              "      fill: #1967D2;\n",
              "      height: 32px;\n",
              "      padding: 0 0 0 0;\n",
              "      width: 32px;\n",
              "    }\n",
              "\n",
              "    .colab-df-convert:hover {\n",
              "      background-color: #E2EBFA;\n",
              "      box-shadow: 0px 1px 2px rgba(60, 64, 67, 0.3), 0px 1px 3px 1px rgba(60, 64, 67, 0.15);\n",
              "      fill: #174EA6;\n",
              "    }\n",
              "\n",
              "    [theme=dark] .colab-df-convert {\n",
              "      background-color: #3B4455;\n",
              "      fill: #D2E3FC;\n",
              "    }\n",
              "\n",
              "    [theme=dark] .colab-df-convert:hover {\n",
              "      background-color: #434B5C;\n",
              "      box-shadow: 0px 1px 3px 1px rgba(0, 0, 0, 0.15);\n",
              "      filter: drop-shadow(0px 1px 2px rgba(0, 0, 0, 0.3));\n",
              "      fill: #FFFFFF;\n",
              "    }\n",
              "  </style>\n",
              "\n",
              "      <script>\n",
              "        const buttonEl =\n",
              "          document.querySelector('#df-08b15d44-98c6-4eb2-98a6-078a4487dc36 button.colab-df-convert');\n",
              "        buttonEl.style.display =\n",
              "          google.colab.kernel.accessAllowed ? 'block' : 'none';\n",
              "\n",
              "        async function convertToInteractive(key) {\n",
              "          const element = document.querySelector('#df-08b15d44-98c6-4eb2-98a6-078a4487dc36');\n",
              "          const dataTable =\n",
              "            await google.colab.kernel.invokeFunction('convertToInteractive',\n",
              "                                                     [key], {});\n",
              "          if (!dataTable) return;\n",
              "\n",
              "          const docLinkHtml = 'Like what you see? Visit the ' +\n",
              "            '<a target=\"_blank\" href=https://colab.research.google.com/notebooks/data_table.ipynb>data table notebook</a>'\n",
              "            + ' to learn more about interactive tables.';\n",
              "          element.innerHTML = '';\n",
              "          dataTable['output_type'] = 'display_data';\n",
              "          await google.colab.output.renderOutput(dataTable, element);\n",
              "          const docLink = document.createElement('div');\n",
              "          docLink.innerHTML = docLinkHtml;\n",
              "          element.appendChild(docLink);\n",
              "        }\n",
              "      </script>\n",
              "    </div>\n",
              "  </div>\n",
              "  "
            ],
            "text/plain": [
              "                  length  diameter  ...  shell weight     rings\n",
              "length          1.000000  0.986812  ...      0.897706  0.556720\n",
              "diameter        0.986812  1.000000  ...      0.905330  0.574660\n",
              "height          0.827554  0.833684  ...      0.817338  0.557467\n",
              "whole weight    0.925261  0.925452  ...      0.955355  0.540390\n",
              "shucked weight  0.897914  0.893162  ...      0.882617  0.420884\n",
              "viscera weight  0.903018  0.899724  ...      0.907656  0.503819\n",
              "shell weight    0.897706  0.905330  ...      1.000000  0.627574\n",
              "rings           0.556720  0.574660  ...      0.627574  1.000000\n",
              "\n",
              "[8 rows x 8 columns]"
            ]
          },
          "metadata": {},
          "execution_count": 130
        }
      ]
    },
    {
      "cell_type": "code",
      "source": [
        "#Matriz de características y Target Vector\n",
        "X=df.drop(columns=['rings','sex']).values\n",
        "y=df['rings'].values"
      ],
      "metadata": {
        "id": "Rsu8MkHyXtHe"
      },
      "execution_count": 131,
      "outputs": []
    },
    {
      "cell_type": "code",
      "source": [
        "neighbors=5"
      ],
      "metadata": {
        "id": "OfzusA5iQhv5"
      },
      "execution_count": 132,
      "outputs": []
    },
    {
      "cell_type": "markdown",
      "source": [
        "###SIN DIVISIÓN TRAIN/TEST"
      ],
      "metadata": {
        "id": "DbJ43CMLKdID"
      }
    },
    {
      "cell_type": "code",
      "source": [
        "#Utilizando Regresión Lineal\n",
        "reg=LinearRegression(fit_intercept=True)\n",
        "reg.fit(X,y)\n",
        "reg_preds_s = reg.predict(X)\n",
        "#Valore de control\n",
        "reg_score_s = reg.score(X,y)\n",
        "reg_rmse_s = np.sqrt(mean_squared_error(y,reg_preds_s))"
      ],
      "metadata": {
        "id": "6JZfMI-JJNHb"
      },
      "execution_count": 133,
      "outputs": []
    },
    {
      "cell_type": "code",
      "source": [
        "#Utilizando KNN regresión con n.neighbors=5\n",
        "#Estandarización de matriz de caracteristicas completas\n",
        "scaler = StandardScaler()\n",
        "scaler.fit(X)\n",
        "X_scaler = scaler.transform(X)\n",
        "#Implementación de modelo\n",
        "knn=KNeighborsRegressor(n_neighbors=neighbors)\n",
        "knn.fit(X_scaler,y)\n",
        "knn_preds_s = knn.predict(X_scaler)\n",
        "#Valore de control \n",
        "knn_score_s = knn.score(X_scaler,y)\n",
        "knn_rmse_s = np.sqrt(mean_squared_error(y,knn_preds_s))"
      ],
      "metadata": {
        "id": "7LhNuANDJRT6"
      },
      "execution_count": 134,
      "outputs": []
    },
    {
      "cell_type": "markdown",
      "source": [
        "###CON DIVISIÓN TRAIN/TEST"
      ],
      "metadata": {
        "id": "B0OrDtbUKnkR"
      }
    },
    {
      "cell_type": "code",
      "source": [
        "#Escalado de la matriz de características para modelo KNN\n",
        "X_train, X_test, y_train, y_test = train_test_split(X, y, random_state=3)"
      ],
      "metadata": {
        "id": "oxDf8wMaZ8g7"
      },
      "execution_count": 135,
      "outputs": []
    },
    {
      "cell_type": "code",
      "source": [
        "#Utilizando Regresión Lineal\n",
        "reg=LinearRegression(fit_intercept=True)\n",
        "reg.fit(X_train,y_train)\n",
        "reg_preds = reg.predict(X_test)\n",
        "#Valores de control\n",
        "reg_score = reg.score(X_test,y_test)\n",
        "reg_rmse = np.sqrt(mean_squared_error(y_test,reg_preds))"
      ],
      "metadata": {
        "id": "STrQtS1jdrBs"
      },
      "execution_count": 136,
      "outputs": []
    },
    {
      "cell_type": "code",
      "source": [
        "#Utilizando KNN regresión\n",
        "#Estandarización de matriz de caracteristica, train y test\n",
        "scaler = StandardScaler()\n",
        "scaler.fit(X_train)\n",
        "X_train = scaler.transform(X_train)\n",
        "X_test = scaler.transform(X_test)\n",
        "#Implementación de modelo\n",
        "knn=KNeighborsRegressor(n_neighbors=neighbors)\n",
        "knn.fit(X_train,y_train)\n",
        "knn_preds = knn.predict(X_test)\n",
        "#Valores de control\n",
        "knn_score = knn.score(X_test,y_test)\n",
        "knn_rmse = np.sqrt(mean_squared_error(y_test,knn_preds))"
      ],
      "metadata": {
        "id": "jLhUF1dHcDqD"
      },
      "execution_count": 137,
      "outputs": []
    },
    {
      "cell_type": "markdown",
      "source": [
        "##RESULTADOS"
      ],
      "metadata": {
        "id": "jG3zkhHGQqzA"
      }
    },
    {
      "cell_type": "code",
      "source": [
        "print(\"MODELO REGRESIÓN LINEAL\\n\\tSIN train/test\\tCON train/test\\nR2 =\\t\\t{:.3f}\\t\\t{:.3f}\\nRMSE =\\t\\t{:.3f}\\t\\t{:.3f}\".format(reg_score_s, reg_score, reg_rmse_s,reg_rmse))\n",
        "print(\"\\nMODELO REGRESIÓN KNN (n_neighbors={})\\n\\tSIN train/test\\tCON train/test\\nR2 =\\t\\t{:.3f}\\t\\t{:.3f}\\nRMSE =\\t\\t{:.3f}\\t\\t{:.3f}\".format(neighbors,knn_score_s, knn_score, knn_rmse_s, knn_rmse))"
      ],
      "metadata": {
        "colab": {
          "base_uri": "https://localhost:8080/"
        },
        "id": "I3cP9BfeNMJB",
        "outputId": "023d4eca-bf04-446d-d181-d17f76ed98f9"
      },
      "execution_count": 138,
      "outputs": [
        {
          "output_type": "stream",
          "name": "stdout",
          "text": [
            "MODELO REGRESIÓN LINEAL\n",
            "\tSIN train/test\tCON train/test\n",
            "R2 =\t\t0.528\t\t0.498\n",
            "RMSE =\t\t2.216\t\t2.164\n",
            "\n",
            "MODELO REGRESIÓN KNN (n_neighbors=5)\n",
            "\tSIN train/test\tCON train/test\n",
            "R2 =\t\t0.658\t\t0.447\n",
            "RMSE =\t\t1.886\t\t2.270\n"
          ]
        }
      ]
    },
    {
      "cell_type": "markdown",
      "source": [
        "* **¿Cuál de KNN o regresión lineal pareció un mejor modelo cuando no usaste la división entrenar probar?**\n",
        "\n",
        "KNN pareció un mejor resultado. Incluso si se reducía el número de vecinos a 1, el algoritmo tenía un error de 0%."
      ],
      "metadata": {
        "id": "nFM5r5LRRXgr"
      }
    },
    {
      "cell_type": "markdown",
      "source": [
        "* **¿Cuál de KNN o regresión lineal pareció un mejor modelo cuando usaste la división entrenar probar?**\n",
        "\n",
        "\n",
        "Utilizando la división train/test, la regresión lineal fue un mejor modelo"
      ],
      "metadata": {
        "id": "rkazOQ7wRjCg"
      }
    },
    {
      "cell_type": "markdown",
      "source": [
        "* **¿Hubo alguna ventaja en la regresión lineal en términos de la cantidad de código que tenías que escribir?**\n",
        "\n",
        "Se evita escribir la parte de estandarización, pero sólo son 4 líneas más de código."
      ],
      "metadata": {
        "id": "voU60Zm0RmoZ"
      }
    },
    {
      "cell_type": "markdown",
      "source": [
        "* **¿Hay alguna forma de mostrarle a alguien cuál de los dos modelos fue más efectivo?**\n",
        "\n",
        "Sí, se puede comparar los parámetros R2 y el RMSE. Se observa que con la división de train/test el modelo de regresión lineal mantiene valores similares, sin embargo el modelo knn (n_neighbors=5) empeora; incluso, si se reduce el número de vecinos a 1 el error empeora aún más, se consigue mejores resultados en el knn con número de vecinos mayor a 10."
      ],
      "metadata": {
        "id": "0mKhnXMuRsq3"
      }
    },
    {
      "cell_type": "markdown",
      "source": [
        "* **¿Crees que podrías haber mejorado KNN para mejorar la eficacia del modelo?**\n",
        "\n",
        "Sí, sin la división train/test, parecía que era mejor reducir el número de vecinos hasta incluso 1. Pero, con la división train/test queda claro que es mejor mantener el modelo con un número mínimo de vecinos de 5. En este caso, se logra mejores resultados si el número de vecinos (n_nighbors) es mayor a 10."
      ],
      "metadata": {
        "id": "b0CdKYoHRwL3"
      }
    }
  ]
}