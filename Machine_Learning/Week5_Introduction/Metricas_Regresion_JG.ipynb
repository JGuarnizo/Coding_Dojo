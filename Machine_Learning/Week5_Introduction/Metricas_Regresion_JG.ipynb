{
  "nbformat": 4,
  "nbformat_minor": 0,
  "metadata": {
    "colab": {
      "name": "Metricas_Regresion_JG.ipynb",
      "provenance": [],
      "authorship_tag": "ABX9TyPZEew80uqYLY9qLP1uIemr",
      "include_colab_link": true
    },
    "kernelspec": {
      "name": "python3",
      "display_name": "Python 3"
    },
    "language_info": {
      "name": "python"
    }
  },
  "cells": [
    {
      "cell_type": "markdown",
      "metadata": {
        "id": "view-in-github",
        "colab_type": "text"
      },
      "source": [
        "<a href=\"https://colab.research.google.com/github/JGuarnizo/Coding_Dojo/blob/main/Machine_Learning/Week5_Introduction/Metricas_Regresion_JG.ipynb\" target=\"_parent\"><img src=\"https://colab.research.google.com/assets/colab-badge.svg\" alt=\"Open In Colab\"/></a>"
      ]
    },
    {
      "cell_type": "markdown",
      "source": [
        "#Métricas de Regresión\n",
        "##Por: José Guarnizo\n",
        "##Fecha: 2022/02/06"
      ],
      "metadata": {
        "id": "t-Fjg7v2N8bn"
      }
    },
    {
      "cell_type": "code",
      "execution_count": null,
      "metadata": {
        "id": "_BLf06g0N3j4"
      },
      "outputs": [],
      "source": [
        ""
      ]
    }
  ]
}