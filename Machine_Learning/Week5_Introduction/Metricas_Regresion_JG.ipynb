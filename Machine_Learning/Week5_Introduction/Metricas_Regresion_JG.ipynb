{
  "nbformat": 4,
  "nbformat_minor": 0,
  "metadata": {
    "colab": {
      "name": "Metricas_Regresion_JG.ipynb",
      "provenance": [],
      "collapsed_sections": [
        "KKvWUvzm-CBs",
        "b0aoUr-7-KWq",
        "qn4-1EHs-eak",
        "Q1FnRg6_AFxb",
        "cGoV35OnAwBk"
      ],
      "authorship_tag": "ABX9TyM61AS2GrPqWLKYFyhfWqJx",
      "include_colab_link": true
    },
    "kernelspec": {
      "name": "python3",
      "display_name": "Python 3"
    },
    "language_info": {
      "name": "python"
    }
  },
  "cells": [
    {
      "cell_type": "markdown",
      "metadata": {
        "id": "view-in-github",
        "colab_type": "text"
      },
      "source": [
        "<a href=\"https://colab.research.google.com/github/JGuarnizo/Coding_Dojo/blob/main/Machine_Learning/Week5_Introduction/Metricas_Regresion_JG.ipynb\" target=\"_parent\"><img src=\"https://colab.research.google.com/assets/colab-badge.svg\" alt=\"Open In Colab\"/></a>"
      ]
    },
    {
      "cell_type": "markdown",
      "source": [
        "#Métricas de Regresión\n",
        "##Por: José Guarnizo\n",
        "##Fecha: 2022/02/06\n",
        "\n",
        "Tu tarea es calcular el significado del error absoluto medio (MAE), error cuadrático medio (MSE), y la raíz del error cuadrático medio (RMSE) para el conjunto de datos y modelo de la sección de regresión lineal."
      ],
      "metadata": {
        "id": "t-Fjg7v2N8bn"
      }
    },
    {
      "cell_type": "markdown",
      "source": [
        "##Importación de librerías y generación de modelo en variable reg"
      ],
      "metadata": {
        "id": "KKvWUvzm-CBs"
      }
    },
    {
      "cell_type": "code",
      "execution_count": 1,
      "metadata": {
        "id": "_BLf06g0N3j4"
      },
      "outputs": [],
      "source": [
        "import pandas as pd\n",
        "import numpy as np\n",
        "from sklearn.linear_model import LinearRegression"
      ]
    },
    {
      "cell_type": "code",
      "source": [
        "data=pd.read_csv('https://raw.githubusercontent.com/JGuarnizo/Coding_Dojo/main/Machine_Learning/Week5_Introduction/modifiedBostonHousing.csv')"
      ],
      "metadata": {
        "id": "g7XAun1zP7EX"
      },
      "execution_count": 2,
      "outputs": []
    },
    {
      "cell_type": "code",
      "source": [
        "data=data.loc[:,['RM', 'LSTAT', 'PTRATIO', 'price']]"
      ],
      "metadata": {
        "id": "iuiHJSqYQFBO"
      },
      "execution_count": 4,
      "outputs": []
    },
    {
      "cell_type": "code",
      "source": [
        "#Eliminación de valores nulos\n",
        "#Eliminación de valores negativos en price\n",
        "data = data.dropna(how = 'any')\n",
        "filter_price=data['price']<0\n",
        "data=data.loc[~filter_price,:]"
      ],
      "metadata": {
        "id": "1b9szxqM8_YN"
      },
      "execution_count": 5,
      "outputs": []
    },
    {
      "cell_type": "code",
      "source": [
        "#Matriz de caracteristica, vector target y modelo\n",
        "X=data.loc[:,['RM','LSTAT','PTRATIO']].values\n",
        "y=data.loc[:,'price'].values\n",
        "reg=LinearRegression(fit_intercept=True)\n",
        "reg.fit(X,y)"
      ],
      "metadata": {
        "colab": {
          "base_uri": "https://localhost:8080/"
        },
        "id": "4RS0SnXZ9Wb8",
        "outputId": "e540540e-5e68-4d4e-dd4e-f7580beae91f"
      },
      "execution_count": 10,
      "outputs": [
        {
          "output_type": "execute_result",
          "data": {
            "text/plain": [
              "LinearRegression()"
            ]
          },
          "metadata": {},
          "execution_count": 10
        }
      ]
    },
    {
      "cell_type": "markdown",
      "source": [
        "## Cálculo de R2\n",
        "0.7848"
      ],
      "metadata": {
        "id": "b0aoUr-7-KWq"
      }
    },
    {
      "cell_type": "code",
      "source": [
        "score=reg.score(X,y)\n",
        "print(f\"R2 = {score}\")"
      ],
      "metadata": {
        "colab": {
          "base_uri": "https://localhost:8080/"
        },
        "id": "bkeEyuwb9mBK",
        "outputId": "50132aef-9962-438c-cad2-2ac59f9f47e6"
      },
      "execution_count": 11,
      "outputs": [
        {
          "output_type": "stream",
          "name": "stdout",
          "text": [
            "R2 = 0.7848414273030438\n"
          ]
        }
      ]
    },
    {
      "cell_type": "markdown",
      "source": [
        "##Cálculo de MAE\n",
        "Bibliografía: https://scikit-learn.org/stable/modules/generated/sklearn.metrics.mean_absolute_error.html\n",
        "\n",
        "3.231"
      ],
      "metadata": {
        "id": "qn4-1EHs-eak"
      }
    },
    {
      "cell_type": "code",
      "source": [
        "from sklearn.metrics import mean_absolute_error"
      ],
      "metadata": {
        "id": "99yWnnfV-jTs"
      },
      "execution_count": 12,
      "outputs": []
    },
    {
      "cell_type": "code",
      "source": [
        "y_pred=reg.predict(X)"
      ],
      "metadata": {
        "id": "zC9hRPZt_koi"
      },
      "execution_count": 13,
      "outputs": []
    },
    {
      "cell_type": "code",
      "source": [
        "mae=mean_absolute_error(y, y_pred)\n",
        "print(f\"MAE = {mae}\")"
      ],
      "metadata": {
        "colab": {
          "base_uri": "https://localhost:8080/"
        },
        "id": "oEgj9oVq_sCq",
        "outputId": "2d5935cb-db5b-4a47-bf4b-05ba9fc46975"
      },
      "execution_count": 15,
      "outputs": [
        {
          "output_type": "stream",
          "name": "stdout",
          "text": [
            "MAE = 3.2313558816689714\n"
          ]
        }
      ]
    },
    {
      "cell_type": "markdown",
      "source": [
        "##Cálculo de MSE\n",
        "Bibliografía: https://scikit-learn.org/stable/modules/generated/sklearn.metrics.mean_squared_error.html\n",
        "\n",
        "17.915"
      ],
      "metadata": {
        "id": "Q1FnRg6_AFxb"
      }
    },
    {
      "cell_type": "code",
      "source": [
        "from sklearn.metrics import mean_squared_error"
      ],
      "metadata": {
        "id": "CYTfNQHxAN55"
      },
      "execution_count": 16,
      "outputs": []
    },
    {
      "cell_type": "code",
      "source": [
        "mse=mean_squared_error(y, y_pred)\n",
        "print(f\"MSE = {mse}\")"
      ],
      "metadata": {
        "colab": {
          "base_uri": "https://localhost:8080/"
        },
        "id": "3xmlJifKAV0D",
        "outputId": "19f5dc8c-8533-445b-8974-79890b0e6dcd"
      },
      "execution_count": 17,
      "outputs": [
        {
          "output_type": "stream",
          "name": "stdout",
          "text": [
            "MSE = 17.915487275260496\n"
          ]
        }
      ]
    },
    {
      "cell_type": "markdown",
      "source": [
        "##Cálculo de RMSE\n",
        "Bibliografía: https://www.delftstack.com/es/howto/python/square-root-in-python/\n",
        "\n",
        "MSE = 4.232"
      ],
      "metadata": {
        "id": "cGoV35OnAwBk"
      }
    },
    {
      "cell_type": "code",
      "source": [
        "rmse=np.sqrt(mse)\n",
        "print(f\"MSE = {rmse}\")"
      ],
      "metadata": {
        "colab": {
          "base_uri": "https://localhost:8080/"
        },
        "id": "0WgOY1a1A-Zi",
        "outputId": "052d052b-383d-4c81-bf10-3026a58f577d"
      },
      "execution_count": 19,
      "outputs": [
        {
          "output_type": "stream",
          "name": "stdout",
          "text": [
            "MSE = 4.232669048633556\n"
          ]
        }
      ]
    }
  ]
}