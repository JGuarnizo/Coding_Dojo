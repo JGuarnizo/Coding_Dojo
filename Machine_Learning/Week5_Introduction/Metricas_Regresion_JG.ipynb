{
  "nbformat": 4,
  "nbformat_minor": 0,
  "metadata": {
    "colab": {
      "name": "Metricas_Regresion_JG.ipynb",
      "provenance": [],
      "collapsed_sections": [
        "b0aoUr-7-KWq",
        "qn4-1EHs-eak",
        "Q1FnRg6_AFxb",
        "cGoV35OnAwBk"
      ],
      "authorship_tag": "ABX9TyOQLqDUbmwgSPwaZxwORHfz",
      "include_colab_link": true
    },
    "kernelspec": {
      "name": "python3",
      "display_name": "Python 3"
    },
    "language_info": {
      "name": "python"
    }
  },
  "cells": [
    {
      "cell_type": "markdown",
      "metadata": {
        "id": "view-in-github",
        "colab_type": "text"
      },
      "source": [
        "<a href=\"https://colab.research.google.com/github/JGuarnizo/Coding_Dojo/blob/main/Machine_Learning/Week5_Introduction/Metricas_Regresion_JG.ipynb\" target=\"_parent\"><img src=\"https://colab.research.google.com/assets/colab-badge.svg\" alt=\"Open In Colab\"/></a>"
      ]
    },
    {
      "cell_type": "markdown",
      "source": [
        "#Métricas de Regresión\n",
        "##Por: José Guarnizo\n",
        "##Fecha: 2022/02/06\n",
        "\n",
        "Tu tarea es calcular el significado del error absoluto medio (MAE), error cuadrático medio (MSE), y la raíz del error cuadrático medio (RMSE) para el conjunto de datos y modelo de la sección de regresión lineal."
      ],
      "metadata": {
        "id": "t-Fjg7v2N8bn"
      }
    },
    {
      "cell_type": "markdown",
      "source": [
        "##Importación de librerías y generación de modelo en variable reg"
      ],
      "metadata": {
        "id": "KKvWUvzm-CBs"
      }
    },
    {
      "cell_type": "code",
      "execution_count": 1,
      "metadata": {
        "id": "_BLf06g0N3j4"
      },
      "outputs": [],
      "source": [
        "import pandas as pd\n",
        "import numpy as np\n",
        "from sklearn.linear_model import LinearRegression"
      ]
    },
    {
      "cell_type": "code",
      "source": [
        "data=pd.read_csv('https://raw.githubusercontent.com/JGuarnizo/Coding_Dojo/main/Machine_Learning/Week5_Introduction/modifiedBostonHousing.csv')"
      ],
      "metadata": {
        "id": "g7XAun1zP7EX"
      },
      "execution_count": 2,
      "outputs": []
    },
    {
      "cell_type": "code",
      "source": [
        "data=data.loc[:,['RM', 'LSTAT', 'PTRATIO', 'price']]\n",
        "data.head()"
      ],
      "metadata": {
        "colab": {
          "base_uri": "https://localhost:8080/",
          "height": 206
        },
        "id": "iuiHJSqYQFBO",
        "outputId": "fa45f1ba-4349-4144-d79e-2c39dc70d977"
      },
      "execution_count": 20,
      "outputs": [
        {
          "output_type": "execute_result",
          "data": {
            "text/html": [
              "\n",
              "  <div id=\"df-d7f3b2dc-4bc3-4a1d-a5cb-f4b105f081f8\">\n",
              "    <div class=\"colab-df-container\">\n",
              "      <div>\n",
              "<style scoped>\n",
              "    .dataframe tbody tr th:only-of-type {\n",
              "        vertical-align: middle;\n",
              "    }\n",
              "\n",
              "    .dataframe tbody tr th {\n",
              "        vertical-align: top;\n",
              "    }\n",
              "\n",
              "    .dataframe thead th {\n",
              "        text-align: right;\n",
              "    }\n",
              "</style>\n",
              "<table border=\"1\" class=\"dataframe\">\n",
              "  <thead>\n",
              "    <tr style=\"text-align: right;\">\n",
              "      <th></th>\n",
              "      <th>RM</th>\n",
              "      <th>LSTAT</th>\n",
              "      <th>PTRATIO</th>\n",
              "      <th>price</th>\n",
              "    </tr>\n",
              "  </thead>\n",
              "  <tbody>\n",
              "    <tr>\n",
              "      <th>0</th>\n",
              "      <td>6.575</td>\n",
              "      <td>4.98</td>\n",
              "      <td>15.3</td>\n",
              "      <td>24.0</td>\n",
              "    </tr>\n",
              "    <tr>\n",
              "      <th>1</th>\n",
              "      <td>6.421</td>\n",
              "      <td>9.14</td>\n",
              "      <td>17.8</td>\n",
              "      <td>21.6</td>\n",
              "    </tr>\n",
              "    <tr>\n",
              "      <th>2</th>\n",
              "      <td>7.185</td>\n",
              "      <td>4.03</td>\n",
              "      <td>17.8</td>\n",
              "      <td>34.7</td>\n",
              "    </tr>\n",
              "    <tr>\n",
              "      <th>3</th>\n",
              "      <td>6.998</td>\n",
              "      <td>2.94</td>\n",
              "      <td>18.7</td>\n",
              "      <td>33.4</td>\n",
              "    </tr>\n",
              "    <tr>\n",
              "      <th>4</th>\n",
              "      <td>7.147</td>\n",
              "      <td>5.33</td>\n",
              "      <td>18.7</td>\n",
              "      <td>36.2</td>\n",
              "    </tr>\n",
              "  </tbody>\n",
              "</table>\n",
              "</div>\n",
              "      <button class=\"colab-df-convert\" onclick=\"convertToInteractive('df-d7f3b2dc-4bc3-4a1d-a5cb-f4b105f081f8')\"\n",
              "              title=\"Convert this dataframe to an interactive table.\"\n",
              "              style=\"display:none;\">\n",
              "        \n",
              "  <svg xmlns=\"http://www.w3.org/2000/svg\" height=\"24px\"viewBox=\"0 0 24 24\"\n",
              "       width=\"24px\">\n",
              "    <path d=\"M0 0h24v24H0V0z\" fill=\"none\"/>\n",
              "    <path d=\"M18.56 5.44l.94 2.06.94-2.06 2.06-.94-2.06-.94-.94-2.06-.94 2.06-2.06.94zm-11 1L8.5 8.5l.94-2.06 2.06-.94-2.06-.94L8.5 2.5l-.94 2.06-2.06.94zm10 10l.94 2.06.94-2.06 2.06-.94-2.06-.94-.94-2.06-.94 2.06-2.06.94z\"/><path d=\"M17.41 7.96l-1.37-1.37c-.4-.4-.92-.59-1.43-.59-.52 0-1.04.2-1.43.59L10.3 9.45l-7.72 7.72c-.78.78-.78 2.05 0 2.83L4 21.41c.39.39.9.59 1.41.59.51 0 1.02-.2 1.41-.59l7.78-7.78 2.81-2.81c.8-.78.8-2.07 0-2.86zM5.41 20L4 18.59l7.72-7.72 1.47 1.35L5.41 20z\"/>\n",
              "  </svg>\n",
              "      </button>\n",
              "      \n",
              "  <style>\n",
              "    .colab-df-container {\n",
              "      display:flex;\n",
              "      flex-wrap:wrap;\n",
              "      gap: 12px;\n",
              "    }\n",
              "\n",
              "    .colab-df-convert {\n",
              "      background-color: #E8F0FE;\n",
              "      border: none;\n",
              "      border-radius: 50%;\n",
              "      cursor: pointer;\n",
              "      display: none;\n",
              "      fill: #1967D2;\n",
              "      height: 32px;\n",
              "      padding: 0 0 0 0;\n",
              "      width: 32px;\n",
              "    }\n",
              "\n",
              "    .colab-df-convert:hover {\n",
              "      background-color: #E2EBFA;\n",
              "      box-shadow: 0px 1px 2px rgba(60, 64, 67, 0.3), 0px 1px 3px 1px rgba(60, 64, 67, 0.15);\n",
              "      fill: #174EA6;\n",
              "    }\n",
              "\n",
              "    [theme=dark] .colab-df-convert {\n",
              "      background-color: #3B4455;\n",
              "      fill: #D2E3FC;\n",
              "    }\n",
              "\n",
              "    [theme=dark] .colab-df-convert:hover {\n",
              "      background-color: #434B5C;\n",
              "      box-shadow: 0px 1px 3px 1px rgba(0, 0, 0, 0.15);\n",
              "      filter: drop-shadow(0px 1px 2px rgba(0, 0, 0, 0.3));\n",
              "      fill: #FFFFFF;\n",
              "    }\n",
              "  </style>\n",
              "\n",
              "      <script>\n",
              "        const buttonEl =\n",
              "          document.querySelector('#df-d7f3b2dc-4bc3-4a1d-a5cb-f4b105f081f8 button.colab-df-convert');\n",
              "        buttonEl.style.display =\n",
              "          google.colab.kernel.accessAllowed ? 'block' : 'none';\n",
              "\n",
              "        async function convertToInteractive(key) {\n",
              "          const element = document.querySelector('#df-d7f3b2dc-4bc3-4a1d-a5cb-f4b105f081f8');\n",
              "          const dataTable =\n",
              "            await google.colab.kernel.invokeFunction('convertToInteractive',\n",
              "                                                     [key], {});\n",
              "          if (!dataTable) return;\n",
              "\n",
              "          const docLinkHtml = 'Like what you see? Visit the ' +\n",
              "            '<a target=\"_blank\" href=https://colab.research.google.com/notebooks/data_table.ipynb>data table notebook</a>'\n",
              "            + ' to learn more about interactive tables.';\n",
              "          element.innerHTML = '';\n",
              "          dataTable['output_type'] = 'display_data';\n",
              "          await google.colab.output.renderOutput(dataTable, element);\n",
              "          const docLink = document.createElement('div');\n",
              "          docLink.innerHTML = docLinkHtml;\n",
              "          element.appendChild(docLink);\n",
              "        }\n",
              "      </script>\n",
              "    </div>\n",
              "  </div>\n",
              "  "
            ],
            "text/plain": [
              "      RM  LSTAT  PTRATIO  price\n",
              "0  6.575   4.98     15.3   24.0\n",
              "1  6.421   9.14     17.8   21.6\n",
              "2  7.185   4.03     17.8   34.7\n",
              "3  6.998   2.94     18.7   33.4\n",
              "4  7.147   5.33     18.7   36.2"
            ]
          },
          "metadata": {},
          "execution_count": 20
        }
      ]
    },
    {
      "cell_type": "code",
      "source": [
        "#Eliminación de valores nulos\n",
        "#Eliminación de valores negativos en price\n",
        "data = data.dropna(how = 'any')\n",
        "filter_price=data['price']<0\n",
        "data=data.loc[~filter_price,:]"
      ],
      "metadata": {
        "id": "1b9szxqM8_YN"
      },
      "execution_count": 5,
      "outputs": []
    },
    {
      "cell_type": "code",
      "source": [
        "#Matriz de caracteristica, vector target y modelo\n",
        "X=data.loc[:,['RM','LSTAT','PTRATIO']].values\n",
        "y=data.loc[:,'price'].values\n",
        "reg=LinearRegression(fit_intercept=True)\n",
        "reg.fit(X,y)"
      ],
      "metadata": {
        "colab": {
          "base_uri": "https://localhost:8080/"
        },
        "id": "4RS0SnXZ9Wb8",
        "outputId": "e540540e-5e68-4d4e-dd4e-f7580beae91f"
      },
      "execution_count": 10,
      "outputs": [
        {
          "output_type": "execute_result",
          "data": {
            "text/plain": [
              "LinearRegression()"
            ]
          },
          "metadata": {},
          "execution_count": 10
        }
      ]
    },
    {
      "cell_type": "markdown",
      "source": [
        "## Cálculo de R2\n",
        "0.7848% de mi variable 'price' esta explicada por las variables ['RM', 'LSTAT', 'PTRATIO']"
      ],
      "metadata": {
        "id": "b0aoUr-7-KWq"
      }
    },
    {
      "cell_type": "code",
      "source": [
        "score=reg.score(X,y)\n",
        "print(f\"R2 = {score}\")"
      ],
      "metadata": {
        "colab": {
          "base_uri": "https://localhost:8080/"
        },
        "id": "bkeEyuwb9mBK",
        "outputId": "50132aef-9962-438c-cad2-2ac59f9f47e6"
      },
      "execution_count": 11,
      "outputs": [
        {
          "output_type": "stream",
          "name": "stdout",
          "text": [
            "R2 = 0.7848414273030438\n"
          ]
        }
      ]
    },
    {
      "cell_type": "markdown",
      "source": [
        "##Cálculo de MAE\n",
        "Bibliografía: https://scikit-learn.org/stable/modules/generated/sklearn.metrics.mean_absolute_error.html\n",
        "\n",
        "El modelo, en general, falla con 3.231 miles de dolares cada proyección."
      ],
      "metadata": {
        "id": "qn4-1EHs-eak"
      }
    },
    {
      "cell_type": "code",
      "source": [
        "from sklearn.metrics import mean_absolute_error"
      ],
      "metadata": {
        "id": "99yWnnfV-jTs"
      },
      "execution_count": 12,
      "outputs": []
    },
    {
      "cell_type": "code",
      "source": [
        "y_pred=reg.predict(X)"
      ],
      "metadata": {
        "id": "zC9hRPZt_koi"
      },
      "execution_count": 13,
      "outputs": []
    },
    {
      "cell_type": "code",
      "source": [
        "mae=mean_absolute_error(y, y_pred)\n",
        "print(f\"MAE = {mae}\")"
      ],
      "metadata": {
        "colab": {
          "base_uri": "https://localhost:8080/"
        },
        "id": "oEgj9oVq_sCq",
        "outputId": "2d5935cb-db5b-4a47-bf4b-05ba9fc46975"
      },
      "execution_count": 15,
      "outputs": [
        {
          "output_type": "stream",
          "name": "stdout",
          "text": [
            "MAE = 3.2313558816689714\n"
          ]
        }
      ]
    },
    {
      "cell_type": "markdown",
      "source": [
        "##Cálculo de MSE\n",
        "Bibliografía: https://scikit-learn.org/stable/modules/generated/sklearn.metrics.mean_squared_error.html\n",
        "\n",
        "Este error se usa más para optimización ya que castiga más los errores grandes. En general, el modelo falla con 17.915 miles de dolares al cuadrado."
      ],
      "metadata": {
        "id": "Q1FnRg6_AFxb"
      }
    },
    {
      "cell_type": "code",
      "source": [
        "from sklearn.metrics import mean_squared_error"
      ],
      "metadata": {
        "id": "CYTfNQHxAN55"
      },
      "execution_count": 16,
      "outputs": []
    },
    {
      "cell_type": "code",
      "source": [
        "mse=mean_squared_error(y, y_pred)\n",
        "print(f\"MSE = {mse}\")"
      ],
      "metadata": {
        "colab": {
          "base_uri": "https://localhost:8080/"
        },
        "id": "3xmlJifKAV0D",
        "outputId": "19f5dc8c-8533-445b-8974-79890b0e6dcd"
      },
      "execution_count": 17,
      "outputs": [
        {
          "output_type": "stream",
          "name": "stdout",
          "text": [
            "MSE = 17.915487275260496\n"
          ]
        }
      ]
    },
    {
      "cell_type": "markdown",
      "source": [
        "##Cálculo de RMSE\n",
        "Bibliografía: https://www.delftstack.com/es/howto/python/square-root-in-python/\n",
        "\n",
        "Raíz cuadrada del MSE. Indica que el modelo falla 4.232 miles de dolares en cada proyección. Este tipo de error es más sensible a las variaciones."
      ],
      "metadata": {
        "id": "cGoV35OnAwBk"
      }
    },
    {
      "cell_type": "code",
      "source": [
        "rmse=np.sqrt(mse)\n",
        "print(f\"MSE = {rmse}\")"
      ],
      "metadata": {
        "colab": {
          "base_uri": "https://localhost:8080/"
        },
        "id": "0WgOY1a1A-Zi",
        "outputId": "052d052b-383d-4c81-bf10-3026a58f577d"
      },
      "execution_count": 19,
      "outputs": [
        {
          "output_type": "stream",
          "name": "stdout",
          "text": [
            "MSE = 4.232669048633556\n"
          ]
        }
      ]
    }
  ]
}