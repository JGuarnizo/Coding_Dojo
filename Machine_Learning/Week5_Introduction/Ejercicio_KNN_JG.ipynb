{
  "nbformat": 4,
  "nbformat_minor": 0,
  "metadata": {
    "colab": {
      "name": "Ejercicio_KNN_JG.ipynb",
      "provenance": [],
      "collapsed_sections": [
        "wV44wUMKiima",
        "echXfArDY0H2"
      ],
      "authorship_tag": "ABX9TyOVBf0wzYDCS+1rW2vQKNRq",
      "include_colab_link": true
    },
    "kernelspec": {
      "name": "python3",
      "display_name": "Python 3"
    },
    "language_info": {
      "name": "python"
    }
  },
  "cells": [
    {
      "cell_type": "markdown",
      "metadata": {
        "id": "view-in-github",
        "colab_type": "text"
      },
      "source": [
        "<a href=\"https://colab.research.google.com/github/JGuarnizo/Coding_Dojo/blob/main/Machine_Learning/Week5_Introduction/Ejercicio_KNN_JG.ipynb\" target=\"_parent\"><img src=\"https://colab.research.google.com/assets/colab-badge.svg\" alt=\"Open In Colab\"/></a>"
      ]
    },
    {
      "cell_type": "markdown",
      "source": [
        "#Ejercicio KNN\n",
        "#Por: José Guarnizo\n",
        "\n",
        "Tarea\n",
        "\n",
        "Tienes dos tareas principales. La primera tarea es utilizar el conjunto de datos del abulón para predecir la edad del abulón a partir de mediciones físicas utilizando KNN. Este es un problema de regresión. Es posible que desees buscar en Google \"KNN regression scikit-learn\". La segunda tarea es utilizar el conjunto de datos de abulón para predecir el sexo a partir de sus características. Esta debería ser una tarea más fácil, ya que ya hemos repasado la clasificación KNN usando Python.\n",
        "\n"
      ],
      "metadata": {
        "id": "Z75HQ2buVjov"
      }
    },
    {
      "cell_type": "markdown",
      "source": [
        "##Importación de librerías y exploración de data"
      ],
      "metadata": {
        "id": "wV44wUMKiima"
      }
    },
    {
      "cell_type": "code",
      "execution_count": 105,
      "metadata": {
        "id": "9QJjLZSsVg4L"
      },
      "outputs": [],
      "source": [
        "#Importación de librerías\n",
        "import pandas as pd\n",
        "import numpy as np\n",
        "from sklearn.preprocessing import StandardScaler\n",
        "from sklearn.neighbors import KNeighborsClassifier\n",
        "from sklearn.neighbors import KNeighborsRegressor\n",
        "from sklearn.linear_model import LinearRegression\n",
        "from sklearn.metrics import mean_absolute_error"
      ]
    },
    {
      "cell_type": "code",
      "source": [
        "#Lectura de data, alojada en repositorio de Github.\n",
        "df=pd.read_csv('https://raw.githubusercontent.com/JGuarnizo/Coding_Dojo/main/Machine_Learning/Week5_Introduction/abalone.data')\n",
        "column_names=['sex','length','diameter','height','whole weight',\n",
        "              'shucked weight', 'viscera weight','shell weight','rings']\n",
        "df.columns=column_names\n",
        "df.info()"
      ],
      "metadata": {
        "colab": {
          "base_uri": "https://localhost:8080/"
        },
        "id": "Hkwbe3U9W52H",
        "outputId": "d1e49ff0-6087-4b47-d99d-492f9f4d5f6f"
      },
      "execution_count": 106,
      "outputs": [
        {
          "output_type": "stream",
          "name": "stdout",
          "text": [
            "<class 'pandas.core.frame.DataFrame'>\n",
            "RangeIndex: 4176 entries, 0 to 4175\n",
            "Data columns (total 9 columns):\n",
            " #   Column          Non-Null Count  Dtype  \n",
            "---  ------          --------------  -----  \n",
            " 0   sex             4176 non-null   object \n",
            " 1   length          4176 non-null   float64\n",
            " 2   diameter        4176 non-null   float64\n",
            " 3   height          4176 non-null   float64\n",
            " 4   whole weight    4176 non-null   float64\n",
            " 5   shucked weight  4176 non-null   float64\n",
            " 6   viscera weight  4176 non-null   float64\n",
            " 7   shell weight    4176 non-null   float64\n",
            " 8   rings           4176 non-null   int64  \n",
            "dtypes: float64(7), int64(1), object(1)\n",
            "memory usage: 293.8+ KB\n"
          ]
        }
      ]
    },
    {
      "cell_type": "code",
      "source": [
        "df.head()"
      ],
      "metadata": {
        "colab": {
          "base_uri": "https://localhost:8080/",
          "height": 206
        },
        "id": "8rq5uEvhXJv1",
        "outputId": "31b254ea-c8ac-41f2-bfae-a2a51ef42b3a"
      },
      "execution_count": 107,
      "outputs": [
        {
          "output_type": "execute_result",
          "data": {
            "text/html": [
              "\n",
              "  <div id=\"df-6a5df24c-d1c2-474a-94c3-1a13b3ad6f76\">\n",
              "    <div class=\"colab-df-container\">\n",
              "      <div>\n",
              "<style scoped>\n",
              "    .dataframe tbody tr th:only-of-type {\n",
              "        vertical-align: middle;\n",
              "    }\n",
              "\n",
              "    .dataframe tbody tr th {\n",
              "        vertical-align: top;\n",
              "    }\n",
              "\n",
              "    .dataframe thead th {\n",
              "        text-align: right;\n",
              "    }\n",
              "</style>\n",
              "<table border=\"1\" class=\"dataframe\">\n",
              "  <thead>\n",
              "    <tr style=\"text-align: right;\">\n",
              "      <th></th>\n",
              "      <th>sex</th>\n",
              "      <th>length</th>\n",
              "      <th>diameter</th>\n",
              "      <th>height</th>\n",
              "      <th>whole weight</th>\n",
              "      <th>shucked weight</th>\n",
              "      <th>viscera weight</th>\n",
              "      <th>shell weight</th>\n",
              "      <th>rings</th>\n",
              "    </tr>\n",
              "  </thead>\n",
              "  <tbody>\n",
              "    <tr>\n",
              "      <th>0</th>\n",
              "      <td>M</td>\n",
              "      <td>0.350</td>\n",
              "      <td>0.265</td>\n",
              "      <td>0.090</td>\n",
              "      <td>0.2255</td>\n",
              "      <td>0.0995</td>\n",
              "      <td>0.0485</td>\n",
              "      <td>0.070</td>\n",
              "      <td>7</td>\n",
              "    </tr>\n",
              "    <tr>\n",
              "      <th>1</th>\n",
              "      <td>F</td>\n",
              "      <td>0.530</td>\n",
              "      <td>0.420</td>\n",
              "      <td>0.135</td>\n",
              "      <td>0.6770</td>\n",
              "      <td>0.2565</td>\n",
              "      <td>0.1415</td>\n",
              "      <td>0.210</td>\n",
              "      <td>9</td>\n",
              "    </tr>\n",
              "    <tr>\n",
              "      <th>2</th>\n",
              "      <td>M</td>\n",
              "      <td>0.440</td>\n",
              "      <td>0.365</td>\n",
              "      <td>0.125</td>\n",
              "      <td>0.5160</td>\n",
              "      <td>0.2155</td>\n",
              "      <td>0.1140</td>\n",
              "      <td>0.155</td>\n",
              "      <td>10</td>\n",
              "    </tr>\n",
              "    <tr>\n",
              "      <th>3</th>\n",
              "      <td>I</td>\n",
              "      <td>0.330</td>\n",
              "      <td>0.255</td>\n",
              "      <td>0.080</td>\n",
              "      <td>0.2050</td>\n",
              "      <td>0.0895</td>\n",
              "      <td>0.0395</td>\n",
              "      <td>0.055</td>\n",
              "      <td>7</td>\n",
              "    </tr>\n",
              "    <tr>\n",
              "      <th>4</th>\n",
              "      <td>I</td>\n",
              "      <td>0.425</td>\n",
              "      <td>0.300</td>\n",
              "      <td>0.095</td>\n",
              "      <td>0.3515</td>\n",
              "      <td>0.1410</td>\n",
              "      <td>0.0775</td>\n",
              "      <td>0.120</td>\n",
              "      <td>8</td>\n",
              "    </tr>\n",
              "  </tbody>\n",
              "</table>\n",
              "</div>\n",
              "      <button class=\"colab-df-convert\" onclick=\"convertToInteractive('df-6a5df24c-d1c2-474a-94c3-1a13b3ad6f76')\"\n",
              "              title=\"Convert this dataframe to an interactive table.\"\n",
              "              style=\"display:none;\">\n",
              "        \n",
              "  <svg xmlns=\"http://www.w3.org/2000/svg\" height=\"24px\"viewBox=\"0 0 24 24\"\n",
              "       width=\"24px\">\n",
              "    <path d=\"M0 0h24v24H0V0z\" fill=\"none\"/>\n",
              "    <path d=\"M18.56 5.44l.94 2.06.94-2.06 2.06-.94-2.06-.94-.94-2.06-.94 2.06-2.06.94zm-11 1L8.5 8.5l.94-2.06 2.06-.94-2.06-.94L8.5 2.5l-.94 2.06-2.06.94zm10 10l.94 2.06.94-2.06 2.06-.94-2.06-.94-.94-2.06-.94 2.06-2.06.94z\"/><path d=\"M17.41 7.96l-1.37-1.37c-.4-.4-.92-.59-1.43-.59-.52 0-1.04.2-1.43.59L10.3 9.45l-7.72 7.72c-.78.78-.78 2.05 0 2.83L4 21.41c.39.39.9.59 1.41.59.51 0 1.02-.2 1.41-.59l7.78-7.78 2.81-2.81c.8-.78.8-2.07 0-2.86zM5.41 20L4 18.59l7.72-7.72 1.47 1.35L5.41 20z\"/>\n",
              "  </svg>\n",
              "      </button>\n",
              "      \n",
              "  <style>\n",
              "    .colab-df-container {\n",
              "      display:flex;\n",
              "      flex-wrap:wrap;\n",
              "      gap: 12px;\n",
              "    }\n",
              "\n",
              "    .colab-df-convert {\n",
              "      background-color: #E8F0FE;\n",
              "      border: none;\n",
              "      border-radius: 50%;\n",
              "      cursor: pointer;\n",
              "      display: none;\n",
              "      fill: #1967D2;\n",
              "      height: 32px;\n",
              "      padding: 0 0 0 0;\n",
              "      width: 32px;\n",
              "    }\n",
              "\n",
              "    .colab-df-convert:hover {\n",
              "      background-color: #E2EBFA;\n",
              "      box-shadow: 0px 1px 2px rgba(60, 64, 67, 0.3), 0px 1px 3px 1px rgba(60, 64, 67, 0.15);\n",
              "      fill: #174EA6;\n",
              "    }\n",
              "\n",
              "    [theme=dark] .colab-df-convert {\n",
              "      background-color: #3B4455;\n",
              "      fill: #D2E3FC;\n",
              "    }\n",
              "\n",
              "    [theme=dark] .colab-df-convert:hover {\n",
              "      background-color: #434B5C;\n",
              "      box-shadow: 0px 1px 3px 1px rgba(0, 0, 0, 0.15);\n",
              "      filter: drop-shadow(0px 1px 2px rgba(0, 0, 0, 0.3));\n",
              "      fill: #FFFFFF;\n",
              "    }\n",
              "  </style>\n",
              "\n",
              "      <script>\n",
              "        const buttonEl =\n",
              "          document.querySelector('#df-6a5df24c-d1c2-474a-94c3-1a13b3ad6f76 button.colab-df-convert');\n",
              "        buttonEl.style.display =\n",
              "          google.colab.kernel.accessAllowed ? 'block' : 'none';\n",
              "\n",
              "        async function convertToInteractive(key) {\n",
              "          const element = document.querySelector('#df-6a5df24c-d1c2-474a-94c3-1a13b3ad6f76');\n",
              "          const dataTable =\n",
              "            await google.colab.kernel.invokeFunction('convertToInteractive',\n",
              "                                                     [key], {});\n",
              "          if (!dataTable) return;\n",
              "\n",
              "          const docLinkHtml = 'Like what you see? Visit the ' +\n",
              "            '<a target=\"_blank\" href=https://colab.research.google.com/notebooks/data_table.ipynb>data table notebook</a>'\n",
              "            + ' to learn more about interactive tables.';\n",
              "          element.innerHTML = '';\n",
              "          dataTable['output_type'] = 'display_data';\n",
              "          await google.colab.output.renderOutput(dataTable, element);\n",
              "          const docLink = document.createElement('div');\n",
              "          docLink.innerHTML = docLinkHtml;\n",
              "          element.appendChild(docLink);\n",
              "        }\n",
              "      </script>\n",
              "    </div>\n",
              "  </div>\n",
              "  "
            ],
            "text/plain": [
              "  sex  length  diameter  ...  viscera weight  shell weight  rings\n",
              "0   M   0.350     0.265  ...          0.0485         0.070      7\n",
              "1   F   0.530     0.420  ...          0.1415         0.210      9\n",
              "2   M   0.440     0.365  ...          0.1140         0.155     10\n",
              "3   I   0.330     0.255  ...          0.0395         0.055      7\n",
              "4   I   0.425     0.300  ...          0.0775         0.120      8\n",
              "\n",
              "[5 rows x 9 columns]"
            ]
          },
          "metadata": {},
          "execution_count": 107
        }
      ]
    },
    {
      "cell_type": "markdown",
      "source": [
        "##1. Predecir la edad del abulón a partir de mediciones físicas utilizando KNN\n",
        "Variable rings = (int)\n",
        "\n",
        "**¿Podrías haber utilizado la regresión lineal y la regresión KNN para resolver el problema de regresión?**\n",
        "\n",
        "Si, se puede utilizar tanto la regresión lineal como la KNN-regresión. Sin embargo, KNN presenta un mejor desempeño que la regresión lineal. Analizando el R2 KNN es de 0.68 y la regresión lineal es de 0.53, asimismo, el error (MAE) es mayor en el modelo de regresión lineal que en el de KNN-regresión . Y si se disminuye el valor de n_neighbors en el modelo KNN el R2 puede llegar a 1, pero aquí el modelo caería en overfitting. Para esta base pequeña funciona muy bien KNN-regresión"
      ],
      "metadata": {
        "id": "echXfArDY0H2"
      }
    },
    {
      "cell_type": "code",
      "source": [
        "#Matriz de correlación entre variables numéricas\n",
        "df.drop(columns=['sex']).corr()"
      ],
      "metadata": {
        "colab": {
          "base_uri": "https://localhost:8080/",
          "height": 300
        },
        "id": "NC7RKUTCc4wX",
        "outputId": "554644e8-ffe6-4b1d-d7c3-c4da6abb1338"
      },
      "execution_count": 108,
      "outputs": [
        {
          "output_type": "execute_result",
          "data": {
            "text/html": [
              "\n",
              "  <div id=\"df-2f5d2886-56dd-4f51-930f-f6f6b2cef7a4\">\n",
              "    <div class=\"colab-df-container\">\n",
              "      <div>\n",
              "<style scoped>\n",
              "    .dataframe tbody tr th:only-of-type {\n",
              "        vertical-align: middle;\n",
              "    }\n",
              "\n",
              "    .dataframe tbody tr th {\n",
              "        vertical-align: top;\n",
              "    }\n",
              "\n",
              "    .dataframe thead th {\n",
              "        text-align: right;\n",
              "    }\n",
              "</style>\n",
              "<table border=\"1\" class=\"dataframe\">\n",
              "  <thead>\n",
              "    <tr style=\"text-align: right;\">\n",
              "      <th></th>\n",
              "      <th>length</th>\n",
              "      <th>diameter</th>\n",
              "      <th>height</th>\n",
              "      <th>whole weight</th>\n",
              "      <th>shucked weight</th>\n",
              "      <th>viscera weight</th>\n",
              "      <th>shell weight</th>\n",
              "      <th>rings</th>\n",
              "    </tr>\n",
              "  </thead>\n",
              "  <tbody>\n",
              "    <tr>\n",
              "      <th>length</th>\n",
              "      <td>1.000000</td>\n",
              "      <td>0.986813</td>\n",
              "      <td>0.827552</td>\n",
              "      <td>0.925255</td>\n",
              "      <td>0.897905</td>\n",
              "      <td>0.903010</td>\n",
              "      <td>0.897697</td>\n",
              "      <td>0.557123</td>\n",
              "    </tr>\n",
              "    <tr>\n",
              "      <th>diameter</th>\n",
              "      <td>0.986813</td>\n",
              "      <td>1.000000</td>\n",
              "      <td>0.833705</td>\n",
              "      <td>0.925452</td>\n",
              "      <td>0.893159</td>\n",
              "      <td>0.899726</td>\n",
              "      <td>0.905328</td>\n",
              "      <td>0.575005</td>\n",
              "    </tr>\n",
              "    <tr>\n",
              "      <th>height</th>\n",
              "      <td>0.827552</td>\n",
              "      <td>0.833705</td>\n",
              "      <td>1.000000</td>\n",
              "      <td>0.819209</td>\n",
              "      <td>0.774957</td>\n",
              "      <td>0.798293</td>\n",
              "      <td>0.817326</td>\n",
              "      <td>0.558109</td>\n",
              "    </tr>\n",
              "    <tr>\n",
              "      <th>whole weight</th>\n",
              "      <td>0.925255</td>\n",
              "      <td>0.925452</td>\n",
              "      <td>0.819209</td>\n",
              "      <td>1.000000</td>\n",
              "      <td>0.969403</td>\n",
              "      <td>0.966372</td>\n",
              "      <td>0.955351</td>\n",
              "      <td>0.540818</td>\n",
              "    </tr>\n",
              "    <tr>\n",
              "      <th>shucked weight</th>\n",
              "      <td>0.897905</td>\n",
              "      <td>0.893159</td>\n",
              "      <td>0.774957</td>\n",
              "      <td>0.969403</td>\n",
              "      <td>1.000000</td>\n",
              "      <td>0.931956</td>\n",
              "      <td>0.882606</td>\n",
              "      <td>0.421256</td>\n",
              "    </tr>\n",
              "    <tr>\n",
              "      <th>viscera weight</th>\n",
              "      <td>0.903010</td>\n",
              "      <td>0.899726</td>\n",
              "      <td>0.798293</td>\n",
              "      <td>0.966372</td>\n",
              "      <td>0.931956</td>\n",
              "      <td>1.000000</td>\n",
              "      <td>0.907647</td>\n",
              "      <td>0.504274</td>\n",
              "    </tr>\n",
              "    <tr>\n",
              "      <th>shell weight</th>\n",
              "      <td>0.897697</td>\n",
              "      <td>0.905328</td>\n",
              "      <td>0.817326</td>\n",
              "      <td>0.955351</td>\n",
              "      <td>0.882606</td>\n",
              "      <td>0.907647</td>\n",
              "      <td>1.000000</td>\n",
              "      <td>0.628031</td>\n",
              "    </tr>\n",
              "    <tr>\n",
              "      <th>rings</th>\n",
              "      <td>0.557123</td>\n",
              "      <td>0.575005</td>\n",
              "      <td>0.558109</td>\n",
              "      <td>0.540818</td>\n",
              "      <td>0.421256</td>\n",
              "      <td>0.504274</td>\n",
              "      <td>0.628031</td>\n",
              "      <td>1.000000</td>\n",
              "    </tr>\n",
              "  </tbody>\n",
              "</table>\n",
              "</div>\n",
              "      <button class=\"colab-df-convert\" onclick=\"convertToInteractive('df-2f5d2886-56dd-4f51-930f-f6f6b2cef7a4')\"\n",
              "              title=\"Convert this dataframe to an interactive table.\"\n",
              "              style=\"display:none;\">\n",
              "        \n",
              "  <svg xmlns=\"http://www.w3.org/2000/svg\" height=\"24px\"viewBox=\"0 0 24 24\"\n",
              "       width=\"24px\">\n",
              "    <path d=\"M0 0h24v24H0V0z\" fill=\"none\"/>\n",
              "    <path d=\"M18.56 5.44l.94 2.06.94-2.06 2.06-.94-2.06-.94-.94-2.06-.94 2.06-2.06.94zm-11 1L8.5 8.5l.94-2.06 2.06-.94-2.06-.94L8.5 2.5l-.94 2.06-2.06.94zm10 10l.94 2.06.94-2.06 2.06-.94-2.06-.94-.94-2.06-.94 2.06-2.06.94z\"/><path d=\"M17.41 7.96l-1.37-1.37c-.4-.4-.92-.59-1.43-.59-.52 0-1.04.2-1.43.59L10.3 9.45l-7.72 7.72c-.78.78-.78 2.05 0 2.83L4 21.41c.39.39.9.59 1.41.59.51 0 1.02-.2 1.41-.59l7.78-7.78 2.81-2.81c.8-.78.8-2.07 0-2.86zM5.41 20L4 18.59l7.72-7.72 1.47 1.35L5.41 20z\"/>\n",
              "  </svg>\n",
              "      </button>\n",
              "      \n",
              "  <style>\n",
              "    .colab-df-container {\n",
              "      display:flex;\n",
              "      flex-wrap:wrap;\n",
              "      gap: 12px;\n",
              "    }\n",
              "\n",
              "    .colab-df-convert {\n",
              "      background-color: #E8F0FE;\n",
              "      border: none;\n",
              "      border-radius: 50%;\n",
              "      cursor: pointer;\n",
              "      display: none;\n",
              "      fill: #1967D2;\n",
              "      height: 32px;\n",
              "      padding: 0 0 0 0;\n",
              "      width: 32px;\n",
              "    }\n",
              "\n",
              "    .colab-df-convert:hover {\n",
              "      background-color: #E2EBFA;\n",
              "      box-shadow: 0px 1px 2px rgba(60, 64, 67, 0.3), 0px 1px 3px 1px rgba(60, 64, 67, 0.15);\n",
              "      fill: #174EA6;\n",
              "    }\n",
              "\n",
              "    [theme=dark] .colab-df-convert {\n",
              "      background-color: #3B4455;\n",
              "      fill: #D2E3FC;\n",
              "    }\n",
              "\n",
              "    [theme=dark] .colab-df-convert:hover {\n",
              "      background-color: #434B5C;\n",
              "      box-shadow: 0px 1px 3px 1px rgba(0, 0, 0, 0.15);\n",
              "      filter: drop-shadow(0px 1px 2px rgba(0, 0, 0, 0.3));\n",
              "      fill: #FFFFFF;\n",
              "    }\n",
              "  </style>\n",
              "\n",
              "      <script>\n",
              "        const buttonEl =\n",
              "          document.querySelector('#df-2f5d2886-56dd-4f51-930f-f6f6b2cef7a4 button.colab-df-convert');\n",
              "        buttonEl.style.display =\n",
              "          google.colab.kernel.accessAllowed ? 'block' : 'none';\n",
              "\n",
              "        async function convertToInteractive(key) {\n",
              "          const element = document.querySelector('#df-2f5d2886-56dd-4f51-930f-f6f6b2cef7a4');\n",
              "          const dataTable =\n",
              "            await google.colab.kernel.invokeFunction('convertToInteractive',\n",
              "                                                     [key], {});\n",
              "          if (!dataTable) return;\n",
              "\n",
              "          const docLinkHtml = 'Like what you see? Visit the ' +\n",
              "            '<a target=\"_blank\" href=https://colab.research.google.com/notebooks/data_table.ipynb>data table notebook</a>'\n",
              "            + ' to learn more about interactive tables.';\n",
              "          element.innerHTML = '';\n",
              "          dataTable['output_type'] = 'display_data';\n",
              "          await google.colab.output.renderOutput(dataTable, element);\n",
              "          const docLink = document.createElement('div');\n",
              "          docLink.innerHTML = docLinkHtml;\n",
              "          element.appendChild(docLink);\n",
              "        }\n",
              "      </script>\n",
              "    </div>\n",
              "  </div>\n",
              "  "
            ],
            "text/plain": [
              "                  length  diameter  ...  shell weight     rings\n",
              "length          1.000000  0.986813  ...      0.897697  0.557123\n",
              "diameter        0.986813  1.000000  ...      0.905328  0.575005\n",
              "height          0.827552  0.833705  ...      0.817326  0.558109\n",
              "whole weight    0.925255  0.925452  ...      0.955351  0.540818\n",
              "shucked weight  0.897905  0.893159  ...      0.882606  0.421256\n",
              "viscera weight  0.903010  0.899726  ...      0.907647  0.504274\n",
              "shell weight    0.897697  0.905328  ...      1.000000  0.628031\n",
              "rings           0.557123  0.575005  ...      0.628031  1.000000\n",
              "\n",
              "[8 rows x 8 columns]"
            ]
          },
          "metadata": {},
          "execution_count": 108
        }
      ]
    },
    {
      "cell_type": "code",
      "source": [
        "#Matriz de características\n",
        "X1=df.drop(columns=['rings','sex']).values\n",
        "X1.shape"
      ],
      "metadata": {
        "colab": {
          "base_uri": "https://localhost:8080/"
        },
        "id": "Rsu8MkHyXtHe",
        "outputId": "576ec015-c82e-485b-f74d-c6aafb7efbf0"
      },
      "execution_count": 109,
      "outputs": [
        {
          "output_type": "execute_result",
          "data": {
            "text/plain": [
              "(4176, 7)"
            ]
          },
          "metadata": {},
          "execution_count": 109
        }
      ]
    },
    {
      "cell_type": "code",
      "source": [
        "#Target Vector: rings\n",
        "y1=df['rings'].values\n",
        "y1.shape"
      ],
      "metadata": {
        "colab": {
          "base_uri": "https://localhost:8080/"
        },
        "id": "6oqiVpYrb3r-",
        "outputId": "dcd05dda-dfb4-4f57-f0b8-abb8407cab45"
      },
      "execution_count": 110,
      "outputs": [
        {
          "output_type": "execute_result",
          "data": {
            "text/plain": [
              "(4176,)"
            ]
          },
          "metadata": {},
          "execution_count": 110
        }
      ]
    },
    {
      "cell_type": "code",
      "source": [
        "#Utilizando KNN regresión\n",
        "knn_r=KNeighborsRegressor(n_neighbors=5)\n",
        "knn_r.fit(X1,y1)\n",
        "predictions_knn_r = knn_r.predict(X1)\n",
        "score_knn_r = knn_r.score(X1,y1)\n",
        "print('MODELO REGRESIÓN KNN (n_neighbors=5)')\n",
        "print('R2 = {:.3f}'.format(score_knn_r))\n",
        "print('MAE = {:.3f}'.format(mean_absolute_error(y1,predictions_knn_r)))"
      ],
      "metadata": {
        "colab": {
          "base_uri": "https://localhost:8080/"
        },
        "id": "jLhUF1dHcDqD",
        "outputId": "83556483-dcf6-47ad-ec78-13904e00441a"
      },
      "execution_count": 111,
      "outputs": [
        {
          "output_type": "stream",
          "name": "stdout",
          "text": [
            "MODELO REGRESIÓN KNN (n_neighbors=5)\n",
            "R2 = 0.676\n",
            "MAE = 1.296\n"
          ]
        }
      ]
    },
    {
      "cell_type": "code",
      "source": [
        "#Utilizando Regresión Lineal\n",
        "reg=LinearRegression(fit_intercept=True)\n",
        "reg.fit(X1,y1)\n",
        "predictions_reg = reg.predict(X1)\n",
        "score_reg = reg.score(X1,y1)\n",
        "print('MODELO REGRESIÓN LINEAL')\n",
        "print('R2 = {:.3f}'.format(score_reg))\n",
        "print('MAE = {:.3f}'.format(mean_absolute_error(y1,predictions_reg)))"
      ],
      "metadata": {
        "colab": {
          "base_uri": "https://localhost:8080/"
        },
        "id": "STrQtS1jdrBs",
        "outputId": "9cad43ef-e89f-4c2d-906b-0c07ef8b5b8f"
      },
      "execution_count": 112,
      "outputs": [
        {
          "output_type": "stream",
          "name": "stdout",
          "text": [
            "MODELO REGRESIÓN LINEAL\n",
            "R2 = 0.528\n",
            "MAE = 1.608\n"
          ]
        }
      ]
    },
    {
      "cell_type": "markdown",
      "source": [
        "##2. Predecir el sexo a partir de sus características.\n",
        "Variable sex = M, F, and I (infant)\n",
        "\n",
        "**¿Podrías haber utilizado la regresión lineal para el problema de clasificación?**\n",
        "\n",
        "NO, la regresión lineal se utiliza para variables numéricas y no para categóricas. En este caso, sex(target vector) es categórica y se debe utilizar un algoritmo de clasificación, KNN-clasificación. "
      ],
      "metadata": {
        "id": "l_wL7_ZEY5R1"
      }
    },
    {
      "cell_type": "code",
      "source": [
        "#Matriz de características\n",
        "X2=df.drop(columns=['sex'])\n",
        "X2.shape"
      ],
      "metadata": {
        "colab": {
          "base_uri": "https://localhost:8080/"
        },
        "id": "iiMwQzdKZEaF",
        "outputId": "3da3edac-8055-429b-9e05-5e5aca221e2e"
      },
      "execution_count": 113,
      "outputs": [
        {
          "output_type": "execute_result",
          "data": {
            "text/plain": [
              "(4176, 8)"
            ]
          },
          "metadata": {},
          "execution_count": 113
        }
      ]
    },
    {
      "cell_type": "code",
      "source": [
        "#Escalado de la matriz de características X2\n",
        "scaler = StandardScaler()\n",
        "scaler.fit(X2)\n",
        "X2=scaler.transform(X2)"
      ],
      "metadata": {
        "id": "oxDf8wMaZ8g7"
      },
      "execution_count": 114,
      "outputs": []
    },
    {
      "cell_type": "code",
      "source": [
        "#Target vector: variable 'sex'\n",
        "y2=df['sex'].values\n",
        "y2.shape"
      ],
      "metadata": {
        "colab": {
          "base_uri": "https://localhost:8080/"
        },
        "id": "gBXlAEy0aFIr",
        "outputId": "f10971a6-ad42-4adc-a16f-9926adef9e18"
      },
      "execution_count": 115,
      "outputs": [
        {
          "output_type": "execute_result",
          "data": {
            "text/plain": [
              "(4176,)"
            ]
          },
          "metadata": {},
          "execution_count": 115
        }
      ]
    },
    {
      "cell_type": "code",
      "source": [
        "#Modelo de clasificación por KNN\n",
        "knn_c = KNeighborsClassifier(n_neighbors=5)\n",
        "knn_c.fit(X2,y2)\n",
        "score_knn_c = knn_c.score(X2,y2)\n",
        "print('MODELO CLASIFICACIÓN KNN (n_neighbors=5)')\n",
        "print('R2 = {:.3f}'.format(score_knn_c))"
      ],
      "metadata": {
        "colab": {
          "base_uri": "https://localhost:8080/"
        },
        "id": "S-1BC6ibaWot",
        "outputId": "0187cf52-9e18-473f-a47a-e1d13436fb88"
      },
      "execution_count": 116,
      "outputs": [
        {
          "output_type": "stream",
          "name": "stdout",
          "text": [
            "MODELO CLASIFICACIÓN KNN (n_neighbors=5)\n",
            "R2 = 0.680\n"
          ]
        }
      ]
    }
  ]
}