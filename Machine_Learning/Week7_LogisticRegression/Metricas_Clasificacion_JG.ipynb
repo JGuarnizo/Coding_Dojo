{
  "nbformat": 4,
  "nbformat_minor": 0,
  "metadata": {
    "colab": {
      "name": "Metricas_Clasificacion_JG.ipynb",
      "provenance": [],
      "authorship_tag": "ABX9TyN9y2GGF1FO5DGcAIgPDJ6c",
      "include_colab_link": true
    },
    "kernelspec": {
      "name": "python3",
      "display_name": "Python 3"
    },
    "language_info": {
      "name": "python"
    }
  },
  "cells": [
    {
      "cell_type": "markdown",
      "metadata": {
        "id": "view-in-github",
        "colab_type": "text"
      },
      "source": [
        "<a href=\"https://colab.research.google.com/github/JGuarnizo/Coding_Dojo/blob/main/Machine_Learning/Week7_LogisticRegression/Metricas_Clasificacion_JG.ipynb\" target=\"_parent\"><img src=\"https://colab.research.google.com/assets/colab-badge.svg\" alt=\"Open In Colab\"/></a>"
      ]
    },
    {
      "cell_type": "markdown",
      "source": [
        "#Métricas de clasificación\n",
        "## Por : José Guarnizo\n",
        "Tarea\n",
        "Usaremos este conjunto de datos. Los datos, que fueron modificados a partir de esta fuente, contienen información sobre campañas de marketing directo de una institución bancaria portuguesa. Las campañas de marketing se basaron en llamadas telefónicas. El objetivo es predecir si el cliente se suscribirá (sí: 1 o no: 0) a un depósito a plazo (la columna de destino se llama 'y_yes' en este csv).\n",
        "\n",
        "Tu tarea es construir un modelo de regresión logística para predecir si un cliente se suscribirá o no. Ajusta los hiperparámetros para obtener el mejor modelo posible. Luego, calcula las siguientes métricas de clasificación:\n",
        "\n",
        "Métricas para calcular:\n",
        "\n",
        "* Precisión\n",
        "* Sensibilidad\n",
        "* Especificidad\n",
        "* AUC ROC\n",
        "* Además, grafica la República de China."
      ],
      "metadata": {
        "id": "BO-9ANCpkOKn"
      }
    },
    {
      "cell_type": "code",
      "execution_count": 8,
      "metadata": {
        "id": "4hqRVc7GkKXn"
      },
      "outputs": [],
      "source": [
        "import pandas as pd\n",
        "import numpy as np\n",
        "import matplotlib.pyplot as plt\n",
        "from sklearn.model_selection import train_test_split\n",
        "from sklearn.preprocessing import StandardScaler\n",
        "from sklearn.linear_model import LogisticRegression\n"
      ]
    },
    {
      "cell_type": "code",
      "source": [
        "df=pd.read_csv(\"https://raw.githubusercontent.com/JGuarnizo/Coding_Dojo/main/Machine_Learning/Week7_LogisticRegression/bank_modified.csv\")"
      ],
      "metadata": {
        "id": "a6AHdzpXkwNn"
      },
      "execution_count": 3,
      "outputs": []
    },
    {
      "cell_type": "code",
      "source": [
        "df.info()"
      ],
      "metadata": {
        "colab": {
          "base_uri": "https://localhost:8080/"
        },
        "id": "2_KqMkHFlQ22",
        "outputId": "cbef7cb2-b69f-4834-f990-94759010d070"
      },
      "execution_count": 3,
      "outputs": [
        {
          "output_type": "stream",
          "name": "stdout",
          "text": [
            "<class 'pandas.core.frame.DataFrame'>\n",
            "RangeIndex: 4521 entries, 0 to 4520\n",
            "Data columns (total 26 columns):\n",
            " #   Column               Non-Null Count  Dtype\n",
            "---  ------               --------------  -----\n",
            " 0   age                  4521 non-null   int64\n",
            " 1   balance              4521 non-null   int64\n",
            " 2   duration             4521 non-null   int64\n",
            " 3   campaign             4521 non-null   int64\n",
            " 4   pdays                4521 non-null   int64\n",
            " 5   previous             4521 non-null   int64\n",
            " 6   job_blue-collar      4521 non-null   int64\n",
            " 7   job_entrepreneur     4521 non-null   int64\n",
            " 8   job_housemaid        4521 non-null   int64\n",
            " 9   job_management       4521 non-null   int64\n",
            " 10  job_retired          4521 non-null   int64\n",
            " 11  job_self-employed    4521 non-null   int64\n",
            " 12  job_services         4521 non-null   int64\n",
            " 13  job_student          4521 non-null   int64\n",
            " 14  job_technician       4521 non-null   int64\n",
            " 15  job_unemployed       4521 non-null   int64\n",
            " 16  job_unknown          4521 non-null   int64\n",
            " 17  marital_married      4521 non-null   int64\n",
            " 18  marital_single       4521 non-null   int64\n",
            " 19  education_secondary  4521 non-null   int64\n",
            " 20  education_tertiary   4521 non-null   int64\n",
            " 21  education_unknown    4521 non-null   int64\n",
            " 22  default_yes          4521 non-null   int64\n",
            " 23  housing_yes          4521 non-null   int64\n",
            " 24  loan_yes             4521 non-null   int64\n",
            " 25  y_yes                4521 non-null   int64\n",
            "dtypes: int64(26)\n",
            "memory usage: 918.5 KB\n"
          ]
        }
      ]
    },
    {
      "cell_type": "code",
      "source": [
        "X=df.drop(columns=['y_yes'])\n",
        "y=df['y_yes'].values"
      ],
      "metadata": {
        "id": "Dga629X8tOec"
      },
      "execution_count": 5,
      "outputs": []
    },
    {
      "cell_type": "code",
      "source": [
        "#División train_test_Split\n",
        "X_train, X_test, y_train, y_test =train_test_split(X, y,random_state=0,stratify=y)\n",
        "#Estandarización de variables X_train & X_test\n",
        "scaler = StandardScaler()\n",
        "scaler.fit(X_train)\n",
        "X_train = scaler.transform(X_train)\n",
        "X_test = scaler.transform(X_test)"
      ],
      "metadata": {
        "id": "JVfin-u1tfSK"
      },
      "execution_count": 9,
      "outputs": []
    },
    {
      "cell_type": "code",
      "source": [
        "reg = LogisticRegression(C=1000)\n",
        "reg.fit(X_train, y_train)"
      ],
      "metadata": {
        "colab": {
          "base_uri": "https://localhost:8080/"
        },
        "id": "QLtOWWV_ttIj",
        "outputId": "72b6de5d-5758-4011-8f95-1511c81d1f71"
      },
      "execution_count": 19,
      "outputs": [
        {
          "output_type": "execute_result",
          "data": {
            "text/plain": [
              "LogisticRegression(C=10000)"
            ]
          },
          "metadata": {},
          "execution_count": 19
        }
      ]
    },
    {
      "cell_type": "code",
      "source": [
        "reg.score(X_test, y_test)"
      ],
      "metadata": {
        "colab": {
          "base_uri": "https://localhost:8080/"
        },
        "id": "KxhxOhqrty58",
        "outputId": "8f1b7147-36fc-4380-c864-3f030af27a01"
      },
      "execution_count": 20,
      "outputs": [
        {
          "output_type": "execute_result",
          "data": {
            "text/plain": [
              "0.8824049513704686"
            ]
          },
          "metadata": {},
          "execution_count": 20
        }
      ]
    },
    {
      "cell_type": "code",
      "source": [
        "reg.score(X_train, y_train)"
      ],
      "metadata": {
        "colab": {
          "base_uri": "https://localhost:8080/"
        },
        "id": "gIRy1Eettx7D",
        "outputId": "8a443e02-66d9-472c-bfe5-47f0c701dc8c"
      },
      "execution_count": 21,
      "outputs": [
        {
          "output_type": "execute_result",
          "data": {
            "text/plain": [
              "0.8932153392330383"
            ]
          },
          "metadata": {},
          "execution_count": 21
        }
      ]
    },
    {
      "cell_type": "markdown",
      "source": [
        "Preguntas para pensar y responder\n",
        "Después de completar la tarea, responde las siguientes preguntas:\n",
        "\n",
        "¿Qué métrica será la mejor para evaluar tu modelo de clasificación para este conjunto de datos y por qué? Sugerencia: piensa en lo que significa cada métrica en este escenario específico. ¿Qué métrica va a ayudar más al banco?\n",
        "Compara la precisión de tu modelo con el modelo de referencia. ¿Ves algún problema aquí?\n",
        "¿De qué otras formas podrías mejorar este modelo?"
      ],
      "metadata": {
        "id": "2lt32f1eknl4"
      }
    }
  ]
}