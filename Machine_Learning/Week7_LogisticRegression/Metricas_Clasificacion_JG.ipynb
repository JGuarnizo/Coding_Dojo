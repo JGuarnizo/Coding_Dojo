{
  "nbformat": 4,
  "nbformat_minor": 0,
  "metadata": {
    "colab": {
      "name": "Metricas_Clasificacion_JG.ipynb",
      "provenance": [],
      "collapsed_sections": [],
      "authorship_tag": "ABX9TyPjDzI1tk0U0lOeXAba5IaI",
      "include_colab_link": true
    },
    "kernelspec": {
      "name": "python3",
      "display_name": "Python 3"
    },
    "language_info": {
      "name": "python"
    }
  },
  "cells": [
    {
      "cell_type": "markdown",
      "metadata": {
        "id": "view-in-github",
        "colab_type": "text"
      },
      "source": [
        "<a href=\"https://colab.research.google.com/github/JGuarnizo/Coding_Dojo/blob/main/Machine_Learning/Week7_LogisticRegression/Metricas_Clasificacion_JG.ipynb\" target=\"_parent\"><img src=\"https://colab.research.google.com/assets/colab-badge.svg\" alt=\"Open In Colab\"/></a>"
      ]
    },
    {
      "cell_type": "markdown",
      "source": [
        "#Métricas de clasificación\n",
        "## Por : José Guarnizo\n",
        "Tarea\n",
        "Usaremos este conjunto de datos. Los datos, que fueron modificados a partir de esta fuente, contienen información sobre campañas de marketing directo de una institución bancaria portuguesa. Las campañas de marketing se basaron en llamadas telefónicas. El objetivo es predecir si el cliente se suscribirá (sí: 1 o no: 0) a un depósito a plazo (la columna de destino se llama 'y_yes' en este csv).\n",
        "\n",
        "Tu tarea es construir un modelo de regresión logística para predecir si un cliente se suscribirá o no. Ajusta los hiperparámetros para obtener el mejor modelo posible. Luego, calcula las siguientes métricas de clasificación:\n",
        "\n",
        "Métricas para calcular:\n",
        "\n",
        "* Precisión\n",
        "* Sensibilidad\n",
        "* Especificidad\n",
        "* AUC ROC\n",
        "* Además, grafica la ROC."
      ],
      "metadata": {
        "id": "BO-9ANCpkOKn"
      }
    },
    {
      "cell_type": "code",
      "execution_count": 80,
      "metadata": {
        "id": "4hqRVc7GkKXn"
      },
      "outputs": [],
      "source": [
        "import pandas as pd\n",
        "import numpy as np\n",
        "import matplotlib.pyplot as plt\n",
        "from sklearn.model_selection import train_test_split\n",
        "from sklearn.preprocessing import StandardScaler\n",
        "from sklearn.linear_model import LogisticRegression\n",
        "from sklearn import metrics\n",
        "from sklearn.metrics import roc_auc_score, plot_roc_curve\n"
      ]
    },
    {
      "cell_type": "code",
      "source": [
        "df=pd.read_csv(\"https://raw.githubusercontent.com/JGuarnizo/Coding_Dojo/main/Machine_Learning/Week7_LogisticRegression/bank_modified.csv\")"
      ],
      "metadata": {
        "id": "a6AHdzpXkwNn"
      },
      "execution_count": 81,
      "outputs": []
    },
    {
      "cell_type": "code",
      "source": [
        "df.info()"
      ],
      "metadata": {
        "colab": {
          "base_uri": "https://localhost:8080/"
        },
        "id": "2_KqMkHFlQ22",
        "outputId": "47e0ae5f-1c31-4d7e-e9cb-4dee8126c55b"
      },
      "execution_count": 82,
      "outputs": [
        {
          "output_type": "stream",
          "name": "stdout",
          "text": [
            "<class 'pandas.core.frame.DataFrame'>\n",
            "RangeIndex: 4521 entries, 0 to 4520\n",
            "Data columns (total 26 columns):\n",
            " #   Column               Non-Null Count  Dtype\n",
            "---  ------               --------------  -----\n",
            " 0   age                  4521 non-null   int64\n",
            " 1   balance              4521 non-null   int64\n",
            " 2   duration             4521 non-null   int64\n",
            " 3   campaign             4521 non-null   int64\n",
            " 4   pdays                4521 non-null   int64\n",
            " 5   previous             4521 non-null   int64\n",
            " 6   job_blue-collar      4521 non-null   int64\n",
            " 7   job_entrepreneur     4521 non-null   int64\n",
            " 8   job_housemaid        4521 non-null   int64\n",
            " 9   job_management       4521 non-null   int64\n",
            " 10  job_retired          4521 non-null   int64\n",
            " 11  job_self-employed    4521 non-null   int64\n",
            " 12  job_services         4521 non-null   int64\n",
            " 13  job_student          4521 non-null   int64\n",
            " 14  job_technician       4521 non-null   int64\n",
            " 15  job_unemployed       4521 non-null   int64\n",
            " 16  job_unknown          4521 non-null   int64\n",
            " 17  marital_married      4521 non-null   int64\n",
            " 18  marital_single       4521 non-null   int64\n",
            " 19  education_secondary  4521 non-null   int64\n",
            " 20  education_tertiary   4521 non-null   int64\n",
            " 21  education_unknown    4521 non-null   int64\n",
            " 22  default_yes          4521 non-null   int64\n",
            " 23  housing_yes          4521 non-null   int64\n",
            " 24  loan_yes             4521 non-null   int64\n",
            " 25  y_yes                4521 non-null   int64\n",
            "dtypes: int64(26)\n",
            "memory usage: 918.5 KB\n"
          ]
        }
      ]
    },
    {
      "cell_type": "code",
      "source": [
        "X=df.drop(columns=['y_yes'])\n",
        "y=df['y_yes'].values"
      ],
      "metadata": {
        "id": "Dga629X8tOec"
      },
      "execution_count": 83,
      "outputs": []
    },
    {
      "cell_type": "code",
      "source": [
        "#División train_test_Split\n",
        "X_train, X_test, y_train, y_test =train_test_split(X, y,random_state=0,stratify=y)\n",
        "#Estandarización de variables X_train & X_test\n",
        "scaler = StandardScaler()\n",
        "scaler.fit(X_train)\n",
        "X_train = scaler.transform(X_train)\n",
        "X_test = scaler.transform(X_test)"
      ],
      "metadata": {
        "id": "JVfin-u1tfSK"
      },
      "execution_count": 84,
      "outputs": []
    },
    {
      "cell_type": "code",
      "source": [
        "#Modelo de Regresión Logística\n",
        "reg = LogisticRegression(C=100)\n",
        "reg.fit(X_train, y_train)\n",
        "predictions = reg.predict(X_test)"
      ],
      "metadata": {
        "id": "QLtOWWV_ttIj"
      },
      "execution_count": 85,
      "outputs": []
    },
    {
      "cell_type": "code",
      "source": [
        "#Score de la base de test\n",
        "reg.score(X_test, y_test)"
      ],
      "metadata": {
        "colab": {
          "base_uri": "https://localhost:8080/"
        },
        "id": "KxhxOhqrty58",
        "outputId": "a7fd9aa5-848a-4e9a-868e-eaf432541edb"
      },
      "execution_count": 86,
      "outputs": [
        {
          "output_type": "execute_result",
          "data": {
            "text/plain": [
              "0.8824049513704686"
            ]
          },
          "metadata": {},
          "execution_count": 86
        }
      ]
    },
    {
      "cell_type": "code",
      "source": [
        "#Score de la base de entrenamiento\n",
        "reg.score(X_train, y_train)"
      ],
      "metadata": {
        "colab": {
          "base_uri": "https://localhost:8080/"
        },
        "id": "gIRy1Eettx7D",
        "outputId": "27b383c9-32e1-4677-a9ce-7aea9ce5ecfa"
      },
      "execution_count": 87,
      "outputs": [
        {
          "output_type": "execute_result",
          "data": {
            "text/plain": [
              "0.8932153392330383"
            ]
          },
          "metadata": {},
          "execution_count": 87
        }
      ]
    },
    {
      "cell_type": "code",
      "source": [
        "#Precisión, Sensibilidad, Especificidad\n",
        "cm = metrics.confusion_matrix(y_test, predictions).ravel()\n",
        "tn, fp, fn, tp = cm\n",
        "precision = tp / (tp + fp)\n",
        "sensitivity = tp/ (tp + fn)\n",
        "specificity = tn / (tn + fp)\n",
        "print('Sensibilidad: {:.3f}'.format(precision))\n",
        "print('Sensibilidad: {:.3f}'.format(sensitivity))\n",
        "print('Especificidad: {:.3f}'.format(specificity))"
      ],
      "metadata": {
        "colab": {
          "base_uri": "https://localhost:8080/"
        },
        "id": "JQ_yF1PqWvXS",
        "outputId": "a321d107-56ab-4a91-9650-7712d3c9de55"
      },
      "execution_count": 88,
      "outputs": [
        {
          "output_type": "stream",
          "name": "stdout",
          "text": [
            "Sensibilidad: 0.465\n",
            "Sensibilidad: 0.154\n",
            "Especificidad: 0.977\n"
          ]
        }
      ]
    },
    {
      "cell_type": "code",
      "source": [
        "print(f\"TN:{tn}, FP:{fp}, FN:{fn}, TP:{tp}\")"
      ],
      "metadata": {
        "colab": {
          "base_uri": "https://localhost:8080/"
        },
        "id": "rfomNrMzXsgq",
        "outputId": "7ddb6fd1-dcfc-46fc-eaad-904ceb50eaab"
      },
      "execution_count": 89,
      "outputs": [
        {
          "output_type": "stream",
          "name": "stdout",
          "text": [
            "TN:978, FP:23, FN:110, TP:20\n"
          ]
        }
      ]
    },
    {
      "cell_type": "code",
      "source": [
        "#Cálculo del AUC\n",
        "print(f'Training AUC: {roc_auc_score(y_train, reg.predict_proba(X_train)[:,1])}')\n",
        "print(f'Testing AUC: {roc_auc_score(y_test, reg.predict_proba(X_test)[:,1])}')"
      ],
      "metadata": {
        "colab": {
          "base_uri": "https://localhost:8080/"
        },
        "id": "5M0Lxgh8ZqJi",
        "outputId": "a0164b84-9406-4ccd-b8a6-a1b30bd6b6e0"
      },
      "execution_count": 90,
      "outputs": [
        {
          "output_type": "stream",
          "name": "stdout",
          "text": [
            "Training AUC: 0.8630097500530868\n",
            "Testing AUC: 0.8421655267809114\n"
          ]
        }
      ]
    },
    {
      "cell_type": "code",
      "source": [
        "#Gráfico de la curva ROC\n",
        "plot_roc_curve(reg, X_train, y_train)\n",
        "plt.plot([0, 1], [0, 1], ls = '--', label = 'Baseline (AUC = 0.5)')\n",
        "plt.legend();"
      ],
      "metadata": {
        "colab": {
          "base_uri": "https://localhost:8080/",
          "height": 334
        },
        "id": "KJq_ZJnUTcY0",
        "outputId": "c4e60ecb-f99e-4bda-862f-7e0041da14c2"
      },
      "execution_count": 91,
      "outputs": [
        {
          "output_type": "stream",
          "name": "stderr",
          "text": [
            "/usr/local/lib/python3.7/dist-packages/sklearn/utils/deprecation.py:87: FutureWarning: Function plot_roc_curve is deprecated; Function :func:`plot_roc_curve` is deprecated in 1.0 and will be removed in 1.2. Use one of the class methods: :meth:`sklearn.metric.RocCurveDisplay.from_predictions` or :meth:`sklearn.metric.RocCurveDisplay.from_estimator`.\n",
            "  warnings.warn(msg, category=FutureWarning)\n"
          ]
        },
        {
          "output_type": "display_data",
          "data": {
            "image/png": "[encoded data removed]",
            "text/plain": [
              "<Figure size 432x288 with 1 Axes>"
            ]
          },
          "metadata": {
            "needs_background": "light"
          }
        }
      ]
    },
    {
      "cell_type": "markdown",
      "source": [
        "##Preguntas para pensar y responder\n",
        "Después de completar la tarea, responde las siguientes preguntas:\n",
        "\n"
      ],
      "metadata": {
        "id": "2lt32f1eknl4"
      }
    },
    {
      "cell_type": "markdown",
      "source": [
        "**¿Qué métrica será la mejor para evaluar tu modelo de clasificación para este conjunto de datos y por qué? Sugerencia: piensa en lo que significa cada métrica en este escenario específico.**"
      ],
      "metadata": {
        "id": "3qoF2MMgVVEy"
      }
    },
    {
      "cell_type": "markdown",
      "source": [
        "Para el modelo es buena el R2 o el AUC, mientras más cercanas a 1 mejor."
      ],
      "metadata": {
        "id": "XufFFBsDVgKC"
      }
    },
    {
      "cell_type": "markdown",
      "source": [
        "**¿Qué métrica va a ayudar más al banco?**"
      ],
      "metadata": {
        "id": "HFXAke1YVZVK"
      }
    },
    {
      "cell_type": "markdown",
      "source": [
        "La Especificidad (0.977), el modelo es bueno para predecir clientes que no se van a suscribir."
      ],
      "metadata": {
        "id": "lLQfMuqPVg1y"
      }
    },
    {
      "cell_type": "markdown",
      "source": [
        "**Compara la precisión de tu modelo con el modelo de referencia. ¿Ves algún problema aquí?**"
      ],
      "metadata": {
        "id": "taF2_XZ3VeDi"
      }
    },
    {
      "cell_type": "markdown",
      "source": [
        "No, evaluando la precisión con la base de entrenamiento y la de prueba, se tienen valores similares 0.88"
      ],
      "metadata": {
        "id": "6fYJXQb7VhUq"
      }
    },
    {
      "cell_type": "markdown",
      "source": [
        "**¿De qué otras formas podrías mejorar este modelo?**"
      ],
      "metadata": {
        "id": "rYoSSbUhVfKz"
      }
    },
    {
      "cell_type": "markdown",
      "source": [
        "Eliminando variables que no aporten mayor información al modelo"
      ],
      "metadata": {
        "id": "FsXiz4LCVh2C"
      }
    }
  ]
}