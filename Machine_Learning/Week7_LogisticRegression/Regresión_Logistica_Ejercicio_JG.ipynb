{
  "nbformat": 4,
  "nbformat_minor": 0,
  "metadata": {
    "colab": {
      "name": "Regresión_Logistica_JG.ipynb",
      "provenance": [],
      "collapsed_sections": [
        "VJW25Qsyinej",
        "0wpdvi1iiuNb"
      ],
      "authorship_tag": "ABX9TyOQZS9Y1ld6jHY9qELiWKdv",
      "include_colab_link": true
    },
    "kernelspec": {
      "name": "python3",
      "display_name": "Python 3"
    },
    "language_info": {
      "name": "python"
    }
  },
  "cells": [
    {
      "cell_type": "markdown",
      "metadata": {
        "id": "view-in-github",
        "colab_type": "text"
      },
      "source": [
        "<a href=\"https://colab.research.google.com/github/JGuarnizo/Coding_Dojo/blob/main/Machine_Learning/Week7_LogisticRegression/Regresi%C3%B3n_Logistica_Ejercicio_JG.ipynb\" target=\"_parent\"><img src=\"https://colab.research.google.com/assets/colab-badge.svg\" alt=\"Open In Colab\"/></a>"
      ]
    },
    {
      "cell_type": "markdown",
      "source": [
        "#¿Regresión logística, bosque aleatorio o KNN?\n",
        "### Por: José Guarnizo\n",
        "### Fecha: 16/02/2022\n",
        "\n",
        "Tarea\n",
        "Utilizando el wine cultivars dataset de la sección de clasificación multiclase, tu tarea es utilizar modelos de regresión logística (uno frente a uno y uno frente a todos) y ajustarlos para su rendimiento óptimo. También debes intentar comparar el efecto de cuando intentas utilizar la regularización l1 y l2. Esta es una gran oportunidad para ver qué sucede cuando intentas ajustar un modelo. Después de hacer eso, intenta usar los modelos KNN, Bagged tree y Random Forest."
      ],
      "metadata": {
        "id": "_5ynYk9hifQJ"
      }
    },
    {
      "cell_type": "code",
      "execution_count": 137,
      "metadata": {
        "id": "A0KyYDqSiVzR"
      },
      "outputs": [],
      "source": [
        "#Importación de librerías\n",
        "import pandas as pd\n",
        "import numpy as np\n",
        "import matplotlib.pyplot as plt\n",
        "from sklearn.model_selection import train_test_split\n",
        "from sklearn.preprocessing import StandardScaler\n",
        "from sklearn.linear_model import LogisticRegression\n",
        "from sklearn.multiclass import OneVsOneClassifier\n",
        "from sklearn.neighbors import KNeighborsClassifier\n",
        "from sklearn.ensemble import BaggingClassifier, RandomForestClassifier"
      ]
    },
    {
      "cell_type": "code",
      "source": [
        "#Lectura de archivo directamente desde la página web\n",
        "col_names=['Class','Alcohol','Malic acid','Ash','Alcalinity of ash','Magnesium','Total phenols','Flavanoids',\n",
        " \t'Nonflavanoid phenols','Proanthocyanins','Color intensity','Hue','OD280/OD315 of diluted wines','Proline']\n",
        "df=pd.read_csv('https://archive.ics.uci.edu/ml/machine-learning-databases/wine/wine.data',header=None, names=col_names)"
      ],
      "metadata": {
        "id": "LT-sPEMXkDUi"
      },
      "execution_count": 138,
      "outputs": []
    },
    {
      "cell_type": "code",
      "source": [
        "#Definición de matriz de características y target vector\n",
        "X=df.drop(columns='Class')\n",
        "y=df.Class.values"
      ],
      "metadata": {
        "id": "2TmK5vyblX35"
      },
      "execution_count": 139,
      "outputs": []
    },
    {
      "cell_type": "code",
      "source": [
        "#División train_test_Split\n",
        "X_train, X_test, y_train, y_test =train_test_split(X, y,random_state=0,stratify=y)\n",
        "#Estandarización de variables X_train & X_test\n",
        "scaler = StandardScaler()\n",
        "scaler.fit(X_train)\n",
        "X_train = scaler.transform(X_train)\n",
        "X_test = scaler.transform(X_test)"
      ],
      "metadata": {
        "id": "I6IJOSMh6xyP"
      },
      "execution_count": 140,
      "outputs": []
    },
    {
      "cell_type": "markdown",
      "source": [
        "##Algoritmos"
      ],
      "metadata": {
        "id": "LQ7AFrUl5L9v"
      }
    },
    {
      "cell_type": "markdown",
      "source": [
        "###Regresión Logística \n",
        "(One vs All, One vs One)"
      ],
      "metadata": {
        "id": "_p-6ua5Xr3v6"
      }
    },
    {
      "cell_type": "code",
      "source": [
        "#Valor de ajuste C para los algoritmos de regresión lógistica\n",
        "C_value=1\n",
        "#One vs. All, Regularización L1\n",
        "log_l1a = LogisticRegression(penalty='l1',C=C_value,solver='liblinear',multi_class='ovr')\n",
        "log_l1a.fit(X_train, y_train)\n",
        "sl1a_train = log_l1a.score(X_train, y_train)\n",
        "sl1a_test = log_l1a.score(X_test, y_test)\n",
        "#One vs. All, Regularización L2\n",
        "log_l2a = LogisticRegression(C=C_value,multi_class='ovr')\n",
        "log_l2a.fit(X_train, y_train)\n",
        "sl2a_train = log_l2a.score(X_train, y_train)\n",
        "sl2a_test = log_l2a.score(X_test, y_test)\n",
        "#One vs. One, Regularización L1\n",
        "log_l1b = OneVsOneClassifier(LogisticRegression(penalty='l1',C=C_value,solver='liblinear'))\n",
        "log_l1b.fit(X_train, y_train)\n",
        "sl1b_train = log_l1b.score(X_train, y_train)\n",
        "sl1b_test = log_l1b.score(X_test, y_test)\n",
        "#One vs. One, Regularización L2\n",
        "log_l2b = OneVsOneClassifier(LogisticRegression(C=C_value))\n",
        "log_l2b.fit(X_train, y_train)\n",
        "sl2b_train = log_l2b.score(X_train, y_train)\n",
        "sl2b_test = log_l2b.score(X_test, y_test)"
      ],
      "metadata": {
        "id": "RWnmSGegl9go"
      },
      "execution_count": 141,
      "outputs": []
    },
    {
      "cell_type": "markdown",
      "source": [
        "###KNN"
      ],
      "metadata": {
        "id": "VJW25Qsyinej"
      }
    },
    {
      "cell_type": "code",
      "source": [
        "neighbors_range_knn = list(range(5, 50, 5))\n",
        "scores_KNN = []\n",
        "#Iteración para encontrar el n_neighbor óptimo\n",
        "for neighbor in neighbors_range_knn:\n",
        "  knn=KNeighborsClassifier(n_neighbors=neighbor)\n",
        "  knn.fit(X_train, y_train)\n",
        "  scores_KNN.append(knn.score(X_test, y_test))\n",
        "#Gráfica de los distintos modelos KNN con n_neighbors variaando entre 5 a 50\n",
        "plt.plot(neighbors_range_knn, scores_KNN)\n",
        "plt.xlabel('n_neighbors', fontsize =16)\n",
        "plt.ylabel('R2', fontsize = 16)\n",
        "plt.title('Modelos KNN', fontsize = 20)\n",
        "plt.grid()"
      ],
      "metadata": {
        "colab": {
          "base_uri": "https://localhost:8080/",
          "height": 0
        },
        "id": "TcT5wuqJrSjY",
        "outputId": "c9e4935b-ece4-4732-aa0d-62f376fb60f6"
      },
      "execution_count": 142,
      "outputs": [
        {
          "output_type": "display_data",
          "data": {
            "image/png": "[encoded data removed]",
            "text/plain": [
              "<Figure size 432x288 with 1 Axes>"
            ]
          },
          "metadata": {
            "needs_background": "light"
          }
        }
      ]
    },
    {
      "cell_type": "code",
      "source": [
        "#De la gráfica anterior, se concluye que n_neighbors para mejor R2 es 15\n",
        "knn=KNeighborsClassifier(n_neighbors=15)\n",
        "#Entrenamiento del modelo KNN\n",
        "knn.fit(X_train,y_train)\n",
        "#Algoritmo de clasificación R2 es precisión\n",
        "knn_r2_train = knn.score(X_train,y_train)\n",
        "knn_r2_test = knn.score(X_test,y_test)"
      ],
      "metadata": {
        "id": "3g0k8gNfr6RP"
      },
      "execution_count": 143,
      "outputs": []
    },
    {
      "cell_type": "markdown",
      "source": [
        "###Bagging Trees"
      ],
      "metadata": {
        "id": "VGNR6Sloly3N"
      }
    },
    {
      "cell_type": "code",
      "source": [
        "#Train/Test Split, porque para Baggin Trees o Random Forest no es necesario uso de Scaler\n",
        "X_train, X_test, y_train, y_test =train_test_split(X, y,random_state=0,stratify=y)\n",
        "#Búsqueda del n_estimator para lograr el mejor score\n",
        "estimator_range_bt = list(range(10, 110, 10))\n",
        "scores_bt = []\n",
        "for estimator in estimator_range_bt:\n",
        "    bt = BaggingClassifier(random_state=0, n_estimators=estimator)\n",
        "    bt.fit(X_train, y_train)\n",
        "    scores_bt.append(bt.score(X_test, y_test))\n",
        "#Gráfica de los distintos random forests con n_estimators variaando entre 10-300\n",
        "#Se observa mejor resultado con n_estimators=160\n",
        "plt.plot(estimator_range_bt, scores_bt)\n",
        "plt.xlabel('n_estimators', fontsize =16)\n",
        "plt.ylabel('R2', fontsize = 16)\n",
        "plt.title('Modelos Baggin Classifier', fontsize = 20)\n",
        "plt.grid();"
      ],
      "metadata": {
        "colab": {
          "base_uri": "https://localhost:8080/",
          "height": 307
        },
        "id": "c17-x-6Qp8MT",
        "outputId": "4e72afbc-13f0-46ec-ff26-e94212a6b127"
      },
      "execution_count": 144,
      "outputs": [
        {
          "output_type": "display_data",
          "data": {
            "image/png": "[encoded data removed]",
            "text/plain": [
              "<Figure size 432x288 with 1 Axes>"
            ]
          },
          "metadata": {
            "needs_background": "light"
          }
        }
      ]
    },
    {
      "cell_type": "code",
      "source": [
        "#De la gráfica anterior, se concluye que n_estimators para mejor R2 es 10\n",
        "bt = BaggingClassifier(random_state=0, n_estimators=10)\n",
        "#Entrenamiento del Bagging Classifier\n",
        "bt.fit(X_train,y_train)\n",
        "#Precisión del algoritmo\n",
        "bt_r2_train = bt.score(X_train,y_train)\n",
        "bt_r2_test = bt.score(X_test,y_test)\n"
      ],
      "metadata": {
        "id": "kwINub4Xl3aT"
      },
      "execution_count": 145,
      "outputs": []
    },
    {
      "cell_type": "markdown",
      "source": [
        "###Random Forest"
      ],
      "metadata": {
        "id": "0wpdvi1iiuNb"
      }
    },
    {
      "cell_type": "code",
      "source": [
        "#Búsqueda del n_estimator para lograr el mejor score\n",
        "estimator_range_forest = list(range(10, 110, 10))\n",
        "scores_forest = []\n",
        "for estimator in estimator_range_forest:\n",
        "    forest = RandomForestClassifier(n_estimators=estimator, random_state=1, oob_score=True, n_jobs=2)\n",
        "    forest.fit(X_train, y_train)\n",
        "    scores_forest.append(forest.score(X_test, y_test))\n",
        "#Gráfica de los distintos random forests con n_estimators variaando entre 10-300\n",
        "#Se observa mejor resultado con n_estimators=160\n",
        "plt.plot(estimator_range_forest, scores_forest)\n",
        "plt.xlabel('n_estimators', fontsize =16)\n",
        "plt.ylabel('R2', fontsize = 16)\n",
        "plt.title('Modelos Random Forest', fontsize = 20)\n",
        "plt.grid();"
      ],
      "metadata": {
        "colab": {
          "base_uri": "https://localhost:8080/",
          "height": 0
        },
        "id": "vSob2R0yrnDn",
        "outputId": "c0507efd-2f3c-4f30-d3ce-3f79d6665de1"
      },
      "execution_count": 146,
      "outputs": [
        {
          "output_type": "stream",
          "name": "stderr",
          "text": [
            "/usr/local/lib/python3.7/dist-packages/sklearn/ensemble/_forest.py:564: UserWarning: Some inputs do not have OOB scores. This probably means too few trees were used to compute any reliable OOB estimates.\n",
            "  UserWarning,\n"
          ]
        },
        {
          "output_type": "display_data",
          "data": {
            "image/png": "[encoded data removed]",
            "text/plain": [
              "<Figure size 432x288 with 1 Axes>"
            ]
          },
          "metadata": {
            "needs_background": "light"
          }
        }
      ]
    },
    {
      "cell_type": "code",
      "source": [
        "#De la gráfica anterior, se concluye que n_estimators para mejor R2 es 10\n",
        "forest = RandomForestClassifier(n_estimators=10, random_state=1, oob_score=True, n_jobs=2)\n",
        "#Entrenamiento del modelo Random Forest\n",
        "forest.fit(X_train, y_train)\n",
        "#Algoritmo de clasificación R2 es precisión\n",
        "forest_r2_train = forest.score(X_train,y_train)\n",
        "forest_r2_test = forest.score(X_test,y_test)"
      ],
      "metadata": {
        "colab": {
          "base_uri": "https://localhost:8080/"
        },
        "id": "OoZ32dSFr6zQ",
        "outputId": "f19d8c92-98d9-4739-a6d0-727e8b9498ed"
      },
      "execution_count": 147,
      "outputs": [
        {
          "output_type": "stream",
          "name": "stderr",
          "text": [
            "/usr/local/lib/python3.7/dist-packages/sklearn/ensemble/_forest.py:564: UserWarning: Some inputs do not have OOB scores. This probably means too few trees were used to compute any reliable OOB estimates.\n",
            "  UserWarning,\n"
          ]
        }
      ]
    },
    {
      "cell_type": "markdown",
      "source": [
        "##Resultados"
      ],
      "metadata": {
        "id": "45M8uCd6sLo7"
      }
    },
    {
      "cell_type": "code",
      "source": [
        "#Comparación de resultados\n",
        "print(\"Regresión_Log, Parámetro C = {}\".format(C_value))\n",
        "print(\"\\t\\t\\tR2(Train)\\tR2(Test)\")\n",
        "print(\"Log(One vs All)-L1 =\\t{:.3f}\\t\\t{:.3f}\".format(sl1a_train,sl1a_test))\n",
        "print(\"Log(One vs All)-L2 =\\t{:.3f}\\t\\t{:.3f}\".format(sl2a_train,sl2a_test))\n",
        "print(\"Log(One vs One)-L1 =\\t{:.3f}\\t\\t{:.3f}\".format(sl1b_train,sl1b_test))\n",
        "print(\"Log(One vs One)-L2 =\\t{:.3f}\\t\\t{:.3f}\".format(sl2b_train,sl2b_test))\n",
        "print(\"KNN (Neighbors=5)  =\\t{:.3f}\\t\\t{:.3f}\".format(knn_r2_train,knn_r2_test))\n",
        "print(\"BagClass (est=10)  =\\t{:.3f}\\t\\t{:.3f}\".format(bt_r2_train,bt_r2_test))\n",
        "print(\"RandomFor.(est=10) =\\t{:.3f}\\t\\t{:.3f}\".format(forest_r2_train,forest_r2_test))"
      ],
      "metadata": {
        "colab": {
          "base_uri": "https://localhost:8080/"
        },
        "id": "OL1P6xUxsNcD",
        "outputId": "ac0df2c5-ba82-4ad3-c9f9-586abdbc936b"
      },
      "execution_count": 148,
      "outputs": [
        {
          "output_type": "stream",
          "name": "stdout",
          "text": [
            "Regresión_Log, Parámetro C = 1\n",
            "\t\t\tR2(Train)\tR2(Test)\n",
            "Log(One vs All)-L1 =\t1.000\t\t1.000\n",
            "Log(One vs All)-L2 =\t1.000\t\t1.000\n",
            "Log(One vs One)-L1 =\t0.992\t\t1.000\n",
            "Log(One vs One)-L2 =\t1.000\t\t1.000\n",
            "KNN (Neighbors=5)  =\t0.962\t\t0.978\n",
            "BagClass (est=10)  =\t1.000\t\t1.000\n",
            "RandomFor.(est=10) =\t1.000\t\t1.000\n"
          ]
        }
      ]
    },
    {
      "cell_type": "markdown",
      "source": [
        "##Preguntas"
      ],
      "metadata": {
        "id": "ytts8YR08iXP"
      }
    },
    {
      "cell_type": "markdown",
      "source": [
        "**1. ¿Qué modelo funcionó mejor?**\n",
        "\n",
        "Todos los modelos funcionan bien. Funciona mejor la regresión logística, se logra obtener resultados de precisión del 100% con un C>0.9, y no demanda tantos recursos como Random Forest. Adicional, en cualquier caso, la regresión logística obtiene un mejor resultado utilizando la penalización L2."
      ],
      "metadata": {
        "id": "FCecJQrY8lZf"
      }
    },
    {
      "cell_type": "markdown",
      "source": [
        "**2. ¿Cuáles son las características más importantes de tus modelos? ¿Hay algún modelo que te haya gustado más y por qué?**\n",
        "Los parámetros de ajuste para obtener el mejor R2. En la regresión logística es el C, en KNN el N_neighbors, en Bagged Trees es el n_estimator, y en Random Forest tambien el n_estimator. Por otro lado, al ser una clasificación multiclase tambien influye la estratificación en la separación Train/Test.\n",
        "\n",
        "Para estos problemas de clasificación me agradó más el modelo de Regresión Logística One vs All, porque esta incluido en la misma clase de Regresión Logística y con penalización L2. Arroja igual precisión que Random Forest pero no demanda tantos recursos computacionales."
      ],
      "metadata": {
        "id": "vPfEMNWz9ulu"
      }
    }
  ]
}