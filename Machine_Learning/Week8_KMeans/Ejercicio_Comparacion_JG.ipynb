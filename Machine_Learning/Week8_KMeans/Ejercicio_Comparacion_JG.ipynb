{
  "nbformat": 4,
  "nbformat_minor": 0,
  "metadata": {
    "colab": {
      "name": "Ejercicio_Comparacion_JG.ipynb",
      "provenance": [],
      "authorship_tag": "ABX9TyM9nXPIH3BBZJ4Bn486N030",
      "include_colab_link": true
    },
    "kernelspec": {
      "name": "python3",
      "display_name": "Python 3"
    },
    "language_info": {
      "name": "python"
    }
  },
  "cells": [
    {
      "cell_type": "markdown",
      "metadata": {
        "id": "view-in-github",
        "colab_type": "text"
      },
      "source": [
        "<a href=\"https://colab.research.google.com/github/JGuarnizo/Coding_Dojo/blob/main/Machine_Learning/Week8_KMeans/Ejercicio_Comparacion_JG.ipynb\" target=\"_parent\"><img src=\"https://colab.research.google.com/assets/colab-badge.svg\" alt=\"Open In Colab\"/></a>"
      ]
    },
    {
      "cell_type": "markdown",
      "source": [
        "#Ejercicio de Comparación\n",
        "##Por: José Guarnizo\n",
        "\n",
        "Tu tarea es construir a partir de tu trabajo de segmentación de clientes utilizando KMeans de antes en este capítulo. Ahora, queremos usar métodos de agrupamiento adicionales y seleccionar el mejor algoritmo de agrupamiento para esta tarea. Realiza la segmentación de clientes mediante KMeans, agrupación jerárquica en clústeres y DBSCAN. Nos interesa agrupar a nuestros clientes en grupos basados en características similares. Esto puede ayudar a la empresa a asignar recursos de marketing de forma eficaz. Usaremos la edad del cliente, la educación, los años de empleo, los ingresos, la deuda, si incumplieron y la relación deuda: ingresos para agruparlos en segmentos.\n"
      ],
      "metadata": {
        "id": "aIrpjINVmtTQ"
      }
    },
    {
      "cell_type": "markdown",
      "source": [
        "##Parte 1\n",
        "Utiliza KMeans, agrupación jerárquica, y DBSCAN para crear varios segmentos de clientes. Asegúrate de poder hacer una copia de seguridad del número de clústeres que elijas para los algoritmos que seleccionen el número de clústeres."
      ],
      "metadata": {
        "id": "i2OnETnTm3F1"
      }
    },
    {
      "cell_type": "markdown",
      "source": [
        "##Parte 2\n",
        "¿Qué algoritmo de agrupación en clústeres es mejor para estos datos y por qué?"
      ],
      "metadata": {
        "id": "k1V88Apum7Ll"
      }
    },
    {
      "cell_type": "code",
      "execution_count": null,
      "metadata": {
        "id": "k7YgS1Z6mcRu"
      },
      "outputs": [],
      "source": [
        ""
      ]
    }
  ]
}