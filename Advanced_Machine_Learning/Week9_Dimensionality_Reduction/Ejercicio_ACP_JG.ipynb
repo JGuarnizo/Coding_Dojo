{
  "cells": [
    {
      "cell_type": "markdown",
      "metadata": {
        "id": "view-in-github",
        "colab_type": "text"
      },
      "source": [
        "<a href=\"https://colab.research.google.com/github/JGuarnizo/Coding_Dojo/blob/main/Advanced_Machine_Learning/Week9_Dimensionality_Reduction/Ejercicio_ACP_JG.ipynb\" target=\"_parent\"><img src=\"https://colab.research.google.com/assets/colab-badge.svg\" alt=\"Open In Colab\"/></a>"
      ]
    },
    {
      "cell_type": "markdown",
      "metadata": {
        "id": "ZnvhGbstREYr"
      },
      "source": [
        "#Ejercicios de ACP\n",
        "\n",
        "##Por: José Guarnizo\n",
        "\n",
        "Instrucciones:\n",
        "\n",
        "Tu tarea es hacer un análisis de componentes principales para agilizar un algoritmo de clasificación en un conjunto de datos multidimensional.\n",
        "\n",
        "Usaremos el conjunto de datos de dígitos MNIST, que viene preinstalado en sklearn. Este conjunto de datos tiene imágenes de 8x8 pixeles de dígitos escritos a mano del 0 al 9. Tu tarea es clasificarlos para determinar qué dígitos son. Usa el ACP para decrementar las dimensiones en este conjunto de datos. Luego, usa un algoritmo de clasificación de tu elección para clasificar los dígitos. Nota que depende de ti determinar cuántos componentes principales usar para tu modelo, para conseguir un 95% de varianza en los datos."
      ]
    },
    {
      "cell_type": "code",
      "execution_count": null,
      "metadata": {
        "id": "IMbkTrvyR9xE"
      },
      "outputs": [],
      "source": [
        "#Importación de librerías\n",
        "import numpy as np\n",
        "import matplotlib.pyplot as plt\n",
        "import pandas as pd\n",
        "from sklearn.preprocessing import LabelEncoder, StandardScaler\n",
        "from sklearn.model_selection import train_test_split\n",
        "from sklearn.decomposition import PCA\n",
        "from sklearn.ensemble import RandomForestClassifier"
      ]
    },
    {
      "cell_type": "code",
      "execution_count": null,
      "metadata": {
        "id": "5Dm_sJV1Q_n_",
        "outputId": "b10bfc27-aeed-4c1b-cecd-6ffa76c2c3f5"
      },
      "outputs": [
        {
          "data": {
            "text/plain": [
              "(70000, 784)"
            ]
          },
          "execution_count": 20,
          "metadata": {},
          "output_type": "execute_result"
        }
      ],
      "source": [
        "# cargar el conjunto de datos\n",
        "from sklearn.datasets import fetch_openml\n",
        "mnist = fetch_openml('mnist_784')\n",
        "# ver la forma del conjunto de datos\n",
        "mnist.data.shape"
      ]
    },
    {
      "cell_type": "code",
      "execution_count": null,
      "metadata": {
        "id": "Kn9hT-ZbSHXV",
        "outputId": "5d449e4f-eab2-4a22-95c5-34d1b2a30a26"
      },
      "outputs": [
        {
          "data": {
            "text/html": [
              "<div>\n",
              "<style scoped>\n",
              "    .dataframe tbody tr th:only-of-type {\n",
              "        vertical-align: middle;\n",
              "    }\n",
              "\n",
              "    .dataframe tbody tr th {\n",
              "        vertical-align: top;\n",
              "    }\n",
              "\n",
              "    .dataframe thead th {\n",
              "        text-align: right;\n",
              "    }\n",
              "</style>\n",
              "<table border=\"1\" class=\"dataframe\">\n",
              "  <thead>\n",
              "    <tr style=\"text-align: right;\">\n",
              "      <th></th>\n",
              "      <th>pixel1</th>\n",
              "      <th>pixel2</th>\n",
              "      <th>pixel3</th>\n",
              "      <th>pixel4</th>\n",
              "      <th>pixel5</th>\n",
              "      <th>pixel6</th>\n",
              "      <th>pixel7</th>\n",
              "      <th>pixel8</th>\n",
              "      <th>pixel9</th>\n",
              "      <th>pixel10</th>\n",
              "      <th>...</th>\n",
              "      <th>pixel775</th>\n",
              "      <th>pixel776</th>\n",
              "      <th>pixel777</th>\n",
              "      <th>pixel778</th>\n",
              "      <th>pixel779</th>\n",
              "      <th>pixel780</th>\n",
              "      <th>pixel781</th>\n",
              "      <th>pixel782</th>\n",
              "      <th>pixel783</th>\n",
              "      <th>pixel784</th>\n",
              "    </tr>\n",
              "  </thead>\n",
              "  <tbody>\n",
              "    <tr>\n",
              "      <th>0</th>\n",
              "      <td>0.0</td>\n",
              "      <td>0.0</td>\n",
              "      <td>0.0</td>\n",
              "      <td>0.0</td>\n",
              "      <td>0.0</td>\n",
              "      <td>0.0</td>\n",
              "      <td>0.0</td>\n",
              "      <td>0.0</td>\n",
              "      <td>0.0</td>\n",
              "      <td>0.0</td>\n",
              "      <td>...</td>\n",
              "      <td>0.0</td>\n",
              "      <td>0.0</td>\n",
              "      <td>0.0</td>\n",
              "      <td>0.0</td>\n",
              "      <td>0.0</td>\n",
              "      <td>0.0</td>\n",
              "      <td>0.0</td>\n",
              "      <td>0.0</td>\n",
              "      <td>0.0</td>\n",
              "      <td>0.0</td>\n",
              "    </tr>\n",
              "    <tr>\n",
              "      <th>1</th>\n",
              "      <td>0.0</td>\n",
              "      <td>0.0</td>\n",
              "      <td>0.0</td>\n",
              "      <td>0.0</td>\n",
              "      <td>0.0</td>\n",
              "      <td>0.0</td>\n",
              "      <td>0.0</td>\n",
              "      <td>0.0</td>\n",
              "      <td>0.0</td>\n",
              "      <td>0.0</td>\n",
              "      <td>...</td>\n",
              "      <td>0.0</td>\n",
              "      <td>0.0</td>\n",
              "      <td>0.0</td>\n",
              "      <td>0.0</td>\n",
              "      <td>0.0</td>\n",
              "      <td>0.0</td>\n",
              "      <td>0.0</td>\n",
              "      <td>0.0</td>\n",
              "      <td>0.0</td>\n",
              "      <td>0.0</td>\n",
              "    </tr>\n",
              "    <tr>\n",
              "      <th>2</th>\n",
              "      <td>0.0</td>\n",
              "      <td>0.0</td>\n",
              "      <td>0.0</td>\n",
              "      <td>0.0</td>\n",
              "      <td>0.0</td>\n",
              "      <td>0.0</td>\n",
              "      <td>0.0</td>\n",
              "      <td>0.0</td>\n",
              "      <td>0.0</td>\n",
              "      <td>0.0</td>\n",
              "      <td>...</td>\n",
              "      <td>0.0</td>\n",
              "      <td>0.0</td>\n",
              "      <td>0.0</td>\n",
              "      <td>0.0</td>\n",
              "      <td>0.0</td>\n",
              "      <td>0.0</td>\n",
              "      <td>0.0</td>\n",
              "      <td>0.0</td>\n",
              "      <td>0.0</td>\n",
              "      <td>0.0</td>\n",
              "    </tr>\n",
              "    <tr>\n",
              "      <th>3</th>\n",
              "      <td>0.0</td>\n",
              "      <td>0.0</td>\n",
              "      <td>0.0</td>\n",
              "      <td>0.0</td>\n",
              "      <td>0.0</td>\n",
              "      <td>0.0</td>\n",
              "      <td>0.0</td>\n",
              "      <td>0.0</td>\n",
              "      <td>0.0</td>\n",
              "      <td>0.0</td>\n",
              "      <td>...</td>\n",
              "      <td>0.0</td>\n",
              "      <td>0.0</td>\n",
              "      <td>0.0</td>\n",
              "      <td>0.0</td>\n",
              "      <td>0.0</td>\n",
              "      <td>0.0</td>\n",
              "      <td>0.0</td>\n",
              "      <td>0.0</td>\n",
              "      <td>0.0</td>\n",
              "      <td>0.0</td>\n",
              "    </tr>\n",
              "    <tr>\n",
              "      <th>4</th>\n",
              "      <td>0.0</td>\n",
              "      <td>0.0</td>\n",
              "      <td>0.0</td>\n",
              "      <td>0.0</td>\n",
              "      <td>0.0</td>\n",
              "      <td>0.0</td>\n",
              "      <td>0.0</td>\n",
              "      <td>0.0</td>\n",
              "      <td>0.0</td>\n",
              "      <td>0.0</td>\n",
              "      <td>...</td>\n",
              "      <td>0.0</td>\n",
              "      <td>0.0</td>\n",
              "      <td>0.0</td>\n",
              "      <td>0.0</td>\n",
              "      <td>0.0</td>\n",
              "      <td>0.0</td>\n",
              "      <td>0.0</td>\n",
              "      <td>0.0</td>\n",
              "      <td>0.0</td>\n",
              "      <td>0.0</td>\n",
              "    </tr>\n",
              "  </tbody>\n",
              "</table>\n",
              "<p>5 rows × 784 columns</p>\n",
              "</div>"
            ],
            "text/plain": [
              "   pixel1  pixel2  pixel3  pixel4  pixel5  pixel6  pixel7  pixel8  pixel9  \\\n",
              "0     0.0     0.0     0.0     0.0     0.0     0.0     0.0     0.0     0.0   \n",
              "1     0.0     0.0     0.0     0.0     0.0     0.0     0.0     0.0     0.0   \n",
              "2     0.0     0.0     0.0     0.0     0.0     0.0     0.0     0.0     0.0   \n",
              "3     0.0     0.0     0.0     0.0     0.0     0.0     0.0     0.0     0.0   \n",
              "4     0.0     0.0     0.0     0.0     0.0     0.0     0.0     0.0     0.0   \n",
              "\n",
              "   pixel10  ...  pixel775  pixel776  pixel777  pixel778  pixel779  pixel780  \\\n",
              "0      0.0  ...       0.0       0.0       0.0       0.0       0.0       0.0   \n",
              "1      0.0  ...       0.0       0.0       0.0       0.0       0.0       0.0   \n",
              "2      0.0  ...       0.0       0.0       0.0       0.0       0.0       0.0   \n",
              "3      0.0  ...       0.0       0.0       0.0       0.0       0.0       0.0   \n",
              "4      0.0  ...       0.0       0.0       0.0       0.0       0.0       0.0   \n",
              "\n",
              "   pixel781  pixel782  pixel783  pixel784  \n",
              "0       0.0       0.0       0.0       0.0  \n",
              "1       0.0       0.0       0.0       0.0  \n",
              "2       0.0       0.0       0.0       0.0  \n",
              "3       0.0       0.0       0.0       0.0  \n",
              "4       0.0       0.0       0.0       0.0  \n",
              "\n",
              "[5 rows x 784 columns]"
            ]
          },
          "execution_count": 21,
          "metadata": {},
          "output_type": "execute_result"
        }
      ],
      "source": [
        "#Exploración de data\n",
        "mnist.data.head()"
      ]
    },
    {
      "cell_type": "code",
      "execution_count": null,
      "metadata": {
        "id": "wvj2vWTxSNEF",
        "outputId": "12a88dc5-a79e-467f-bc5e-d79d8eeb4be1"
      },
      "outputs": [
        {
          "data": {
            "text/plain": [
              "0        5\n",
              "1        0\n",
              "2        4\n",
              "3        1\n",
              "4        9\n",
              "        ..\n",
              "69995    2\n",
              "69996    3\n",
              "69997    4\n",
              "69998    5\n",
              "69999    6\n",
              "Name: class, Length: 70000, dtype: category\n",
              "Categories (10, object): ['0', '1', '2', '3', ..., '6', '7', '8', '9']"
            ]
          },
          "execution_count": 22,
          "metadata": {},
          "output_type": "execute_result"
        }
      ],
      "source": [
        "#Exploración de vector objetivo\n",
        "mnist.target"
      ]
    },
    {
      "cell_type": "code",
      "execution_count": null,
      "metadata": {
        "id": "NMjj9eITSQnE"
      },
      "outputs": [],
      "source": [
        "#Matriz de caracteristicas y vector objetivo\n",
        "X=mnist.data\n",
        "y=mnist.target"
      ]
    },
    {
      "cell_type": "code",
      "execution_count": null,
      "metadata": {
        "id": "_XreORAxS2F2"
      },
      "outputs": [],
      "source": [
        "#Instancia del escalador y ajuste de matriz X\n",
        "scaler = StandardScaler()\n",
        "scaled_df = scaler.fit_transform(X)"
      ]
    },
    {
      "cell_type": "code",
      "execution_count": null,
      "metadata": {
        "id": "BeBU9fKaTAb9",
        "outputId": "bee91a46-6ef6-4d2d-dd55-213b939ca654"
      },
      "outputs": [
        {
          "data": {
            "text/plain": [
              "PCA()"
            ]
          },
          "execution_count": 25,
          "metadata": {},
          "output_type": "execute_result"
        }
      ],
      "source": [
        "#Análisis de componentes principales\n",
        "pca = PCA()\n",
        "pca.fit(scaled_df)"
      ]
    },
    {
      "cell_type": "code",
      "execution_count": null,
      "metadata": {
        "id": "7fwQbrbnTogD",
        "outputId": "2537f5ba-b74e-4084-c710-11091d0eee16"
      },
      "outputs": [
        {
          "name": "stdout",
          "output_type": "stream",
          "text": [
            "Varianza de 95.00% alcanzada con 331 componentes\n"
          ]
        }
      ],
      "source": [
        "#Cálculo de número de componentes\n",
        "varianza_acum=0\n",
        "i=0\n",
        "varianza=pca.explained_variance_ratio_[:350]\n",
        "while varianza_acum<0.95:\n",
        "  varianza_acum+=varianza[i]\n",
        "  i+=1\n",
        "print(\"Varianza de {:.2f}% alcanzada con {} componentes\".format(varianza_acum*100, i-1))"
      ]
    },
    {
      "cell_type": "code",
      "execution_count": null,
      "metadata": {
        "id": "LnDZ3hlgTcn7",
        "outputId": "76941dbc-39c5-422e-b358-51f9ca9ee48a"
      },
      "outputs": [
        {
          "data": {
            "image/png": "[encoded data removed]",
            "text/plain": [
              "<Figure size 432x288 with 1 Axes>"
            ]
          },
          "metadata": {
            "needs_background": "light"
          },
          "output_type": "display_data"
        }
      ],
      "source": [
        "#Gráfica de componentes principales\n",
        "plt.plot(range(1, 101), pca.explained_variance_ratio_[:100], marker = '.')\n",
        "plt.xticks(ticks = range(1, 101,10))\n",
        "plt.xlabel('Principal Component')\n",
        "plt.ylabel('Proportion of Explained Variance');"
      ]
    },
    {
      "cell_type": "code",
      "execution_count": null,
      "metadata": {
        "id": "1cNxYTXxVoh1"
      },
      "outputs": [],
      "source": [
        "# División entrenamiento prueba\n",
        "X_train, X_test, y_train, y_test = train_test_split(X, y, random_state=1)\n",
        "# Instanciar Escalador Estándar\n",
        "scaler = StandardScaler()\n",
        "# Ajustar y transformar datos\n",
        "X_train_sc = scaler.fit_transform(X_train)\n",
        "X_test_sc = scaler.transform(X_test)"
      ]
    },
    {
      "cell_type": "code",
      "execution_count": null,
      "metadata": {
        "id": "zIkHYsCWWs_2"
      },
      "outputs": [],
      "source": [
        "#Random Forest\n",
        "forest = RandomForestClassifier(n_estimators=100, random_state=1, oob_score=True, n_jobs=-1)\n",
        "forest.fit(X_train, y_train)\n",
        "preds_forest=forest.predict(X_test)\n",
        "\n",
        "#Parámetros de medición: precisión\n",
        "forest_train = forest.score(X_train,y_train)\n",
        "forest_test = forest.score(X_test,y_test)"
      ]
    },
    {
      "cell_type": "code",
      "execution_count": null,
      "metadata": {
        "id": "qy1fQRaLV-SN"
      },
      "outputs": [],
      "source": [
        "# Ajustar PCA\n",
        "pca = PCA(n_components = 25)\n",
        "X_train_pca = pca.fit_transform(X_train_sc)\n",
        "X_test_pca = pca.transform(X_test_sc)\n",
        "\n",
        "#Random Forest con PCA\n",
        "forest_pca = RandomForestClassifier(n_estimators=100, random_state=1, oob_score=True, n_jobs=-1)\n",
        "forest_pca.fit(X_train_pca, y_train)\n",
        "preds_forest_pca=forest_pca.predict(X_test_pca)\n",
        "\n",
        "#Parámetros de medición Random Forest con PCA:precisión\n",
        "forest_train_PCA = forest_pca.score(X_train_pca,y_train)\n",
        "forest_test_PCA = forest_pca.score(X_test_pca,y_test)\n"
      ]
    },
    {
      "cell_type": "code",
      "execution_count": null,
      "metadata": {
        "id": "vQbwZaTXj9RC"
      },
      "outputs": [],
      "source": [
        "# Ajustar PCA\n",
        "pca2 = PCA(n_components = i)\n",
        "X_train_pca2 = pca2.fit_transform(X_train_sc)\n",
        "X_test_pca2 = pca2.transform(X_test_sc)\n",
        "\n",
        "#Random Forest con PCA\n",
        "forest_pca2 = RandomForestClassifier(n_estimators=100, random_state=1, oob_score=True, n_jobs=-1)\n",
        "forest_pca2.fit(X_train_pca2, y_train)\n",
        "preds_forest_pca2=forest_pca2.predict(X_test_pca2)\n",
        "\n",
        "#Parámetros de medición Random Forest con PCA:precisión\n",
        "forest_train_PCA2 = forest_pca2.score(X_train_pca2,y_train)\n",
        "forest_test_PCA2 = forest_pca2.score(X_test_pca2,y_test)"
      ]
    },
    {
      "cell_type": "code",
      "execution_count": null,
      "metadata": {
        "id": "TBezfcCuXyWD",
        "outputId": "b211460b-8e1a-43f6-d659-04eebf5492d8"
      },
      "outputs": [
        {
          "name": "stdout",
          "output_type": "stream",
          "text": [
            "Modelo Random Forest N_Estimators=100\n",
            "\tPrecisión(Train)\tPrecisión(Test)\n",
            "PCA:331  =\t1.000\t\t0.934\n",
            "PCA:25   =\t1.000\t\t0.939\n",
            "SIN PCA  =\t1.000\t\t0.968\n"
          ]
        }
      ],
      "source": [
        "#Comparación de resultados\n",
        "print(\"Modelo Random Forest N_Estimators=100\")\n",
        "print(\"\\tPrecisión(Train)\\tPrecisión(Test)\")\n",
        "print(\"PCA:331  =\\t{:.3f}\\t\\t{:.3f}\".format(forest_train_PCA2,forest_test_PCA2))\n",
        "print(\"PCA:25   =\\t{:.3f}\\t\\t{:.3f}\".format(forest_train_PCA,forest_test_PCA))\n",
        "print(\"SIN PCA  =\\t{:.3f}\\t\\t{:.3f}\".format(forest_train,forest_test))\n"
      ]
    },
    {
      "cell_type": "markdown",
      "metadata": {
        "id": "tSifKXGdj9RD"
      },
      "source": [
        "## CONCLUSIÓN:\n",
        "\n",
        "Aplicando PCA se logró reducir el número de variables. Para mantener una varianza superior al 95% se debreía reducir a 331 variables, pero se obtiene mejor resultado con 25 variables (utilizando el método gráfico). Al ser un ejercicio de clasificación multivariable, se eligió el modelo de Random Forest, y se comparó los resultados utilizando y sin utilizar PCA en la matriz de característica. Un mejor resultado se obtiene sin utilizar PCA, sin embargo utilizando solamente 25 característias principales se obtiene una precisi´n de 0.938, el cual es un valor excelente y el tiempo de ejecución se reduce significativamente."
      ]
    }
  ],
  "metadata": {
    "accelerator": "GPU",
    "colab": {
      "collapsed_sections": [],
      "name": "Ejercicio_ACP_JG.ipynb",
      "provenance": [],
      "include_colab_link": true
    },
    "kernelspec": {
      "display_name": "Python 3",
      "name": "python3"
    },
    "language_info": {
      "codemirror_mode": {
        "name": "ipython",
        "version": 3
      },
      "file_extension": ".py",
      "mimetype": "text/x-python",
      "name": "python",
      "nbconvert_exporter": "python",
      "pygments_lexer": "ipython3",
      "version": "3.9.7"
    }
  },
  "nbformat": 4,
  "nbformat_minor": 0
}