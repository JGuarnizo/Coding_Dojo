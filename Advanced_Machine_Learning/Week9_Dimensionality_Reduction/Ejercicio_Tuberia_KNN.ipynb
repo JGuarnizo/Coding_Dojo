{
  "nbformat": 4,
  "nbformat_minor": 0,
  "metadata": {
    "colab": {
      "name": "Ejercicio_Tuberia_KNN.ipynb",
      "provenance": [],
      "collapsed_sections": [],
      "authorship_tag": "ABX9TyPVStrYQ212kHztlbkxG+WW",
      "include_colab_link": true
    },
    "kernelspec": {
      "name": "python3",
      "display_name": "Python 3"
    },
    "language_info": {
      "name": "python"
    }
  },
  "cells": [
    {
      "cell_type": "markdown",
      "metadata": {
        "id": "view-in-github",
        "colab_type": "text"
      },
      "source": [
        "<a href=\"https://colab.research.google.com/github/JGuarnizo/Coding_Dojo/blob/main/Advanced_Machine_Learning/Week9_Dimensionality_Reduction/Ejercicio_Tuberia_KNN.ipynb\" target=\"_parent\"><img src=\"https://colab.research.google.com/assets/colab-badge.svg\" alt=\"Open In Colab\"/></a>"
      ]
    },
    {
      "cell_type": "markdown",
      "source": [
        "#Ejercicio sobre Tuberías\n",
        "#Por: José Guarnizo\n",
        "\n",
        "Tarea\n",
        "\n",
        "Tu tarea es hacer el ejercicio KNN (K-Nearest Neighbors) que completaste en la semana 5, ahora usando tuberías. Crea dos tuberías para unir el escalamiento y la regresión, y el escalamiento y la clasificación para las dos tareas principales:\n",
        "\n",
        "La primera tarea es usar el conjunto de datos de abalon para predecir la edad de abalone según las medidas corporales usando KNN. Este es el problema de regresión. La segunda tarea es utilizar el conjunto de datos de abalone para predecir el sexo de acuerdo a sus características.  Asegúrate de usar una tubería para ambas.\n",
        "\n"
      ],
      "metadata": {
        "id": "Z75HQ2buVjov"
      }
    },
    {
      "cell_type": "markdown",
      "source": [
        "##Importación de librerías y exploración de data"
      ],
      "metadata": {
        "id": "wV44wUMKiima"
      }
    },
    {
      "cell_type": "code",
      "execution_count": 36,
      "metadata": {
        "id": "9QJjLZSsVg4L"
      },
      "outputs": [],
      "source": [
        "#Importación de librerías\n",
        "import pandas as pd\n",
        "import numpy as np\n",
        "import matplotlib.pyplot as plt\n",
        "from sklearn.preprocessing import StandardScaler\n",
        "from sklearn.neighbors import KNeighborsClassifier\n",
        "from sklearn.neighbors import KNeighborsRegressor\n",
        "from sklearn.model_selection import train_test_split\n",
        "from sklearn.pipeline import make_pipeline\n",
        "from sklearn.metrics import mean_absolute_error"
      ]
    },
    {
      "cell_type": "code",
      "source": [
        "#Lectura de data, alojada en repositorio de Github.\n",
        "df=pd.read_csv('https://raw.githubusercontent.com/JGuarnizo/Coding_Dojo/main/Machine_Learning/Week5_Introduction/abalone.data')\n",
        "column_names=['sex','length','diameter','height','whole weight',\n",
        "              'shucked weight', 'viscera weight','shell weight','rings']\n",
        "df.columns=column_names\n",
        "df.info()"
      ],
      "metadata": {
        "colab": {
          "base_uri": "https://localhost:8080/"
        },
        "id": "Hkwbe3U9W52H",
        "outputId": "f5efa9ca-a8bc-4767-b30d-060cf28e8319"
      },
      "execution_count": 37,
      "outputs": [
        {
          "output_type": "stream",
          "name": "stdout",
          "text": [
            "<class 'pandas.core.frame.DataFrame'>\n",
            "RangeIndex: 4176 entries, 0 to 4175\n",
            "Data columns (total 9 columns):\n",
            " #   Column          Non-Null Count  Dtype  \n",
            "---  ------          --------------  -----  \n",
            " 0   sex             4176 non-null   object \n",
            " 1   length          4176 non-null   float64\n",
            " 2   diameter        4176 non-null   float64\n",
            " 3   height          4176 non-null   float64\n",
            " 4   whole weight    4176 non-null   float64\n",
            " 5   shucked weight  4176 non-null   float64\n",
            " 6   viscera weight  4176 non-null   float64\n",
            " 7   shell weight    4176 non-null   float64\n",
            " 8   rings           4176 non-null   int64  \n",
            "dtypes: float64(7), int64(1), object(1)\n",
            "memory usage: 293.8+ KB\n"
          ]
        }
      ]
    },
    {
      "cell_type": "code",
      "source": [
        "df.head()"
      ],
      "metadata": {
        "colab": {
          "base_uri": "https://localhost:8080/",
          "height": 206
        },
        "id": "8rq5uEvhXJv1",
        "outputId": "3e18591b-8078-47d1-9cf2-5228de44ee94"
      },
      "execution_count": 38,
      "outputs": [
        {
          "output_type": "execute_result",
          "data": {
            "text/plain": [
              "  sex  length  diameter  height  whole weight  shucked weight  viscera weight  \\\n",
              "0   M   0.350     0.265   0.090        0.2255          0.0995          0.0485   \n",
              "1   F   0.530     0.420   0.135        0.6770          0.2565          0.1415   \n",
              "2   M   0.440     0.365   0.125        0.5160          0.2155          0.1140   \n",
              "3   I   0.330     0.255   0.080        0.2050          0.0895          0.0395   \n",
              "4   I   0.425     0.300   0.095        0.3515          0.1410          0.0775   \n",
              "\n",
              "   shell weight  rings  \n",
              "0         0.070      7  \n",
              "1         0.210      9  \n",
              "2         0.155     10  \n",
              "3         0.055      7  \n",
              "4         0.120      8  "
            ],
            "text/html": [
              "\n",
              "  <div id=\"df-1a861dd3-ee66-4610-9856-dd2fa9b49255\">\n",
              "    <div class=\"colab-df-container\">\n",
              "      <div>\n",
              "<style scoped>\n",
              "    .dataframe tbody tr th:only-of-type {\n",
              "        vertical-align: middle;\n",
              "    }\n",
              "\n",
              "    .dataframe tbody tr th {\n",
              "        vertical-align: top;\n",
              "    }\n",
              "\n",
              "    .dataframe thead th {\n",
              "        text-align: right;\n",
              "    }\n",
              "</style>\n",
              "<table border=\"1\" class=\"dataframe\">\n",
              "  <thead>\n",
              "    <tr style=\"text-align: right;\">\n",
              "      <th></th>\n",
              "      <th>sex</th>\n",
              "      <th>length</th>\n",
              "      <th>diameter</th>\n",
              "      <th>height</th>\n",
              "      <th>whole weight</th>\n",
              "      <th>shucked weight</th>\n",
              "      <th>viscera weight</th>\n",
              "      <th>shell weight</th>\n",
              "      <th>rings</th>\n",
              "    </tr>\n",
              "  </thead>\n",
              "  <tbody>\n",
              "    <tr>\n",
              "      <th>0</th>\n",
              "      <td>M</td>\n",
              "      <td>0.350</td>\n",
              "      <td>0.265</td>\n",
              "      <td>0.090</td>\n",
              "      <td>0.2255</td>\n",
              "      <td>0.0995</td>\n",
              "      <td>0.0485</td>\n",
              "      <td>0.070</td>\n",
              "      <td>7</td>\n",
              "    </tr>\n",
              "    <tr>\n",
              "      <th>1</th>\n",
              "      <td>F</td>\n",
              "      <td>0.530</td>\n",
              "      <td>0.420</td>\n",
              "      <td>0.135</td>\n",
              "      <td>0.6770</td>\n",
              "      <td>0.2565</td>\n",
              "      <td>0.1415</td>\n",
              "      <td>0.210</td>\n",
              "      <td>9</td>\n",
              "    </tr>\n",
              "    <tr>\n",
              "      <th>2</th>\n",
              "      <td>M</td>\n",
              "      <td>0.440</td>\n",
              "      <td>0.365</td>\n",
              "      <td>0.125</td>\n",
              "      <td>0.5160</td>\n",
              "      <td>0.2155</td>\n",
              "      <td>0.1140</td>\n",
              "      <td>0.155</td>\n",
              "      <td>10</td>\n",
              "    </tr>\n",
              "    <tr>\n",
              "      <th>3</th>\n",
              "      <td>I</td>\n",
              "      <td>0.330</td>\n",
              "      <td>0.255</td>\n",
              "      <td>0.080</td>\n",
              "      <td>0.2050</td>\n",
              "      <td>0.0895</td>\n",
              "      <td>0.0395</td>\n",
              "      <td>0.055</td>\n",
              "      <td>7</td>\n",
              "    </tr>\n",
              "    <tr>\n",
              "      <th>4</th>\n",
              "      <td>I</td>\n",
              "      <td>0.425</td>\n",
              "      <td>0.300</td>\n",
              "      <td>0.095</td>\n",
              "      <td>0.3515</td>\n",
              "      <td>0.1410</td>\n",
              "      <td>0.0775</td>\n",
              "      <td>0.120</td>\n",
              "      <td>8</td>\n",
              "    </tr>\n",
              "  </tbody>\n",
              "</table>\n",
              "</div>\n",
              "      <button class=\"colab-df-convert\" onclick=\"convertToInteractive('df-1a861dd3-ee66-4610-9856-dd2fa9b49255')\"\n",
              "              title=\"Convert this dataframe to an interactive table.\"\n",
              "              style=\"display:none;\">\n",
              "        \n",
              "  <svg xmlns=\"http://www.w3.org/2000/svg\" height=\"24px\"viewBox=\"0 0 24 24\"\n",
              "       width=\"24px\">\n",
              "    <path d=\"M0 0h24v24H0V0z\" fill=\"none\"/>\n",
              "    <path d=\"M18.56 5.44l.94 2.06.94-2.06 2.06-.94-2.06-.94-.94-2.06-.94 2.06-2.06.94zm-11 1L8.5 8.5l.94-2.06 2.06-.94-2.06-.94L8.5 2.5l-.94 2.06-2.06.94zm10 10l.94 2.06.94-2.06 2.06-.94-2.06-.94-.94-2.06-.94 2.06-2.06.94z\"/><path d=\"M17.41 7.96l-1.37-1.37c-.4-.4-.92-.59-1.43-.59-.52 0-1.04.2-1.43.59L10.3 9.45l-7.72 7.72c-.78.78-.78 2.05 0 2.83L4 21.41c.39.39.9.59 1.41.59.51 0 1.02-.2 1.41-.59l7.78-7.78 2.81-2.81c.8-.78.8-2.07 0-2.86zM5.41 20L4 18.59l7.72-7.72 1.47 1.35L5.41 20z\"/>\n",
              "  </svg>\n",
              "      </button>\n",
              "      \n",
              "  <style>\n",
              "    .colab-df-container {\n",
              "      display:flex;\n",
              "      flex-wrap:wrap;\n",
              "      gap: 12px;\n",
              "    }\n",
              "\n",
              "    .colab-df-convert {\n",
              "      background-color: #E8F0FE;\n",
              "      border: none;\n",
              "      border-radius: 50%;\n",
              "      cursor: pointer;\n",
              "      display: none;\n",
              "      fill: #1967D2;\n",
              "      height: 32px;\n",
              "      padding: 0 0 0 0;\n",
              "      width: 32px;\n",
              "    }\n",
              "\n",
              "    .colab-df-convert:hover {\n",
              "      background-color: #E2EBFA;\n",
              "      box-shadow: 0px 1px 2px rgba(60, 64, 67, 0.3), 0px 1px 3px 1px rgba(60, 64, 67, 0.15);\n",
              "      fill: #174EA6;\n",
              "    }\n",
              "\n",
              "    [theme=dark] .colab-df-convert {\n",
              "      background-color: #3B4455;\n",
              "      fill: #D2E3FC;\n",
              "    }\n",
              "\n",
              "    [theme=dark] .colab-df-convert:hover {\n",
              "      background-color: #434B5C;\n",
              "      box-shadow: 0px 1px 3px 1px rgba(0, 0, 0, 0.15);\n",
              "      filter: drop-shadow(0px 1px 2px rgba(0, 0, 0, 0.3));\n",
              "      fill: #FFFFFF;\n",
              "    }\n",
              "  </style>\n",
              "\n",
              "      <script>\n",
              "        const buttonEl =\n",
              "          document.querySelector('#df-1a861dd3-ee66-4610-9856-dd2fa9b49255 button.colab-df-convert');\n",
              "        buttonEl.style.display =\n",
              "          google.colab.kernel.accessAllowed ? 'block' : 'none';\n",
              "\n",
              "        async function convertToInteractive(key) {\n",
              "          const element = document.querySelector('#df-1a861dd3-ee66-4610-9856-dd2fa9b49255');\n",
              "          const dataTable =\n",
              "            await google.colab.kernel.invokeFunction('convertToInteractive',\n",
              "                                                     [key], {});\n",
              "          if (!dataTable) return;\n",
              "\n",
              "          const docLinkHtml = 'Like what you see? Visit the ' +\n",
              "            '<a target=\"_blank\" href=https://colab.research.google.com/notebooks/data_table.ipynb>data table notebook</a>'\n",
              "            + ' to learn more about interactive tables.';\n",
              "          element.innerHTML = '';\n",
              "          dataTable['output_type'] = 'display_data';\n",
              "          await google.colab.output.renderOutput(dataTable, element);\n",
              "          const docLink = document.createElement('div');\n",
              "          docLink.innerHTML = docLinkHtml;\n",
              "          element.appendChild(docLink);\n",
              "        }\n",
              "      </script>\n",
              "    </div>\n",
              "  </div>\n",
              "  "
            ]
          },
          "metadata": {},
          "execution_count": 38
        }
      ]
    },
    {
      "cell_type": "markdown",
      "source": [
        "##1. Predecir la edad del abulón a partir de mediciones físicas utilizando KNN\n",
        "Variable rings = (int)\n"
      ],
      "metadata": {
        "id": "echXfArDY0H2"
      }
    },
    {
      "cell_type": "code",
      "source": [
        "#Matriz de correlación entre variables numéricas\n",
        "df.drop(columns=['sex']).corr()"
      ],
      "metadata": {
        "colab": {
          "base_uri": "https://localhost:8080/",
          "height": 300
        },
        "id": "NC7RKUTCc4wX",
        "outputId": "cd2d92f6-2019-4a4d-c5a9-737732d24360"
      },
      "execution_count": 39,
      "outputs": [
        {
          "output_type": "execute_result",
          "data": {
            "text/plain": [
              "                  length  diameter    height  whole weight  shucked weight  \\\n",
              "length          1.000000  0.986813  0.827552      0.925255        0.897905   \n",
              "diameter        0.986813  1.000000  0.833705      0.925452        0.893159   \n",
              "height          0.827552  0.833705  1.000000      0.819209        0.774957   \n",
              "whole weight    0.925255  0.925452  0.819209      1.000000        0.969403   \n",
              "shucked weight  0.897905  0.893159  0.774957      0.969403        1.000000   \n",
              "viscera weight  0.903010  0.899726  0.798293      0.966372        0.931956   \n",
              "shell weight    0.897697  0.905328  0.817326      0.955351        0.882606   \n",
              "rings           0.557123  0.575005  0.558109      0.540818        0.421256   \n",
              "\n",
              "                viscera weight  shell weight     rings  \n",
              "length                0.903010      0.897697  0.557123  \n",
              "diameter              0.899726      0.905328  0.575005  \n",
              "height                0.798293      0.817326  0.558109  \n",
              "whole weight          0.966372      0.955351  0.540818  \n",
              "shucked weight        0.931956      0.882606  0.421256  \n",
              "viscera weight        1.000000      0.907647  0.504274  \n",
              "shell weight          0.907647      1.000000  0.628031  \n",
              "rings                 0.504274      0.628031  1.000000  "
            ],
            "text/html": [
              "\n",
              "  <div id=\"df-8edc7fac-b1b7-4164-b80b-0e11c389d78a\">\n",
              "    <div class=\"colab-df-container\">\n",
              "      <div>\n",
              "<style scoped>\n",
              "    .dataframe tbody tr th:only-of-type {\n",
              "        vertical-align: middle;\n",
              "    }\n",
              "\n",
              "    .dataframe tbody tr th {\n",
              "        vertical-align: top;\n",
              "    }\n",
              "\n",
              "    .dataframe thead th {\n",
              "        text-align: right;\n",
              "    }\n",
              "</style>\n",
              "<table border=\"1\" class=\"dataframe\">\n",
              "  <thead>\n",
              "    <tr style=\"text-align: right;\">\n",
              "      <th></th>\n",
              "      <th>length</th>\n",
              "      <th>diameter</th>\n",
              "      <th>height</th>\n",
              "      <th>whole weight</th>\n",
              "      <th>shucked weight</th>\n",
              "      <th>viscera weight</th>\n",
              "      <th>shell weight</th>\n",
              "      <th>rings</th>\n",
              "    </tr>\n",
              "  </thead>\n",
              "  <tbody>\n",
              "    <tr>\n",
              "      <th>length</th>\n",
              "      <td>1.000000</td>\n",
              "      <td>0.986813</td>\n",
              "      <td>0.827552</td>\n",
              "      <td>0.925255</td>\n",
              "      <td>0.897905</td>\n",
              "      <td>0.903010</td>\n",
              "      <td>0.897697</td>\n",
              "      <td>0.557123</td>\n",
              "    </tr>\n",
              "    <tr>\n",
              "      <th>diameter</th>\n",
              "      <td>0.986813</td>\n",
              "      <td>1.000000</td>\n",
              "      <td>0.833705</td>\n",
              "      <td>0.925452</td>\n",
              "      <td>0.893159</td>\n",
              "      <td>0.899726</td>\n",
              "      <td>0.905328</td>\n",
              "      <td>0.575005</td>\n",
              "    </tr>\n",
              "    <tr>\n",
              "      <th>height</th>\n",
              "      <td>0.827552</td>\n",
              "      <td>0.833705</td>\n",
              "      <td>1.000000</td>\n",
              "      <td>0.819209</td>\n",
              "      <td>0.774957</td>\n",
              "      <td>0.798293</td>\n",
              "      <td>0.817326</td>\n",
              "      <td>0.558109</td>\n",
              "    </tr>\n",
              "    <tr>\n",
              "      <th>whole weight</th>\n",
              "      <td>0.925255</td>\n",
              "      <td>0.925452</td>\n",
              "      <td>0.819209</td>\n",
              "      <td>1.000000</td>\n",
              "      <td>0.969403</td>\n",
              "      <td>0.966372</td>\n",
              "      <td>0.955351</td>\n",
              "      <td>0.540818</td>\n",
              "    </tr>\n",
              "    <tr>\n",
              "      <th>shucked weight</th>\n",
              "      <td>0.897905</td>\n",
              "      <td>0.893159</td>\n",
              "      <td>0.774957</td>\n",
              "      <td>0.969403</td>\n",
              "      <td>1.000000</td>\n",
              "      <td>0.931956</td>\n",
              "      <td>0.882606</td>\n",
              "      <td>0.421256</td>\n",
              "    </tr>\n",
              "    <tr>\n",
              "      <th>viscera weight</th>\n",
              "      <td>0.903010</td>\n",
              "      <td>0.899726</td>\n",
              "      <td>0.798293</td>\n",
              "      <td>0.966372</td>\n",
              "      <td>0.931956</td>\n",
              "      <td>1.000000</td>\n",
              "      <td>0.907647</td>\n",
              "      <td>0.504274</td>\n",
              "    </tr>\n",
              "    <tr>\n",
              "      <th>shell weight</th>\n",
              "      <td>0.897697</td>\n",
              "      <td>0.905328</td>\n",
              "      <td>0.817326</td>\n",
              "      <td>0.955351</td>\n",
              "      <td>0.882606</td>\n",
              "      <td>0.907647</td>\n",
              "      <td>1.000000</td>\n",
              "      <td>0.628031</td>\n",
              "    </tr>\n",
              "    <tr>\n",
              "      <th>rings</th>\n",
              "      <td>0.557123</td>\n",
              "      <td>0.575005</td>\n",
              "      <td>0.558109</td>\n",
              "      <td>0.540818</td>\n",
              "      <td>0.421256</td>\n",
              "      <td>0.504274</td>\n",
              "      <td>0.628031</td>\n",
              "      <td>1.000000</td>\n",
              "    </tr>\n",
              "  </tbody>\n",
              "</table>\n",
              "</div>\n",
              "      <button class=\"colab-df-convert\" onclick=\"convertToInteractive('df-8edc7fac-b1b7-4164-b80b-0e11c389d78a')\"\n",
              "              title=\"Convert this dataframe to an interactive table.\"\n",
              "              style=\"display:none;\">\n",
              "        \n",
              "  <svg xmlns=\"http://www.w3.org/2000/svg\" height=\"24px\"viewBox=\"0 0 24 24\"\n",
              "       width=\"24px\">\n",
              "    <path d=\"M0 0h24v24H0V0z\" fill=\"none\"/>\n",
              "    <path d=\"M18.56 5.44l.94 2.06.94-2.06 2.06-.94-2.06-.94-.94-2.06-.94 2.06-2.06.94zm-11 1L8.5 8.5l.94-2.06 2.06-.94-2.06-.94L8.5 2.5l-.94 2.06-2.06.94zm10 10l.94 2.06.94-2.06 2.06-.94-2.06-.94-.94-2.06-.94 2.06-2.06.94z\"/><path d=\"M17.41 7.96l-1.37-1.37c-.4-.4-.92-.59-1.43-.59-.52 0-1.04.2-1.43.59L10.3 9.45l-7.72 7.72c-.78.78-.78 2.05 0 2.83L4 21.41c.39.39.9.59 1.41.59.51 0 1.02-.2 1.41-.59l7.78-7.78 2.81-2.81c.8-.78.8-2.07 0-2.86zM5.41 20L4 18.59l7.72-7.72 1.47 1.35L5.41 20z\"/>\n",
              "  </svg>\n",
              "      </button>\n",
              "      \n",
              "  <style>\n",
              "    .colab-df-container {\n",
              "      display:flex;\n",
              "      flex-wrap:wrap;\n",
              "      gap: 12px;\n",
              "    }\n",
              "\n",
              "    .colab-df-convert {\n",
              "      background-color: #E8F0FE;\n",
              "      border: none;\n",
              "      border-radius: 50%;\n",
              "      cursor: pointer;\n",
              "      display: none;\n",
              "      fill: #1967D2;\n",
              "      height: 32px;\n",
              "      padding: 0 0 0 0;\n",
              "      width: 32px;\n",
              "    }\n",
              "\n",
              "    .colab-df-convert:hover {\n",
              "      background-color: #E2EBFA;\n",
              "      box-shadow: 0px 1px 2px rgba(60, 64, 67, 0.3), 0px 1px 3px 1px rgba(60, 64, 67, 0.15);\n",
              "      fill: #174EA6;\n",
              "    }\n",
              "\n",
              "    [theme=dark] .colab-df-convert {\n",
              "      background-color: #3B4455;\n",
              "      fill: #D2E3FC;\n",
              "    }\n",
              "\n",
              "    [theme=dark] .colab-df-convert:hover {\n",
              "      background-color: #434B5C;\n",
              "      box-shadow: 0px 1px 3px 1px rgba(0, 0, 0, 0.15);\n",
              "      filter: drop-shadow(0px 1px 2px rgba(0, 0, 0, 0.3));\n",
              "      fill: #FFFFFF;\n",
              "    }\n",
              "  </style>\n",
              "\n",
              "      <script>\n",
              "        const buttonEl =\n",
              "          document.querySelector('#df-8edc7fac-b1b7-4164-b80b-0e11c389d78a button.colab-df-convert');\n",
              "        buttonEl.style.display =\n",
              "          google.colab.kernel.accessAllowed ? 'block' : 'none';\n",
              "\n",
              "        async function convertToInteractive(key) {\n",
              "          const element = document.querySelector('#df-8edc7fac-b1b7-4164-b80b-0e11c389d78a');\n",
              "          const dataTable =\n",
              "            await google.colab.kernel.invokeFunction('convertToInteractive',\n",
              "                                                     [key], {});\n",
              "          if (!dataTable) return;\n",
              "\n",
              "          const docLinkHtml = 'Like what you see? Visit the ' +\n",
              "            '<a target=\"_blank\" href=https://colab.research.google.com/notebooks/data_table.ipynb>data table notebook</a>'\n",
              "            + ' to learn more about interactive tables.';\n",
              "          element.innerHTML = '';\n",
              "          dataTable['output_type'] = 'display_data';\n",
              "          await google.colab.output.renderOutput(dataTable, element);\n",
              "          const docLink = document.createElement('div');\n",
              "          docLink.innerHTML = docLinkHtml;\n",
              "          element.appendChild(docLink);\n",
              "        }\n",
              "      </script>\n",
              "    </div>\n",
              "  </div>\n",
              "  "
            ]
          },
          "metadata": {},
          "execution_count": 39
        }
      ]
    },
    {
      "cell_type": "code",
      "source": [
        "#Matriz de características\n",
        "X1=df.drop(columns=['rings','sex']).values\n",
        "#Target Vector: rings\n",
        "y1=df['rings'].values"
      ],
      "metadata": {
        "id": "Rsu8MkHyXtHe"
      },
      "execution_count": 40,
      "outputs": []
    },
    {
      "cell_type": "code",
      "source": [
        "X1_train, X1_test, y1_train, y1_test = train_test_split(X1, y1, random_state=1)"
      ],
      "metadata": {
        "id": "QZcUhhlQsnme"
      },
      "execution_count": 41,
      "outputs": []
    },
    {
      "cell_type": "code",
      "source": [
        "#Utilizando KNN regresión\n",
        "pipe1=make_pipeline(StandardScaler(),KNeighborsRegressor(n_neighbors=100))\n",
        "pipe1.fit(X1_train,y1_train)\n",
        "predictions_knn_r = pipe1.predict(X1_test)\n",
        "train_r2 = pipe1.score(X1_train,y1_train)\n",
        "test_r2 = pipe1.score(X1_test,y1_test)\n",
        "print('MODELO REGRESIÓN KNN (n_neighbors=100)')\n",
        "print('Train- R2 = {:.3f}'.format(train_r2))\n",
        "print('Test - R2 = {:.3f}'.format(test_r2))\n",
        "print('Test -MAE = {:.3f}'.format(mean_absolute_error(y1_test,predictions_knn_r)))"
      ],
      "metadata": {
        "colab": {
          "base_uri": "https://localhost:8080/"
        },
        "id": "jLhUF1dHcDqD",
        "outputId": "7e047341-8b1b-4896-aaac-09964e332dc6"
      },
      "execution_count": 42,
      "outputs": [
        {
          "output_type": "stream",
          "name": "stdout",
          "text": [
            "MODELO REGRESIÓN KNN (n_neighbors=100)\n",
            "Train- R2 = 0.510\n",
            "Test - R2 = 0.521\n",
            "Test -MAE = 1.556\n"
          ]
        }
      ]
    },
    {
      "cell_type": "markdown",
      "source": [
        "##2. Predecir el sexo a partir de sus características.\n",
        "Variable sex = M, F, and I (infant)"
      ],
      "metadata": {
        "id": "l_wL7_ZEY5R1"
      }
    },
    {
      "cell_type": "code",
      "source": [
        "#Matriz de características\n",
        "X2=df.drop(columns=['sex'])\n",
        "#Target vector: variable 'sex'\n",
        "y2=df['sex'].values"
      ],
      "metadata": {
        "id": "iiMwQzdKZEaF"
      },
      "execution_count": 43,
      "outputs": []
    },
    {
      "cell_type": "code",
      "source": [
        "X2_train, X2_test, y2_train, y2_test = train_test_split(X2, y2, random_state=1, stratify=y2)"
      ],
      "metadata": {
        "id": "0T5FFjymtr4V"
      },
      "execution_count": 44,
      "outputs": []
    },
    {
      "cell_type": "code",
      "source": [
        "#Modelo de clasificación por KNN\n",
        "pipe2=make_pipeline(StandardScaler(),KNeighborsClassifier(n_neighbors=100))\n",
        "pipe2.fit(X2_train,y2_train)\n",
        "accuracy_train = pipe2.score(X2_train,y2_train)\n",
        "accuracy_test = pipe2.score(X2_test,y2_test)\n",
        "print('MODELO CLASIFICACIÓN KNN (n_neighbors=100)')\n",
        "print('Train- Precisión = {:.3f}'.format(accuracy_train))\n",
        "print('Test - Precisión = {:.3f}'.format(accuracy_test))"
      ],
      "metadata": {
        "colab": {
          "base_uri": "https://localhost:8080/"
        },
        "id": "S-1BC6ibaWot",
        "outputId": "a70fe69a-4331-4ad7-c1bb-8fcaf36365d4"
      },
      "execution_count": 45,
      "outputs": [
        {
          "output_type": "stream",
          "name": "stdout",
          "text": [
            "MODELO CLASIFICACIÓN KNN (n_neighbors=100)\n",
            "Train- Precisión = 0.580\n",
            "Test - Precisión = 0.558\n"
          ]
        }
      ]
    },
    {
      "cell_type": "markdown",
      "source": [
        "##Preguntas"
      ],
      "metadata": {
        "id": "I1P_KQIvzHUA"
      }
    },
    {
      "cell_type": "markdown",
      "source": [
        "**¿Por qué querrías ocupar una tubería para KNN?**\n",
        "\n",
        "Para garantizar que se está ocupando la data escalada\n",
        "\n",
        "**¿Para qué otros modelos o tareas sería útil usar una tubería?**\n",
        "\n",
        "Para cualquier modelo que requiera de varias operaciones en su data, por ejemplo escalamiento de datos o reducción de dimensiones."
      ],
      "metadata": {
        "id": "EfYiy82dyki1"
      }
    }
  ]
}