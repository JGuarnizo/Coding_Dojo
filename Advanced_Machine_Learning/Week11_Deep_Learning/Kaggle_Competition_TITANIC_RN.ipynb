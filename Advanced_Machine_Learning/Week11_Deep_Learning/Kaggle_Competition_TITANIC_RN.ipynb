{
  "cells": [
    {
      "cell_type": "markdown",
      "source": [
        "#Kaggle \n",
        "##Titanic - Machine Learning from Disaster\n",
        "##Por: José Guarnizo\n",
        "https://www.kaggle.com/c/titanic\n",
        "\n"
      ],
      "metadata": {
        "id": "8gFpJNwuEIi5"
      }
    },
    {
      "cell_type": "code",
      "source": [
        "pip install category_encoders"
      ],
      "metadata": {
        "colab": {
          "base_uri": "https://localhost:8080/"
        },
        "id": "1BvYiCCSycRk",
        "outputId": "013a5013-56c5-49f5-ce2a-a82eb62f619c"
      },
      "execution_count": null,
      "outputs": [
        {
          "output_type": "stream",
          "name": "stdout",
          "text": [
            "Collecting category_encoders\n",
            "  Downloading category_encoders-2.4.0-py2.py3-none-any.whl (86 kB)\n",
            "\u001b[?25l\r\u001b[K     |███▉                            | 10 kB 23.2 MB/s eta 0:00:01\r\u001b[K     |███████▋                        | 20 kB 13.2 MB/s eta 0:00:01\r\u001b[K     |███████████▍                    | 30 kB 9.9 MB/s eta 0:00:01\r\u001b[K     |███████████████▏                | 40 kB 8.7 MB/s eta 0:00:01\r\u001b[K     |███████████████████             | 51 kB 4.7 MB/s eta 0:00:01\r\u001b[K     |██████████████████████▊         | 61 kB 5.5 MB/s eta 0:00:01\r\u001b[K     |██████████████████████████▌     | 71 kB 5.6 MB/s eta 0:00:01\r\u001b[K     |██████████████████████████████▎ | 81 kB 6.0 MB/s eta 0:00:01\r\u001b[K     |████████████████████████████████| 86 kB 3.2 MB/s \n",
            "\u001b[?25hRequirement already satisfied: patsy>=0.5.1 in /usr/local/lib/python3.7/dist-packages (from category_encoders) (0.5.2)\n",
            "Requirement already satisfied: scikit-learn>=0.20.0 in /usr/local/lib/python3.7/dist-packages (from category_encoders) (1.0.2)\n",
            "Requirement already satisfied: pandas>=0.21.1 in /usr/local/lib/python3.7/dist-packages (from category_encoders) (1.3.5)\n",
            "Requirement already satisfied: numpy>=1.14.0 in /usr/local/lib/python3.7/dist-packages (from category_encoders) (1.21.5)\n",
            "Requirement already satisfied: statsmodels>=0.9.0 in /usr/local/lib/python3.7/dist-packages (from category_encoders) (0.10.2)\n",
            "Requirement already satisfied: scipy>=1.0.0 in /usr/local/lib/python3.7/dist-packages (from category_encoders) (1.4.1)\n",
            "Requirement already satisfied: python-dateutil>=2.7.3 in /usr/local/lib/python3.7/dist-packages (from pandas>=0.21.1->category_encoders) (2.8.2)\n",
            "Requirement already satisfied: pytz>=2017.3 in /usr/local/lib/python3.7/dist-packages (from pandas>=0.21.1->category_encoders) (2018.9)\n",
            "Requirement already satisfied: six in /usr/local/lib/python3.7/dist-packages (from patsy>=0.5.1->category_encoders) (1.15.0)\n",
            "Requirement already satisfied: threadpoolctl>=2.0.0 in /usr/local/lib/python3.7/dist-packages (from scikit-learn>=0.20.0->category_encoders) (3.1.0)\n",
            "Requirement already satisfied: joblib>=0.11 in /usr/local/lib/python3.7/dist-packages (from scikit-learn>=0.20.0->category_encoders) (1.1.0)\n",
            "Installing collected packages: category-encoders\n",
            "Successfully installed category-encoders-2.4.0\n"
          ]
        }
      ]
    },
    {
      "cell_type": "code",
      "execution_count": null,
      "metadata": {
        "id": "4HX-M4IqEHu-",
        "colab": {
          "base_uri": "https://localhost:8080/"
        },
        "outputId": "061f7cbc-17f1-4b47-a94e-6e47910550c5"
      },
      "outputs": [
        {
          "output_type": "stream",
          "name": "stderr",
          "text": [
            "/usr/local/lib/python3.7/dist-packages/statsmodels/tools/_testing.py:19: FutureWarning: pandas.util.testing is deprecated. Use the functions in the public API at pandas.testing instead.\n",
            "  import pandas.util.testing as tm\n"
          ]
        }
      ],
      "source": [
        "import pandas as pd\n",
        "import matplotlib.pyplot as plt\n",
        "from sklearn.preprocessing import StandardScaler\n",
        "from sklearn.model_selection import train_test_split\n",
        "import category_encoders as ce\n",
        "from tensorflow.keras.models import Sequential\n",
        "from tensorflow.keras.layers import Dense, Dropout"
      ]
    },
    {
      "cell_type": "code",
      "execution_count": null,
      "metadata": {
        "id": "iRHKb1KNEHvC"
      },
      "outputs": [],
      "source": [
        "#Lectura del archivo train\n",
        "df=pd.read_csv(\"https://raw.githubusercontent.com/JGuarnizo/Coding_Dojo/main/Advanced_Machine_Learning/Week10_Gradient_Boosting/titanic_train.csv\")\n",
        "df=df.drop(columns=[\"PassengerId\",\"Name\",\"Cabin\", \"Ticket\"])\n",
        "df.Embarked=df.Embarked.fillna(\"S\")\n",
        "df.Age=df.Age.fillna(df.Age.median())\n",
        "#Lectura del archivo test\n",
        "df2=pd.read_csv(\"https://raw.githubusercontent.com/JGuarnizo/Coding_Dojo/main/Advanced_Machine_Learning/Week10_Gradient_Boosting/titanic_test.csv\")\n",
        "df2=df2.drop(columns=[\"PassengerId\",\"Name\",\"Cabin\",\"Ticket\"])\n",
        "df2.Fare=df2.Fare.fillna(df2.Fare.median())\n",
        "df2.Age=df2.Age.fillna(df2.Age.median())"
      ]
    },
    {
      "cell_type": "code",
      "execution_count": null,
      "metadata": {
        "id": "3sIab0iAEHvD",
        "colab": {
          "base_uri": "https://localhost:8080/"
        },
        "outputId": "30d8f075-5c04-4a45-9ac3-b916baba3702"
      },
      "outputs": [
        {
          "output_type": "stream",
          "name": "stderr",
          "text": [
            "/usr/local/lib/python3.7/dist-packages/sklearn/base.py:493: FutureWarning: The feature names should match those that were passed during fit. Starting version 1.2, an error will be raised.\n",
            "Feature names must be in the same order as they were in fit.\n",
            "\n",
            "  warnings.warn(message, FutureWarning)\n"
          ]
        }
      ],
      "source": [
        "X=df.drop(columns=\"Survived\")\n",
        "y=df.Survived.values\n",
        "#Dummies para archivo train\n",
        "ohe = ce.OneHotEncoder(handle_unknown='ignore', use_cat_names=True)\n",
        "X = ohe.fit_transform(X)\n",
        "\n",
        "#Dummies para archivo test\n",
        "ohe = ce.OneHotEncoder(handle_unknown='ignore', use_cat_names=True)\n",
        "df2 = ohe.fit_transform(df2)\n",
        "#Split_Train_Test del archivo train\n",
        "X_train, X_test, y_train, y_test = train_test_split(X, y, test_size=0.35 ,random_state=8)\n",
        "\n",
        "#Escalado de datos\n",
        "Scaler=StandardScaler()\n",
        "Scaler.fit(X_train)\n",
        "X_train=Scaler.transform(X_train)\n",
        "X_test=Scaler.transform(X_test)\n",
        "df3=Scaler.transform(df2)"
      ]
    },
    {
      "cell_type": "code",
      "source": [
        "model = Sequential()\n",
        "model.add(Dense(20, input_dim = X_train.shape[1], activation = 'relu'))\n",
        "model.add(Dropout(.2))\n",
        "model.add(Dense(10,activation = 'relu')) \n",
        "model.add(Dropout(.2))\n",
        "model.add(Dense(5,activation = 'relu')) \n",
        "model.add(Dropout(.2))\n",
        "model.add(Dense(1, activation = 'sigmoid'))\n",
        "model.compile(loss = 'bce', optimizer = 'adam')\n",
        "history=model.fit(X_train, y_train, validation_data = (X_test, y_test), epochs=100)"
      ],
      "metadata": {
        "colab": {
          "base_uri": "https://localhost:8080/"
        },
        "id": "Z7q1ckhFyLKF",
        "outputId": "e440ea0e-a68b-40d3-88bf-ee1688d5742e"
      },
      "execution_count": null,
      "outputs": [
        {
          "output_type": "stream",
          "name": "stdout",
          "text": [
            "Epoch 1/100\n",
            "19/19 [==============================] - 2s 39ms/step - loss: 0.6790 - val_loss: 0.6534\n",
            "Epoch 2/100\n",
            "19/19 [==============================] - 0s 5ms/step - loss: 0.6526 - val_loss: 0.6388\n",
            "Epoch 3/100\n",
            "19/19 [==============================] - 0s 8ms/step - loss: 0.6355 - val_loss: 0.6192\n",
            "Epoch 4/100\n",
            "19/19 [==============================] - 0s 8ms/step - loss: 0.6077 - val_loss: 0.5956\n",
            "Epoch 5/100\n",
            "19/19 [==============================] - 0s 6ms/step - loss: 0.6063 - val_loss: 0.5752\n",
            "Epoch 6/100\n",
            "19/19 [==============================] - 0s 5ms/step - loss: 0.5883 - val_loss: 0.5560\n",
            "Epoch 7/100\n",
            "19/19 [==============================] - 0s 10ms/step - loss: 0.5691 - val_loss: 0.5361\n",
            "Epoch 8/100\n",
            "19/19 [==============================] - 0s 12ms/step - loss: 0.5612 - val_loss: 0.5192\n",
            "Epoch 9/100\n",
            "19/19 [==============================] - 0s 8ms/step - loss: 0.5464 - val_loss: 0.5036\n",
            "Epoch 10/100\n",
            "19/19 [==============================] - 0s 11ms/step - loss: 0.5415 - val_loss: 0.4893\n",
            "Epoch 11/100\n",
            "19/19 [==============================] - 0s 6ms/step - loss: 0.5111 - val_loss: 0.4796\n",
            "Epoch 12/100\n",
            "19/19 [==============================] - 0s 6ms/step - loss: 0.5113 - val_loss: 0.4710\n",
            "Epoch 13/100\n",
            "19/19 [==============================] - 0s 6ms/step - loss: 0.5468 - val_loss: 0.4657\n",
            "Epoch 14/100\n",
            "19/19 [==============================] - 0s 6ms/step - loss: 0.5126 - val_loss: 0.4587\n",
            "Epoch 15/100\n",
            "19/19 [==============================] - 0s 5ms/step - loss: 0.5015 - val_loss: 0.4563\n",
            "Epoch 16/100\n",
            "19/19 [==============================] - 0s 9ms/step - loss: 0.5189 - val_loss: 0.4517\n",
            "Epoch 17/100\n",
            "19/19 [==============================] - 0s 10ms/step - loss: 0.4955 - val_loss: 0.4476\n",
            "Epoch 18/100\n",
            "19/19 [==============================] - 0s 7ms/step - loss: 0.5054 - val_loss: 0.4454\n",
            "Epoch 19/100\n",
            "19/19 [==============================] - 0s 7ms/step - loss: 0.5163 - val_loss: 0.4455\n",
            "Epoch 20/100\n",
            "19/19 [==============================] - 0s 8ms/step - loss: 0.5055 - val_loss: 0.4436\n",
            "Epoch 21/100\n",
            "19/19 [==============================] - 0s 6ms/step - loss: 0.4906 - val_loss: 0.4429\n",
            "Epoch 22/100\n",
            "19/19 [==============================] - 0s 8ms/step - loss: 0.5056 - val_loss: 0.4406\n",
            "Epoch 23/100\n",
            "19/19 [==============================] - 0s 9ms/step - loss: 0.4965 - val_loss: 0.4452\n",
            "Epoch 24/100\n",
            "19/19 [==============================] - 0s 9ms/step - loss: 0.4915 - val_loss: 0.4435\n",
            "Epoch 25/100\n",
            "19/19 [==============================] - 0s 5ms/step - loss: 0.4903 - val_loss: 0.4409\n",
            "Epoch 26/100\n",
            "19/19 [==============================] - 0s 5ms/step - loss: 0.4825 - val_loss: 0.4398\n",
            "Epoch 27/100\n",
            "19/19 [==============================] - 0s 7ms/step - loss: 0.5028 - val_loss: 0.4384\n",
            "Epoch 28/100\n",
            "19/19 [==============================] - 0s 9ms/step - loss: 0.4864 - val_loss: 0.4358\n",
            "Epoch 29/100\n",
            "19/19 [==============================] - 0s 7ms/step - loss: 0.4893 - val_loss: 0.4337\n",
            "Epoch 30/100\n",
            "19/19 [==============================] - 0s 11ms/step - loss: 0.4934 - val_loss: 0.4332\n",
            "Epoch 31/100\n",
            "19/19 [==============================] - 0s 9ms/step - loss: 0.4844 - val_loss: 0.4367\n",
            "Epoch 32/100\n",
            "19/19 [==============================] - 0s 13ms/step - loss: 0.4916 - val_loss: 0.4365\n",
            "Epoch 33/100\n",
            "19/19 [==============================] - 0s 8ms/step - loss: 0.4751 - val_loss: 0.4325\n",
            "Epoch 34/100\n",
            "19/19 [==============================] - 0s 7ms/step - loss: 0.4831 - val_loss: 0.4305\n",
            "Epoch 35/100\n",
            "19/19 [==============================] - 0s 6ms/step - loss: 0.4862 - val_loss: 0.4295\n",
            "Epoch 36/100\n",
            "19/19 [==============================] - 0s 14ms/step - loss: 0.4878 - val_loss: 0.4308\n",
            "Epoch 37/100\n",
            "19/19 [==============================] - 0s 10ms/step - loss: 0.4906 - val_loss: 0.4306\n",
            "Epoch 38/100\n",
            "19/19 [==============================] - 0s 6ms/step - loss: 0.4734 - val_loss: 0.4270\n",
            "Epoch 39/100\n",
            "19/19 [==============================] - 0s 8ms/step - loss: 0.4707 - val_loss: 0.4251\n",
            "Epoch 40/100\n",
            "19/19 [==============================] - 0s 8ms/step - loss: 0.4879 - val_loss: 0.4257\n",
            "Epoch 41/100\n",
            "19/19 [==============================] - 0s 9ms/step - loss: 0.4774 - val_loss: 0.4250\n",
            "Epoch 42/100\n",
            "19/19 [==============================] - 0s 14ms/step - loss: 0.4722 - val_loss: 0.4252\n",
            "Epoch 43/100\n",
            "19/19 [==============================] - 0s 10ms/step - loss: 0.4595 - val_loss: 0.4228\n",
            "Epoch 44/100\n",
            "19/19 [==============================] - 0s 9ms/step - loss: 0.4756 - val_loss: 0.4228\n",
            "Epoch 45/100\n",
            "19/19 [==============================] - 0s 10ms/step - loss: 0.4544 - val_loss: 0.4226\n",
            "Epoch 46/100\n",
            "19/19 [==============================] - 0s 8ms/step - loss: 0.4836 - val_loss: 0.4206\n",
            "Epoch 47/100\n",
            "19/19 [==============================] - 0s 6ms/step - loss: 0.4440 - val_loss: 0.4201\n",
            "Epoch 48/100\n",
            "19/19 [==============================] - 0s 9ms/step - loss: 0.4820 - val_loss: 0.4208\n",
            "Epoch 49/100\n",
            "19/19 [==============================] - 0s 15ms/step - loss: 0.4769 - val_loss: 0.4209\n",
            "Epoch 50/100\n",
            "19/19 [==============================] - 0s 9ms/step - loss: 0.4876 - val_loss: 0.4223\n",
            "Epoch 51/100\n",
            "19/19 [==============================] - 0s 9ms/step - loss: 0.4683 - val_loss: 0.4217\n",
            "Epoch 52/100\n",
            "19/19 [==============================] - 0s 6ms/step - loss: 0.4773 - val_loss: 0.4217\n",
            "Epoch 53/100\n",
            "19/19 [==============================] - 0s 7ms/step - loss: 0.4755 - val_loss: 0.4256\n",
            "Epoch 54/100\n",
            "19/19 [==============================] - 0s 11ms/step - loss: 0.4753 - val_loss: 0.4257\n",
            "Epoch 55/100\n",
            "19/19 [==============================] - 0s 9ms/step - loss: 0.4483 - val_loss: 0.4242\n",
            "Epoch 56/100\n",
            "19/19 [==============================] - 0s 9ms/step - loss: 0.4992 - val_loss: 0.4238\n",
            "Epoch 57/100\n",
            "19/19 [==============================] - 0s 10ms/step - loss: 0.4631 - val_loss: 0.4212\n",
            "Epoch 58/100\n",
            "19/19 [==============================] - 0s 11ms/step - loss: 0.4577 - val_loss: 0.4200\n",
            "Epoch 59/100\n",
            "19/19 [==============================] - 0s 7ms/step - loss: 0.4811 - val_loss: 0.4197\n",
            "Epoch 60/100\n",
            "19/19 [==============================] - 0s 9ms/step - loss: 0.4629 - val_loss: 0.4225\n",
            "Epoch 61/100\n",
            "19/19 [==============================] - 0s 12ms/step - loss: 0.4705 - val_loss: 0.4240\n",
            "Epoch 62/100\n",
            "19/19 [==============================] - 0s 15ms/step - loss: 0.4683 - val_loss: 0.4239\n",
            "Epoch 63/100\n",
            "19/19 [==============================] - 0s 12ms/step - loss: 0.4576 - val_loss: 0.4216\n",
            "Epoch 64/100\n",
            "19/19 [==============================] - 0s 15ms/step - loss: 0.4501 - val_loss: 0.4221\n",
            "Epoch 65/100\n",
            "19/19 [==============================] - 0s 9ms/step - loss: 0.4638 - val_loss: 0.4214\n",
            "Epoch 66/100\n",
            "19/19 [==============================] - 0s 6ms/step - loss: 0.4831 - val_loss: 0.4215\n",
            "Epoch 67/100\n",
            "19/19 [==============================] - 0s 10ms/step - loss: 0.4717 - val_loss: 0.4198\n",
            "Epoch 68/100\n",
            "19/19 [==============================] - 0s 6ms/step - loss: 0.4429 - val_loss: 0.4186\n",
            "Epoch 69/100\n",
            "19/19 [==============================] - 0s 11ms/step - loss: 0.4542 - val_loss: 0.4183\n",
            "Epoch 70/100\n",
            "19/19 [==============================] - 0s 12ms/step - loss: 0.4611 - val_loss: 0.4188\n",
            "Epoch 71/100\n",
            "19/19 [==============================] - 0s 13ms/step - loss: 0.4561 - val_loss: 0.4200\n",
            "Epoch 72/100\n",
            "19/19 [==============================] - 0s 14ms/step - loss: 0.4621 - val_loss: 0.4211\n",
            "Epoch 73/100\n",
            "19/19 [==============================] - 0s 7ms/step - loss: 0.4550 - val_loss: 0.4191\n",
            "Epoch 74/100\n",
            "19/19 [==============================] - 0s 12ms/step - loss: 0.4603 - val_loss: 0.4183\n",
            "Epoch 75/100\n",
            "19/19 [==============================] - 0s 10ms/step - loss: 0.4492 - val_loss: 0.4165\n",
            "Epoch 76/100\n",
            "19/19 [==============================] - 0s 10ms/step - loss: 0.4546 - val_loss: 0.4161\n",
            "Epoch 77/100\n",
            "19/19 [==============================] - 0s 11ms/step - loss: 0.4509 - val_loss: 0.4171\n",
            "Epoch 78/100\n",
            "19/19 [==============================] - 0s 15ms/step - loss: 0.4596 - val_loss: 0.4181\n",
            "Epoch 79/100\n",
            "19/19 [==============================] - 0s 11ms/step - loss: 0.4649 - val_loss: 0.4179\n",
            "Epoch 80/100\n",
            "19/19 [==============================] - 0s 6ms/step - loss: 0.4517 - val_loss: 0.4175\n",
            "Epoch 81/100\n",
            "19/19 [==============================] - 0s 9ms/step - loss: 0.4451 - val_loss: 0.4181\n",
            "Epoch 82/100\n",
            "19/19 [==============================] - 0s 7ms/step - loss: 0.4701 - val_loss: 0.4171\n",
            "Epoch 83/100\n",
            "19/19 [==============================] - 0s 7ms/step - loss: 0.4456 - val_loss: 0.4177\n",
            "Epoch 84/100\n",
            "19/19 [==============================] - 0s 9ms/step - loss: 0.4608 - val_loss: 0.4162\n",
            "Epoch 85/100\n",
            "19/19 [==============================] - 0s 10ms/step - loss: 0.4601 - val_loss: 0.4152\n",
            "Epoch 86/100\n",
            "19/19 [==============================] - 0s 7ms/step - loss: 0.4400 - val_loss: 0.4149\n",
            "Epoch 87/100\n",
            "19/19 [==============================] - 0s 6ms/step - loss: 0.4538 - val_loss: 0.4154\n",
            "Epoch 88/100\n",
            "19/19 [==============================] - 0s 5ms/step - loss: 0.4429 - val_loss: 0.4147\n",
            "Epoch 89/100\n",
            "19/19 [==============================] - 0s 8ms/step - loss: 0.4664 - val_loss: 0.4151\n",
            "Epoch 90/100\n",
            "19/19 [==============================] - 0s 11ms/step - loss: 0.4493 - val_loss: 0.4161\n",
            "Epoch 91/100\n",
            "19/19 [==============================] - 0s 4ms/step - loss: 0.4518 - val_loss: 0.4150\n",
            "Epoch 92/100\n",
            "19/19 [==============================] - 0s 4ms/step - loss: 0.4615 - val_loss: 0.4140\n",
            "Epoch 93/100\n",
            "19/19 [==============================] - 0s 4ms/step - loss: 0.4533 - val_loss: 0.4132\n",
            "Epoch 94/100\n",
            "19/19 [==============================] - 0s 4ms/step - loss: 0.4353 - val_loss: 0.4132\n",
            "Epoch 95/100\n",
            "19/19 [==============================] - 0s 3ms/step - loss: 0.4582 - val_loss: 0.4144\n",
            "Epoch 96/100\n",
            "19/19 [==============================] - 0s 4ms/step - loss: 0.4625 - val_loss: 0.4153\n",
            "Epoch 97/100\n",
            "19/19 [==============================] - 0s 3ms/step - loss: 0.4577 - val_loss: 0.4199\n",
            "Epoch 98/100\n",
            "19/19 [==============================] - 0s 4ms/step - loss: 0.4532 - val_loss: 0.4177\n",
            "Epoch 99/100\n",
            "19/19 [==============================] - 0s 4ms/step - loss: 0.4506 - val_loss: 0.4157\n",
            "Epoch 100/100\n",
            "19/19 [==============================] - 0s 4ms/step - loss: 0.4495 - val_loss: 0.4138\n"
          ]
        }
      ]
    },
    {
      "cell_type": "code",
      "source": [
        "plt.plot(history.history['loss'], label='Train loss')\n",
        "plt.plot(history.history['val_loss'], label='Test Loss')\n",
        "plt.legend();"
      ],
      "metadata": {
        "colab": {
          "base_uri": "https://localhost:8080/",
          "height": 265
        },
        "id": "gtC04ne_yR20",
        "outputId": "3ceff9a1-4d3e-4914-c57c-52f062914b02"
      },
      "execution_count": null,
      "outputs": [
        {
          "output_type": "display_data",
          "data": {
            "text/plain": [
              "<Figure size 432x288 with 1 Axes>"
            ],
            "image/png": "[encoded data removed]"
          },
          "metadata": {
            "needs_background": "light"
          }
        }
      ]
    },
    {
      "cell_type": "code",
      "source": [
        "#Predicciones del modelo \n",
        "result=model.predict(df3)\n",
        "result=result.ravel()\n",
        "result=result.round()"
      ],
      "metadata": {
        "id": "otc_DgGDyU58"
      },
      "execution_count": null,
      "outputs": []
    },
    {
      "cell_type": "code",
      "source": [
        "data=[]\n",
        "indice = 892\n",
        "for i in range(0,418):\n",
        "  data.append([indice,int(result[i])])\n",
        "  indice+=1\n",
        "\n",
        "dp=pd.DataFrame(data, columns=['PassengerId','Survived'])\n",
        "dp.to_csv(path_or_buf='Resultado_Titanic_RN.csv', index=False)"
      ],
      "metadata": {
        "id": "oF3qObblyVXk"
      },
      "execution_count": null,
      "outputs": []
    }
  ],
  "metadata": {
    "interpreter": {
      "hash": "fec86042567a2cc61725b797b4a1d1b1931e2d53dc8382f7c69e48cc2183c59d"
    },
    "kernelspec": {
      "display_name": "Python 3.9.7 ('base')",
      "language": "python",
      "name": "python3"
    },
    "language_info": {
      "codemirror_mode": {
        "name": "ipython",
        "version": 3
      },
      "file_extension": ".py",
      "mimetype": "text/x-python",
      "name": "python",
      "nbconvert_exporter": "python",
      "pygments_lexer": "ipython3",
      "version": "3.9.7"
    },
    "orig_nbformat": 4,
    "colab": {
      "name": "Kaggle_Competition_TITANIC_RN.ipynb",
      "provenance": [],
      "collapsed_sections": []
    }
  },
  "nbformat": 4,
  "nbformat_minor": 0
}