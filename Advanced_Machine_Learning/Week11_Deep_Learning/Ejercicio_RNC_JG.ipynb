{
  "nbformat": 4,
  "nbformat_minor": 0,
  "metadata": {
    "colab": {
      "name": "Ejercicio_RNC_JG.ipynb",
      "provenance": [],
      "collapsed_sections": [],
      "authorship_tag": "ABX9TyOtio3Gh9HPA/hHk3Vu8qui"
    },
    "kernelspec": {
      "name": "python3",
      "display_name": "Python 3"
    },
    "language_info": {
      "name": "python"
    }
  },
  "cells": [
    {
      "cell_type": "markdown",
      "source": [
        "#Ejercicio sobre RNC\n",
        "## Por: José Guarnizo\n"
      ],
      "metadata": {
        "id": "-_B73zp7URii"
      }
    },
    {
      "cell_type": "markdown",
      "source": [
        "## Tarea\n"
      ],
      "metadata": {
        "id": "cWliKhFJUp65"
      }
    },
    {
      "cell_type": "markdown",
      "source": [
        "El conjunto de datos de moda MNIST es otro conjunto popular para la evaluación de modelos de visión computarizada. Consiste de 60,000 imágenes de entrenamiento, cada una es una imagen en escala de grises de 28x28, proveniente de 1 de 10 clases:\n",
        "\n",
        "* 0 Polera/top\n",
        "* 1 Pantalón\n",
        "* 2 Suéter\n",
        "* 3 Vestido\n",
        "* 4 Abrigo\n",
        "* 5 Sandalia\n",
        "* 6 Camisa\n",
        "* 7 Zapatilla\n",
        "* 8 Bolso\n",
        "* 9 Botín\n",
        "\n",
        "Tu tarea es usar una RNC para clasificar las imágenes como uno de los 10 artículos de vestimenta. Puedes descargar los datos desde Kaggle. Trata de construir el mejor modelo posible (que tenga la mayor precisión en los datos de prueba)."
      ],
      "metadata": {
        "id": "ZBOfX0w2Uxyk"
      }
    },
    {
      "cell_type": "markdown",
      "source": [
        "## Librerías"
      ],
      "metadata": {
        "id": "abMhxxlPU1Pa"
      }
    },
    {
      "cell_type": "code",
      "execution_count": 59,
      "metadata": {
        "id": "_Sts_oXNUOW9"
      },
      "outputs": [],
      "source": [
        "import numpy as np\n",
        "import matplotlib.pyplot as plt\n",
        "import pandas as pd\n",
        "from sklearn.preprocessing import StandardScaler\n",
        "from tensorflow.keras.models import Sequential\n",
        "from tensorflow.keras.layers import Dense, Flatten, Conv2D, MaxPooling2D\n",
        "from tensorflow.keras.utils import to_categorical\n",
        "from tensorflow.keras.datasets import mnist\n",
        "from tensorflow.keras.layers import Dense, Dropout\n",
        "from sklearn.decomposition import PCA\n",
        "from tensorflow.keras.callbacks import EarlyStopping"
      ]
    },
    {
      "cell_type": "code",
      "source": [
        "from google.colab import drive\n",
        "drive.mount('/content/drive')"
      ],
      "metadata": {
        "colab": {
          "base_uri": "https://localhost:8080/"
        },
        "id": "Ns_W2-H6WdAE",
        "outputId": "9558260c-5d21-4d85-c097-987e0577180f"
      },
      "execution_count": 2,
      "outputs": [
        {
          "output_type": "stream",
          "name": "stdout",
          "text": [
            "Mounted at /content/drive\n"
          ]
        }
      ]
    },
    {
      "cell_type": "code",
      "source": [
        "file_train = '/content/drive/My Drive/Coding_Dojo/Week11/fashion-mnist_train.csv'\n",
        "file_test = '/content/drive/My Drive/Coding_Dojo/Week11/fashion-mnist_test.csv'\n",
        "df1 = pd.read_csv(file_train)\n",
        "df2 = pd.read_csv(file_test)"
      ],
      "metadata": {
        "id": "lI3_WO-2WkBi"
      },
      "execution_count": 5,
      "outputs": []
    },
    {
      "cell_type": "markdown",
      "source": [
        "## Código RNC"
      ],
      "metadata": {
        "id": "zp2iqM64pwd3"
      }
    },
    {
      "cell_type": "code",
      "source": [
        "#Definición de matrices de caracteristicas y vector objetivo (entrenamiento y prueba)\n",
        "X_train = df1.drop(columns=\"label\")\n",
        "y_train = df1.label\n",
        "X_test = df2.drop(columns=\"label\")\n",
        "y_test = df2.label"
      ],
      "metadata": {
        "id": "hoQssouAUzxq"
      },
      "execution_count": 8,
      "outputs": []
    },
    {
      "cell_type": "code",
      "source": [
        "# Escalar datos entre 0 y 1\n",
        "X_train = X_train / 255\n",
        "X_test = X_test / 255\n",
        "# Transformación de numericas a dummies\n",
        "y_train = to_categorical(y_train, num_classes = 10)\n",
        "y_test = to_categorical(y_test, num_classes = 10)"
      ],
      "metadata": {
        "id": "Zo5iNzE9X2Cs"
      },
      "execution_count": 9,
      "outputs": []
    },
    {
      "cell_type": "code",
      "source": [
        "# Reducción de dimensionalidad para variabilidad 0.98\n",
        "pca = PCA(0.98)\n",
        "pca.fit(X_train)\n",
        "X_train_pca = pca.transform(X_train)\n",
        "X_test_pca = pca.transform(X_test)\n",
        "X_train_pca.shape"
      ],
      "metadata": {
        "colab": {
          "base_uri": "https://localhost:8080/"
        },
        "id": "DTiFxdGJbCOU",
        "outputId": "20c102ff-2d38-43ad-ef1b-9bb8ba842810"
      },
      "execution_count": 32,
      "outputs": [
        {
          "output_type": "execute_result",
          "data": {
            "text/plain": [
              "(60000, 349)"
            ]
          },
          "metadata": {},
          "execution_count": 32
        }
      ]
    },
    {
      "cell_type": "code",
      "source": [
        "#Definición de número de entradas para red neuronal\n",
        "input_shape = X_train_pca.shape[1]\n",
        "input_shape"
      ],
      "metadata": {
        "colab": {
          "base_uri": "https://localhost:8080/"
        },
        "id": "LZ76r1uPYdB6",
        "outputId": "a506a2d9-9bbb-4b92-b81f-58750874f77c"
      },
      "execution_count": 33,
      "outputs": [
        {
          "output_type": "execute_result",
          "data": {
            "text/plain": [
              "349"
            ]
          },
          "metadata": {},
          "execution_count": 33
        }
      ]
    },
    {
      "cell_type": "code",
      "source": [
        "# Modelo secuencial\n",
        "model = Sequential()\n",
        "# Primera capa oculta\n",
        "model.add(Dense(350, input_dim = input_shape, activation = 'relu')) \n",
        "model.add(Dropout(.5))\n",
        "model.add(Dense(175, activation = 'relu')) \n",
        "model.add(Dropout(.2))\n",
        "model.add(Dense(90, activation = 'relu'))\n",
        "model.add(Dropout(0.2))\n",
        "model.add(Dense(50, activation = 'relu'))\n",
        "model.add(Dropout(0.1))\n",
        "model.add(Dense(10, activation = 'softmax'))\n",
        "model.compile(loss = 'categorical_crossentropy', optimizer = 'adam', metrics = ['acc'])\n",
        "early_stopping = EarlyStopping(patience = 5)\n",
        "# Ajustar nuestro modelo\n",
        "history = model.fit(X_train_pca, y_train, validation_data = (X_test_pca, y_test), epochs=20)"
      ],
      "metadata": {
        "colab": {
          "base_uri": "https://localhost:8080/"
        },
        "id": "lhJbLxILYjOC",
        "outputId": "40f50e18-fc3e-4c2a-f790-46b00e25fee7"
      },
      "execution_count": 62,
      "outputs": [
        {
          "output_type": "stream",
          "name": "stdout",
          "text": [
            "Epoch 1/20\n",
            "1875/1875 [==============================] - 10s 5ms/step - loss: 0.5691 - acc: 0.8024 - val_loss: 0.3645 - val_acc: 0.8722\n",
            "Epoch 2/20\n",
            "1875/1875 [==============================] - 10s 5ms/step - loss: 0.4101 - acc: 0.8565 - val_loss: 0.3334 - val_acc: 0.8807\n",
            "Epoch 3/20\n",
            "1875/1875 [==============================] - 10s 5ms/step - loss: 0.3655 - acc: 0.8724 - val_loss: 0.3205 - val_acc: 0.8845\n",
            "Epoch 4/20\n",
            "1875/1875 [==============================] - 11s 6ms/step - loss: 0.3382 - acc: 0.8791 - val_loss: 0.3147 - val_acc: 0.8849\n",
            "Epoch 5/20\n",
            "1875/1875 [==============================] - 10s 5ms/step - loss: 0.3174 - acc: 0.8880 - val_loss: 0.3044 - val_acc: 0.8892\n",
            "Epoch 6/20\n",
            "1875/1875 [==============================] - 10s 6ms/step - loss: 0.3019 - acc: 0.8933 - val_loss: 0.2951 - val_acc: 0.8947\n",
            "Epoch 7/20\n",
            "1875/1875 [==============================] - 10s 5ms/step - loss: 0.2884 - acc: 0.8971 - val_loss: 0.3047 - val_acc: 0.8953\n",
            "Epoch 8/20\n",
            "1875/1875 [==============================] - 12s 7ms/step - loss: 0.2778 - acc: 0.9014 - val_loss: 0.2975 - val_acc: 0.8952\n",
            "Epoch 9/20\n",
            "1875/1875 [==============================] - 10s 5ms/step - loss: 0.2654 - acc: 0.9050 - val_loss: 0.2840 - val_acc: 0.8984\n",
            "Epoch 10/20\n",
            "1875/1875 [==============================] - 13s 7ms/step - loss: 0.2562 - acc: 0.9081 - val_loss: 0.2792 - val_acc: 0.8979\n",
            "Epoch 11/20\n",
            "1875/1875 [==============================] - 11s 6ms/step - loss: 0.2490 - acc: 0.9092 - val_loss: 0.2867 - val_acc: 0.8994\n",
            "Epoch 12/20\n",
            "1875/1875 [==============================] - 10s 5ms/step - loss: 0.2444 - acc: 0.9125 - val_loss: 0.2875 - val_acc: 0.8972\n",
            "Epoch 13/20\n",
            "1875/1875 [==============================] - 10s 5ms/step - loss: 0.2412 - acc: 0.9154 - val_loss: 0.2821 - val_acc: 0.9010\n",
            "Epoch 14/20\n",
            "1875/1875 [==============================] - 9s 5ms/step - loss: 0.2296 - acc: 0.9187 - val_loss: 0.2963 - val_acc: 0.8977\n",
            "Epoch 15/20\n",
            "1875/1875 [==============================] - 8s 4ms/step - loss: 0.2281 - acc: 0.9175 - val_loss: 0.2796 - val_acc: 0.9040\n",
            "Epoch 16/20\n",
            "1875/1875 [==============================] - 8s 4ms/step - loss: 0.2201 - acc: 0.9204 - val_loss: 0.2898 - val_acc: 0.8997\n",
            "Epoch 17/20\n",
            "1875/1875 [==============================] - 8s 4ms/step - loss: 0.2176 - acc: 0.9216 - val_loss: 0.2801 - val_acc: 0.9016\n",
            "Epoch 18/20\n",
            "1875/1875 [==============================] - 8s 4ms/step - loss: 0.2099 - acc: 0.9249 - val_loss: 0.2970 - val_acc: 0.9021\n",
            "Epoch 19/20\n",
            "1875/1875 [==============================] - 9s 5ms/step - loss: 0.2036 - acc: 0.9273 - val_loss: 0.2851 - val_acc: 0.9030\n",
            "Epoch 20/20\n",
            "1875/1875 [==============================] - 7s 4ms/step - loss: 0.2032 - acc: 0.9276 - val_loss: 0.2969 - val_acc: 0.9024\n"
          ]
        }
      ]
    },
    {
      "cell_type": "code",
      "source": [
        "# Visualizar la pérdida\n",
        "plt.plot(history.history['loss'], label='Train loss')\n",
        "plt.plot(history.history['val_loss'], label='Test Loss')\n",
        "plt.legend();"
      ],
      "metadata": {
        "colab": {
          "base_uri": "https://localhost:8080/",
          "height": 265
        },
        "id": "bFSS3dj5ag7c",
        "outputId": "a4143707-3729-4361-d18e-25f97c0053e0"
      },
      "execution_count": 48,
      "outputs": [
        {
          "output_type": "display_data",
          "data": {
            "text/plain": [
              "<Figure size 432x288 with 1 Axes>"
            ],
            "image/png": "[encoded data removed]"
          },
          "metadata": {
            "needs_background": "light"
          }
        }
      ]
    },
    {
      "cell_type": "code",
      "source": [
        "# Visualizar la precisión\n",
        "plt.plot(history.history['acc'], label='Train Accuracy')\n",
        "plt.plot(history.history['val_acc'], label='Test Accuracy')\n",
        "plt.legend();"
      ],
      "metadata": {
        "colab": {
          "base_uri": "https://localhost:8080/",
          "height": 265
        },
        "id": "gTGtUrBimM5M",
        "outputId": "1f40c836-516c-4272-8efc-cc033d91c212"
      },
      "execution_count": 49,
      "outputs": [
        {
          "output_type": "display_data",
          "data": {
            "text/plain": [
              "<Figure size 432x288 with 1 Axes>"
            ],
            "image/png": "[encoded data removed]"
          },
          "metadata": {
            "needs_background": "light"
          }
        }
      ]
    }
  ]
}