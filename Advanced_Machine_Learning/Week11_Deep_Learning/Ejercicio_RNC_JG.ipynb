{
  "nbformat": 4,
  "nbformat_minor": 0,
  "metadata": {
    "colab": {
      "name": "Ejercicio_RNC_JG.ipynb",
      "provenance": [],
      "collapsed_sections": [],
      "authorship_tag": "ABX9TyNJ682topgZ/B/JkKTm3qnj"
    },
    "kernelspec": {
      "name": "python3",
      "display_name": "Python 3"
    },
    "language_info": {
      "name": "python"
    }
  },
  "cells": [
    {
      "cell_type": "markdown",
      "source": [
        "#Ejercicio sobre RNC\n",
        "## Por: José Guarnizo\n"
      ],
      "metadata": {
        "id": "-_B73zp7URii"
      }
    },
    {
      "cell_type": "markdown",
      "source": [
        "## Tarea\n"
      ],
      "metadata": {
        "id": "cWliKhFJUp65"
      }
    },
    {
      "cell_type": "markdown",
      "source": [
        "El conjunto de datos de moda MNIST es otro conjunto popular para la evaluación de modelos de visión computarizada. Consiste de 60,000 imágenes de entrenamiento, cada una es una imagen en escala de grises de 28x28, proveniente de 1 de 10 clases:\n",
        "\n",
        "* 0 Polera/top\n",
        "* 1 Pantalón\n",
        "* 2 Suéter\n",
        "* 3 Vestido\n",
        "* 4 Abrigo\n",
        "* 5 Sandalia\n",
        "* 6 Camisa\n",
        "* 7 Zapatilla\n",
        "* 8 Bolso\n",
        "* 9 Botín\n",
        "\n",
        "Tu tarea es usar una RNC para clasificar las imágenes como uno de los 10 artículos de vestimenta. Puedes descargar los datos desde Kaggle. Trata de construir el mejor modelo posible (que tenga la mayor precisión en los datos de prueba)."
      ],
      "metadata": {
        "id": "ZBOfX0w2Uxyk"
      }
    },
    {
      "cell_type": "markdown",
      "source": [
        "## Librerías"
      ],
      "metadata": {
        "id": "abMhxxlPU1Pa"
      }
    },
    {
      "cell_type": "code",
      "execution_count": 1,
      "metadata": {
        "id": "_Sts_oXNUOW9"
      },
      "outputs": [],
      "source": [
        "import numpy as np\n",
        "import matplotlib.pyplot as plt\n",
        "import pandas as pd\n",
        "from sklearn.preprocessing import StandardScaler\n",
        "from tensorflow.keras.models import Sequential\n",
        "from tensorflow.keras.layers import Dense, Flatten, Conv2D, MaxPooling2D\n",
        "from tensorflow.keras.utils import to_categorical\n",
        "from tensorflow.keras.datasets import mnist"
      ]
    },
    {
      "cell_type": "code",
      "source": [
        ""
      ],
      "metadata": {
        "id": "hoQssouAUzxq"
      },
      "execution_count": null,
      "outputs": []
    }
  ]
}